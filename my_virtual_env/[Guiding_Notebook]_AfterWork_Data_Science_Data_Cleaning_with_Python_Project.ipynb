{
 "cells": [
  {
   "cell_type": "markdown",
   "metadata": {
    "id": "y1HW8GjoS7AN"
   },
   "source": [
    "# [Guiding Notebook] Data Cleaning with Python Project"
   ]
  },
  {
   "cell_type": "markdown",
   "metadata": {
    "id": "kLG2VTrnTvYL"
   },
   "source": [
    "## 1. Defining the Question"
   ]
  },
  {
   "cell_type": "markdown",
   "metadata": {
    "id": "XecOwPNorl2W"
   },
   "source": [
    "### a) Specifying the Data Analysis Question"
   ]
  },
  {
   "cell_type": "markdown",
   "metadata": {
    "id": "pZykmRrbGd13"
   },
   "source": [
    "Specify the reasearch question that you'll be answering."
   ]
  },
  {
   "cell_type": "markdown",
   "metadata": {
    "id": "ym7-i7auXZPg"
   },
   "source": [
    "> i.e. Which was the most improved country year 2017 - 2018 as per the GDP ranking?"
   ]
  },
  {
   "cell_type": "markdown",
   "metadata": {
    "id": "J4wfHZwQrs-t"
   },
   "source": [
    "### b) Defining the Metric for Success"
   ]
  },
  {
   "cell_type": "markdown",
   "metadata": {
    "id": "IuQcoaLFGjkH"
   },
   "source": [
    "How will you know that your solution will have satisfied your research question?"
   ]
  },
  {
   "cell_type": "markdown",
   "metadata": {
    "id": "a9BPYqunry97"
   },
   "source": [
    "### c) Understanding the context"
   ]
  },
  {
   "cell_type": "markdown",
   "metadata": {
    "id": "2jeqV9VPG1tg"
   },
   "source": [
    "Provide some background information...."
   ]
  },
  {
   "cell_type": "markdown",
   "metadata": {
    "id": "7KMRBJ7zr9HD"
   },
   "source": [
    "### d) Recording the Experimental Design"
   ]
  },
  {
   "cell_type": "markdown",
   "metadata": {
    "id": "YG0dB0_PG5_i"
   },
   "source": [
    "Describe the steps/approach that you will use to answer the given question."
   ]
  },
  {
   "cell_type": "markdown",
   "metadata": {
    "id": "zSGyg6kWsBUl"
   },
   "source": [
    "### e) Data Relevance"
   ]
  },
  {
   "cell_type": "markdown",
   "metadata": {
    "id": "UogUWzkTHJ9D"
   },
   "source": [
    "How relevant was the provided data?"
   ]
  },
  {
   "cell_type": "markdown",
   "metadata": {
    "id": "iUNbvIvnT7ep"
   },
   "source": [
    "## 2. Reading the Data"
   ]
  },
  {
   "cell_type": "code",
   "execution_count": 1,
   "metadata": {
    "id": "STUSuuyTTBgx"
   },
   "outputs": [
    {
     "ename": "ModuleNotFoundError",
     "evalue": "No module named 'pandas'",
     "output_type": "error",
     "traceback": [
      "\u001b[1;31m---------------------------------------------------------------------------\u001b[0m",
      "\u001b[1;31mModuleNotFoundError\u001b[0m                       Traceback (most recent call last)",
      "Cell \u001b[1;32mIn[1], line 3\u001b[0m\n\u001b[0;32m      1\u001b[0m \u001b[38;5;66;03m# Importing our libraries\u001b[39;00m\n\u001b[0;32m      2\u001b[0m \u001b[38;5;66;03m# ---\u001b[39;00m\n\u001b[1;32m----> 3\u001b[0m \u001b[38;5;28;01mimport\u001b[39;00m\u001b[38;5;250m \u001b[39m\u001b[38;5;21;01mpandas\u001b[39;00m\u001b[38;5;250m \u001b[39m\u001b[38;5;28;01mas\u001b[39;00m\u001b[38;5;250m \u001b[39m\u001b[38;5;21;01mpd\u001b[39;00m\n",
      "\u001b[1;31mModuleNotFoundError\u001b[0m: No module named 'pandas'"
     ]
    }
   ],
   "source": [
    "# Importing our libraries\n",
    "# ---\n",
    "import pandas as pd"
   ]
  },
  {
   "cell_type": "code",
   "execution_count": null,
   "metadata": {
    "id": "XJn2KjW-WMlG"
   },
   "outputs": [],
   "source": [
    "# Load the data below\n",
    "# ---\n",
    "# Dataset url = https://bit.ly/BusBreakdownDataset\n",
    "# ---\n",
    "#"
   ]
  },
  {
   "cell_type": "code",
   "execution_count": null,
   "metadata": {
    "id": "7168_y8EhZg7"
   },
   "outputs": [],
   "source": [
    "# Checking the first 5 rows of data\n",
    "# ---\n",
    "#"
   ]
  },
  {
   "cell_type": "code",
   "execution_count": null,
   "metadata": {
    "id": "87pOSl5MhcdL"
   },
   "outputs": [],
   "source": [
    "# Checking the last 5 rows of data\n",
    "# ---\n",
    "#"
   ]
  },
  {
   "cell_type": "code",
   "execution_count": null,
   "metadata": {
    "id": "a8yvg3qQl_HF"
   },
   "outputs": [],
   "source": [
    "# Sample 10 rows of data\n",
    "# ---\n",
    "#"
   ]
  },
  {
   "cell_type": "code",
   "execution_count": null,
   "metadata": {
    "id": "x3sfP6y2hgIS"
   },
   "outputs": [],
   "source": [
    "# Checking number of rows and columns\n",
    "# ---\n",
    "#"
   ]
  },
  {
   "cell_type": "code",
   "execution_count": null,
   "metadata": {
    "id": "AovarG6Bhk4y"
   },
   "outputs": [],
   "source": [
    "# Checking datatypes\n",
    "# ---\n",
    "#"
   ]
  },
  {
   "cell_type": "markdown",
   "metadata": {
    "id": "sKNcQTasmCgA"
   },
   "source": [
    "Record your observations below:\n",
    "\n",
    "*   Observation 1\n",
    "*   Observation 2\n",
    "\n"
   ]
  },
  {
   "cell_type": "markdown",
   "metadata": {
    "id": "ckfufNrcUHeH"
   },
   "source": [
    "## 3. External Data Source Validation"
   ]
  },
  {
   "cell_type": "markdown",
   "metadata": {
    "id": "6L4sl_0WXlbg"
   },
   "source": [
    "You can make sure your data matches other credible information. This ensures that the measurements are roughly in line with what they should be and it serves as a check on what other things might be wrong in your dataset.\n",
    "\n",
    "External validation can often be as simple as checking your data against some other data i.e. country population your dataset with country population on world bank data.\n",
    "\n",
    "Replace the text found on this text cell with your external data source validation information."
   ]
  },
  {
   "cell_type": "markdown",
   "metadata": {
    "id": "FlBMxEDBUc9B"
   },
   "source": [
    "## 4. Data Preparation"
   ]
  },
  {
   "cell_type": "markdown",
   "metadata": {
    "id": "YNtWOlYAkcO_"
   },
   "source": [
    "### Performing Data Cleaning"
   ]
  },
  {
   "cell_type": "code",
   "execution_count": null,
   "metadata": {
    "id": "YYxrLT0GiQSc"
   },
   "outputs": [],
   "source": [
    "# Checking datatypes and missing entries of all the variables\n",
    "# ---\n",
    "#"
   ]
  },
  {
   "cell_type": "markdown",
   "metadata": {
    "id": "NSgG917YmgbK"
   },
   "source": [
    "We observe the following from our dataset:\n",
    "\n",
    "*   Observation 1\n",
    "*   Observation 2\n",
    "\n"
   ]
  },
  {
   "cell_type": "code",
   "execution_count": null,
   "metadata": {
    "id": "ydiwcHbkHSMt"
   },
   "outputs": [],
   "source": [
    "# Standardizing your dataset i.e. variable renaming\n",
    "# ---\n",
    "#"
   ]
  },
  {
   "cell_type": "markdown",
   "metadata": {
    "id": "ijz_pJT4ml-i"
   },
   "source": [
    "We observe the following from our dataset:\n",
    "\n",
    "*   Observation 1\n",
    "*   Observation 2\n",
    "\n"
   ]
  },
  {
   "cell_type": "code",
   "execution_count": null,
   "metadata": {
    "id": "VcfnxBJciRet"
   },
   "outputs": [],
   "source": [
    "# Checking how many duplicate rows are there in the data\n",
    "# ---\n",
    "#"
   ]
  },
  {
   "cell_type": "markdown",
   "metadata": {
    "id": "6iP8KPKImnvC"
   },
   "source": [
    "We observe the following from our dataset:\n",
    "\n",
    "*   Observation 1\n",
    "*   Observation 2\n",
    "\n"
   ]
  },
  {
   "cell_type": "code",
   "execution_count": null,
   "metadata": {
    "id": "fwXq9B1LjlaN"
   },
   "outputs": [],
   "source": [
    "# Checking if any of the columns are all null\n",
    "# ---\n",
    "#"
   ]
  },
  {
   "cell_type": "markdown",
   "metadata": {
    "id": "qqZJ1NF3mxHh"
   },
   "source": [
    "We observe the following from our dataset:\n",
    "\n",
    "*   Observation 1\n",
    "*   Observation 2\n",
    "\n"
   ]
  },
  {
   "cell_type": "code",
   "execution_count": null,
   "metadata": {
    "id": "NsvDZHqxjrdx"
   },
   "outputs": [],
   "source": [
    "# Checking if any of the rows are all null\n",
    "# ---\n",
    "#"
   ]
  },
  {
   "cell_type": "markdown",
   "metadata": {
    "id": "k-i3KQTLnBvZ"
   },
   "source": [
    "We observe the following from our dataset:\n",
    "\n",
    "*   Observation 1\n",
    "*   Observation 2\n",
    "\n"
   ]
  },
  {
   "cell_type": "code",
   "execution_count": null,
   "metadata": {
    "id": "LRdCkarYiin-"
   },
   "outputs": [],
   "source": [
    "# Checking if the \"Yes/No\" fields contain only these 2 values\n",
    "# for have_you_alerted_opt variable\n",
    "# ---\n",
    "# Hint: Use unique() function\n",
    "#"
   ]
  },
  {
   "cell_type": "markdown",
   "metadata": {
    "id": "dB335aOVnCxj"
   },
   "source": [
    "We observe the following from our dataset:\n",
    "\n",
    "*   Observation 1\n",
    "*   Observation 2\n",
    "\n"
   ]
  },
  {
   "cell_type": "code",
   "execution_count": null,
   "metadata": {
    "id": "JbPVfstMikvf"
   },
   "outputs": [],
   "source": [
    "# Checking if the \"Yes/No\" fields contain only these 2 values\n",
    "# for has_contractor_notified_parents variable\n",
    "# ---\n",
    "#"
   ]
  },
  {
   "cell_type": "markdown",
   "metadata": {
    "id": "W_YnOORcnGYw"
   },
   "source": [
    "We observe the following from our dataset:\n",
    "\n",
    "*   Observation 1\n",
    "*   Observation 2\n",
    "\n"
   ]
  },
  {
   "cell_type": "code",
   "execution_count": null,
   "metadata": {
    "id": "_1b7RAbNi3xf"
   },
   "outputs": [],
   "source": [
    "# Checking if the \"Yes/No\" fields contain only these 2 values\n",
    "# for has_contractor_notified_schools variable\n",
    "# ---\n",
    "#"
   ]
  },
  {
   "cell_type": "markdown",
   "metadata": {
    "id": "vBRzzYPinIdJ"
   },
   "source": [
    "We observe the following from our dataset:\n",
    "\n",
    "*   Observation 1\n",
    "*   Observation 2\n",
    "\n"
   ]
  },
  {
   "cell_type": "code",
   "execution_count": null,
   "metadata": {
    "id": "moY8-oqAjt7k"
   },
   "outputs": [],
   "source": [
    "# Checking unique values in break_down_or_running_late variable to ensure there is no duplication\n",
    "# ---\n",
    "#"
   ]
  },
  {
   "cell_type": "code",
   "execution_count": null,
   "metadata": {
    "id": "ICemYiD1kQTK"
   },
   "outputs": [],
   "source": [
    "# Checking unique values in school_age_or_prek variable\n",
    "# ---\n",
    "#"
   ]
  },
  {
   "cell_type": "code",
   "execution_count": null,
   "metadata": {
    "id": "geEgU4KhkUkF"
   },
   "outputs": [],
   "source": [
    "# Checking unique values in school_year variable\n",
    "# ---\n",
    "#"
   ]
  },
  {
   "cell_type": "code",
   "execution_count": null,
   "metadata": {
    "id": "xo1liVO-kU6R"
   },
   "outputs": [],
   "source": [
    "# Checking unique values in reason variable\n",
    "# ---\n",
    "#"
   ]
  },
  {
   "cell_type": "code",
   "execution_count": null,
   "metadata": {
    "id": "D_g8UMAtkWRO"
   },
   "outputs": [],
   "source": [
    "# Checking unique values in run_type variable\n",
    "# ---\n",
    "#"
   ]
  },
  {
   "cell_type": "code",
   "execution_count": null,
   "metadata": {
    "id": "xwmxKhGmkYNK"
   },
   "outputs": [],
   "source": [
    "# Checking unique values in boro variable\n",
    "# ---\n",
    "#"
   ]
  },
  {
   "cell_type": "markdown",
   "metadata": {
    "id": "g8b_wULuodN8"
   },
   "source": [
    "### Overall Data Cleaning Observations\n",
    "**Missing Values**\n",
    "\n",
    "- There are a large number of missing values in the fields \"How_Long_Delayed\" which is important to our analysis.\n",
    "- There is an extremely large number of missing values in the \"Incident_number\" field but this is not incidental to our analysis and cannot be filled in without additional information.\n",
    "\n",
    "**Error in values**\n",
    "\n",
    "- \"How_Long_Delayed\" contains string values such as \"MINS\" or \"mins\" and a range of values, which needs to be changed to single integer value for our analysis.\n",
    "\n",
    "**Error in Datatypes**\n",
    "\n",
    "- \"How_Long_Delayed\" is a string datatype, should be converted to integer type.\n",
    "\n",
    "**Error in field names**\n",
    "- The column name \"Boro\" should be renamed to \"Borough\".\n"
   ]
  },
  {
   "cell_type": "markdown",
   "metadata": {
    "id": "EUXeWCRuprIp"
   },
   "source": [
    "### Next Steps: Data Cleaning Steps\n",
    "\n",
    "**Error in values**\n",
    "\n",
    "- Extract the first integer value (lowest delay time) in the column \"How_Long_Delayed\"\n",
    "\n",
    "\n",
    "**Missing Values**\n",
    "\n",
    "- Impute the missing values in the field \"How_Long_Delayed\" with the mean value.\n",
    "\n",
    "\n",
    "**Error in Datatypes**\n",
    "\n",
    "- Convert \"How_Long_Delayed\" to int datatype.\n",
    "\n",
    "\n",
    "\n",
    "**Error in field names**\n",
    "\n",
    "- Rename the column \"Boro\" to \"Borough\"."
   ]
  },
  {
   "cell_type": "code",
   "execution_count": null,
   "metadata": {
    "id": "27EznvNypkVb"
   },
   "outputs": [],
   "source": [
    "# Lets first start by creating a copy of our dataframe\n",
    "# df_clean = df.copy(). We will use this copy as our cleaning copy.\n",
    "# ---\n",
    "#\n",
    "df_clean = df.copy()\n",
    "df_clean.head()"
   ]
  },
  {
   "cell_type": "code",
   "execution_count": null,
   "metadata": {
    "id": "qlfP46wxqGIb"
   },
   "outputs": [],
   "source": [
    "# Then extracting the lowest delay time in the column how_long_delayed from the string\n",
    "#\n",
    "df_clean['how_long_delayed'] = df_clean['how_long_delayed'].str.extract('(\\d+)')\n",
    "df_clean['how_long_delayed'].head()"
   ]
  },
  {
   "cell_type": "markdown",
   "metadata": {
    "id": "5TCaPQwzqZwx"
   },
   "source": [
    "We impute the null values in 'how_long_delayed' column with mean of the column. This will take a couple of steps..."
   ]
  },
  {
   "cell_type": "code",
   "execution_count": null,
   "metadata": {
    "id": "jk49oxooqOLB"
   },
   "outputs": [],
   "source": [
    "# We first convert our how_long_delayed to float type to allow for imputation\n",
    "# ---\n",
    "#"
   ]
  },
  {
   "cell_type": "code",
   "execution_count": null,
   "metadata": {
    "id": "9gkyJ9frqlTP"
   },
   "outputs": [],
   "source": [
    "# Then later perform our mean imputation\n",
    "# ---\n",
    "#"
   ]
  },
  {
   "cell_type": "code",
   "execution_count": null,
   "metadata": {
    "id": "2BjIJBjdq05B"
   },
   "outputs": [],
   "source": [
    "# Then convert back our how_long_delayed column to integer datatype\n",
    "# ---\n",
    "#"
   ]
  },
  {
   "cell_type": "code",
   "execution_count": null,
   "metadata": {
    "id": "PL3Mx2GjrDhD"
   },
   "outputs": [],
   "source": [
    "# Then check for nulls in the column\n",
    "# ---\n",
    "#"
   ]
  },
  {
   "cell_type": "code",
   "execution_count": null,
   "metadata": {
    "id": "v8s5E8v6rJzX"
   },
   "outputs": [],
   "source": [
    "# Rename Boro column to Borough\n",
    "# ---\n",
    "#"
   ]
  },
  {
   "cell_type": "code",
   "execution_count": null,
   "metadata": {
    "id": "AbYznrWJ2BC1"
   },
   "outputs": [],
   "source": [
    "# Lastly we convert all values in our colums to lower case\n",
    "# for ease of reading\n",
    "# ---\n",
    "#"
   ]
  },
  {
   "cell_type": "code",
   "execution_count": null,
   "metadata": {
    "id": "Fe3IzcDyrS_6"
   },
   "outputs": [],
   "source": [
    "# Check the first 5 record the cleaned dataset\n",
    "# ---\n",
    "#\n",
    "df_clean.head()"
   ]
  },
  {
   "cell_type": "markdown",
   "metadata": {
    "id": "vTbdjSrhVIiT"
   },
   "source": [
    "\n",
    "## 5. Solution Implementation"
   ]
  },
  {
   "cell_type": "markdown",
   "metadata": {
    "id": "PdHyc8WYHlAG"
   },
   "source": [
    "Here we investigate the questions that would help craft our recommendations."
   ]
  },
  {
   "cell_type": "markdown",
   "metadata": {
    "id": "Nh5mcts5IK8U"
   },
   "source": [
    "### 5.a) Questions"
   ]
  },
  {
   "cell_type": "code",
   "execution_count": null,
   "metadata": {
    "id": "7Q6JR-4yfVHf"
   },
   "outputs": [],
   "source": [
    "# 1. Which bus companies that had the highest breakdowns?\n",
    "# ---\n",
    "#\n",
    "breakdowns = df_clean.groupby(['bus_company_name']).count()\n",
    "\n",
    "# Sort to get bus company with highest breakdowns\n",
    "# ---\n",
    "# YOUR CODE GOES BELOW\n",
    "#"
   ]
  },
  {
   "cell_type": "code",
   "execution_count": null,
   "metadata": {
    "id": "dYtdLdxHfVrh"
   },
   "outputs": [],
   "source": [
    "# 2. What were the top 3 reasons for bus delays?\n",
    "# ---\n",
    "#\n",
    "bus_delay = df_clean.groupby(['reason']).count()[['how_long_delayed']].reset_index()\n",
    "\n",
    "# Sort to get the most frequent reason\n",
    "# ---\n",
    "# YOUR CODE GOES BELOW\n",
    "#"
   ]
  },
  {
   "cell_type": "code",
   "execution_count": null,
   "metadata": {
    "id": "8aTP8trqsK3g"
   },
   "outputs": [],
   "source": [
    "# 3. How many students were in the buses when they broke down?\n",
    "# ---\n",
    "#\n",
    "df_clean.groupby(['number_of_students_on_the_bus']).count()[['busbreakdown_id']].reset_index()"
   ]
  },
  {
   "cell_type": "code",
   "execution_count": null,
   "metadata": {
    "id": "jz7jXe8BtLGw"
   },
   "outputs": [],
   "source": [
    "# 4. Which were most frequent reasons for bus breakdowns?\n",
    "# ---\n",
    "#\n",
    "breakdown_reasons = df_clean[df_clean.breakdown_or_running_late == 'breakdown'].groupby(['reason']).count()\n",
    "\n",
    "# Sort to get most frequent reasons\n",
    "# ---\n",
    "# YOUR CODE GOES BELOW\n",
    "#"
   ]
  },
  {
   "cell_type": "code",
   "execution_count": null,
   "metadata": {
    "id": "OKfAq-PGwhbM"
   },
   "outputs": [],
   "source": [
    "# 5. What were the most frequent reasons for the bus running late?\n",
    "# ---\n",
    "#\n",
    "reasons = df_clean.groupby(['reason','how_dong_delayed']).count()\n",
    "\n",
    "# Get the records with running late reasons and sort to get most frequent reasons\n",
    "# ---\n",
    "# YOUR CODE GOES BELOW\n",
    "#"
   ]
  },
  {
   "cell_type": "code",
   "execution_count": null,
   "metadata": {
    "id": "wwG_TiwDyvEP"
   },
   "outputs": [],
   "source": [
    "# 6. What was the average delay time for each reason type?\n",
    "# ---\n",
    "#\n",
    "avg_delay = df_clean.groupby('reason').mean().reset_index()\n",
    "\n",
    "# Get the records with reasons and how long on average a delay took then sort\n",
    "# ---\n",
    "# YOUR CODE GOES BELOW\n",
    "#"
   ]
  },
  {
   "cell_type": "markdown",
   "metadata": {
    "id": "cpmGSOOqIMrt"
   },
   "source": [
    "### 5.b) Recommendations"
   ]
  },
  {
   "cell_type": "markdown",
   "metadata": {
    "id": "wDn2whdV0Zcg"
   },
   "source": [
    "From the above analysis, below are our recommendations:\n",
    "\n",
    "1.   \n",
    "2.   \n",
    "\n",
    "\n",
    "\n"
   ]
  },
  {
   "cell_type": "markdown",
   "metadata": {
    "id": "noZz5YRQXKzi"
   },
   "source": [
    "## 6. Challenging your Solution"
   ]
  },
  {
   "cell_type": "markdown",
   "metadata": {
    "id": "wdMBFVe0XSgf"
   },
   "source": [
    "During this step, we review our solution and implement  approaches that could potentially provide a better outcome. In our case, we could propose the following question that wasn't answered in our solution because it couldn't have greatly contributed to our recommendation."
   ]
  },
  {
   "cell_type": "code",
   "execution_count": null,
   "metadata": {
    "id": "VNx-Yqb8XKzk"
   },
   "outputs": [],
   "source": [
    "# Which boroughs experienced the most breakdowns?\n",
    "# ---\n",
    "#\n",
    "breakdowns = df_clean.groupby(['borough']).count()\n",
    "\n",
    "# Sort to get bus company with highest breakdowns\n",
    "# ---\n",
    "# YOUR CODE GOES BELOW\n",
    "#"
   ]
  },
  {
   "cell_type": "markdown",
   "metadata": {
    "id": "k6kKzd-F1UW7"
   },
   "source": [
    "Our observations:\n",
    "\n",
    "1.   \n",
    "2.  \n",
    "\n",
    "\n",
    "How does this observation tie to our solution?\n",
    "\n"
   ]
  },
  {
   "cell_type": "markdown",
   "metadata": {
    "id": "xrmHVMVsVS--"
   },
   "source": [
    "## 7. Follow up questions"
   ]
  },
  {
   "cell_type": "markdown",
   "metadata": {
    "id": "pth2qSWhuBIy"
   },
   "source": [
    "During this step, you rethink and propose other ways that you can improve your solution."
   ]
  },
  {
   "cell_type": "markdown",
   "metadata": {
    "id": "HPQviDmNtta8"
   },
   "source": [
    "### a). Did we have the right data?"
   ]
  },
  {
   "cell_type": "markdown",
   "metadata": {
    "id": "qjFHK1CKty7o"
   },
   "source": [
    "### b). Do we need other data to answer our question?"
   ]
  },
  {
   "cell_type": "markdown",
   "metadata": {
    "id": "SyJMFjvmKePc"
   },
   "source": [
    "You can look into the questions you brainstormed that you weren't taken into account during analysis due to a lack of data. Were those questions important to have been left out  of your analysis?"
   ]
  },
  {
   "cell_type": "markdown",
   "metadata": {
    "id": "HSsicSdvt4Zs"
   },
   "source": [
    "### c). Did we have the right question?"
   ]
  },
  {
   "cell_type": "markdown",
   "metadata": {
    "id": "DvVFZGvNKfSv"
   },
   "source": [
    "Were there any other questions that we needed to have answered?"
   ]
  }
 ],
 "metadata": {
  "colab": {
   "provenance": [],
   "toc_visible": true
  },
  "kernelspec": {
   "display_name": "Python 3 (ipykernel)",
   "language": "python",
   "name": "python3"
  },
  "language_info": {
   "codemirror_mode": {
    "name": "ipython",
    "version": 3
   },
   "file_extension": ".py",
   "mimetype": "text/x-python",
   "name": "python",
   "nbconvert_exporter": "python",
   "pygments_lexer": "ipython3",
   "version": "3.11.9"
  }
 },
 "nbformat": 4,
 "nbformat_minor": 4
}
