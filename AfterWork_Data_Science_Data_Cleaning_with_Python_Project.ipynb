{
 "cells": [
  {
   "cell_type": "markdown",
   "metadata": {
    "id": "y1HW8GjoS7AN"
   },
   "source": [
    "# [Guiding Notebook] Data Cleaning with Python Project"
   ]
  },
  {
   "cell_type": "markdown",
   "metadata": {
    "id": "kLG2VTrnTvYL"
   },
   "source": [
    "## 1. Defining the Question"
   ]
  },
  {
   "cell_type": "markdown",
   "metadata": {
    "id": "XecOwPNorl2W"
   },
   "source": [
    "### a) Specifying the Data Analysis Question"
   ]
  },
  {
   "cell_type": "markdown",
   "metadata": {
    "id": "pZykmRrbGd13"
   },
   "source": [
    "Specify the reasearch question that you'll be answering."
   ]
  },
  {
   "cell_type": "markdown",
   "metadata": {
    "id": "ym7-i7auXZPg"
   },
   "source": [
    "Primary Research Questions:\n",
    "\n",
    "1. Which bus companies had the highest breakdowns?\n",
    "2. What were the top 3 reasons for bus delays?\n",
    "3. How many students were on the buses when they broke down?\n",
    "4. What were the most frequent reasons for bus breakdowns?\n",
    "5. What were the most frequent reasons for the bus running late?\n",
    "6. What was the average delay time for each reason type?\n",
    "\n",
    "Additional Questions: 7. Are there specific times of the day or days of the week when breakdowns and delays occur most frequently? 8. Is there a seasonal trend in bus breakdowns or delays? 9. Are certain neighborhoods or routes more prone to breakdowns and delays? 10. Do specific bus companies dominate in terms of delay durations or frequency of incidents?"
   ]
  },
  {
   "cell_type": "markdown",
   "metadata": {
    "id": "J4wfHZwQrs-t"
   },
   "source": [
    "### b) Defining the Metric for Success"
   ]
  },
  {
   "cell_type": "markdown",
   "metadata": {
    "id": "IuQcoaLFGjkH"
   },
   "source": [
    "How will you know that your solution will have satisfied your research question?"
   ]
  },
  {
   "cell_type": "markdown",
   "metadata": {},
   "source": [
    " Success will be measured by our ability to extract actionable insights and provide recommendations that reduce the frequency and impact of bus breakdowns and delays."
   ]
  },
  {
   "cell_type": "markdown",
   "metadata": {
    "id": "a9BPYqunry97"
   },
   "source": [
    "### c) Understanding the context"
   ]
  },
  {
   "cell_type": "markdown",
   "metadata": {
    "id": "2jeqV9VPG1tg"
   },
   "source": [
    "The Bus Breakdown and Delay system is a real-time data collection platform used by school bus vendors in New York City. This system tracks breakdowns, delays, and other service disruptions, providing valuable data for identifying inefficiencies and areas for improvement in bus operations.\n",
    "\n",
    "The significance of the analysis lies in:\n",
    "\n",
    "1. Enhancing the reliability of bus services for students.\n",
    "2. Reducing delays and breakdowns, improving safety and parent satisfaction.\n",
    "3. Supporting decision-making for bus vendors and the city's transportation authorities."
   ]
  },
  {
   "cell_type": "markdown",
   "metadata": {
    "id": "7KMRBJ7zr9HD"
   },
   "source": [
    "### d) Recording the Experimental Design"
   ]
  },
  {
   "cell_type": "markdown",
   "metadata": {
    "id": "YG0dB0_PG5_i"
   },
   "source": [
    "To address the research questions, I will proceed with the following steps:\n",
    "\n",
    "Step 1: Defining the Metric for Success\n",
    "- Success will be measured by our ability to extract actionable insights and provide recommendations that reduce the frequency and impact of bus breakdowns and delays.\n",
    "\n",
    "Step 2: Data Understanding\n",
    "Review the dataset for an overview of key fields like:\n",
    "- Bus company names.\n",
    "- Reason for delay or breakdown.\n",
    "- Date, time, and location of incidents.\n",
    "- Number of students affected.\n",
    "- Delay durations.\n",
    "- Perform exploratory data analysis (EDA) to identify patterns, distributions, and anomalies.\n",
    "\n",
    "Step 3: Data Cleaning\n",
    "- Handle missing, inconsistent, or duplicate data entries.\n",
    "- Standardize data formats (e.g., time, location, and categorical variables).\n",
    "- Ensure numerical values (e.g., delay durations) are in appropriate units.\n",
    "\n",
    "Step 4: Data Analysis\n",
    "- Use descriptive statistics to summarize key metrics.\n",
    "- Identify patterns using visualizations (e.g., bar charts, heatmaps, and line plots).\n",
    "- Answer the research questions through detailed analysis:\n",
    "- Top breakdown companies: Aggregate breakdown counts by company.\n",
    "- Reasons for delays: Categorize and rank delay reasons.\n",
    "- Student impact: Analyze breakdown incidents and affected student counts.\n",
    "- Delay duration analysis: Calculate average delays by reason type.\n",
    "\n",
    "Step 5: Experimental Design\n",
    "- Define control variables (e.g., time of day, location) for deeper analysis.\n",
    "- Use clustering techniques to group routes or companies with similar issues.\n",
    "\n",
    "Step 6: Data Visualization\n",
    "- Use tools like Matplotlib, Seaborn, or Plotly for creating impactful visualizations.\n",
    "\n",
    "Step 7: Recommendations\n",
    "- Provide targeted recommendations based on findings, e.g.:\n",
    "- Vendor-specific training programs.\n",
    "- Preventive maintenance schedules.\n",
    "- Improved communication systems.\n"
   ]
  },
  {
   "cell_type": "markdown",
   "metadata": {
    "id": "zSGyg6kWsBUl"
   },
   "source": [
    "### e) Data Relevance"
   ]
  },
  {
   "cell_type": "markdown",
   "metadata": {
    "id": "UogUWzkTHJ9D"
   },
   "source": [
    "The provided dataset appears highly relevant, as it directly records incidents and delays logged by bus vendors. However, its utility depends on:\n",
    "\n",
    "- Completeness: Does the dataset capture all incidents or only partial data?\n",
    "- Accuracy: Are reasons for delays and breakdowns consistently recorded?\n",
    "- Coverage: Does the data cover all bus companies, routes, and time periods?"
   ]
  },
  {
   "cell_type": "markdown",
   "metadata": {},
   "source": [
    "### d) Deliverables"
   ]
  },
  {
   "cell_type": "markdown",
   "metadata": {},
   "source": [
    "- A detailed analysis report answering the research questions.\n",
    "- Visualizations illustrating key trends and insights.\n",
    "- Recommendations aimed at reducing bus breakdowns and delays."
   ]
  },
  {
   "cell_type": "markdown",
   "metadata": {
    "id": "iUNbvIvnT7ep"
   },
   "source": [
    "## 2. Reading the Data"
   ]
  },
  {
   "cell_type": "code",
   "execution_count": 2,
   "metadata": {
    "id": "STUSuuyTTBgx"
   },
   "outputs": [],
   "source": [
    "# Importing our libraries\n",
    "# ---\n",
    "import pandas as pd\n",
    "import numpy as np"
   ]
  },
  {
   "cell_type": "code",
   "execution_count": 3,
   "metadata": {
    "id": "XJn2KjW-WMlG"
   },
   "outputs": [],
   "source": [
    "# Load the data below\n",
    "# ---\n",
    "# Dataset url = https://bit.ly/BusBreakdownDataset\n",
    "# ---\n",
    "#\n",
    "df = pd.read_csv('https://bit.ly/BusBreakdownDataset')"
   ]
  },
  {
   "cell_type": "code",
   "execution_count": 4,
   "metadata": {
    "id": "7168_y8EhZg7"
   },
   "outputs": [
    {
     "data": {
      "text/html": [
       "<div>\n",
       "<style scoped>\n",
       "    .dataframe tbody tr th:only-of-type {\n",
       "        vertical-align: middle;\n",
       "    }\n",
       "\n",
       "    .dataframe tbody tr th {\n",
       "        vertical-align: top;\n",
       "    }\n",
       "\n",
       "    .dataframe thead th {\n",
       "        text-align: right;\n",
       "    }\n",
       "</style>\n",
       "<table border=\"1\" class=\"dataframe\">\n",
       "  <thead>\n",
       "    <tr style=\"text-align: right;\">\n",
       "      <th></th>\n",
       "      <th>School_Year</th>\n",
       "      <th>Busbreakdown_ID</th>\n",
       "      <th>Run_Type</th>\n",
       "      <th>Bus_No</th>\n",
       "      <th>Route_Number</th>\n",
       "      <th>Reason</th>\n",
       "      <th>Schools_Serviced</th>\n",
       "      <th>Occurred_On</th>\n",
       "      <th>Created_On</th>\n",
       "      <th>Boro</th>\n",
       "      <th>...</th>\n",
       "      <th>How_Long_Delayed</th>\n",
       "      <th>Number_Of_Students_On_The_Bus</th>\n",
       "      <th>Has_Contractor_Notified_Schools</th>\n",
       "      <th>Has_Contractor_Notified_Parents</th>\n",
       "      <th>Have_You_Alerted_OPT</th>\n",
       "      <th>Informed_On</th>\n",
       "      <th>Incident_Number</th>\n",
       "      <th>Last_Updated_On</th>\n",
       "      <th>Breakdown_or_Running_Late</th>\n",
       "      <th>School_Age_or_PreK</th>\n",
       "    </tr>\n",
       "  </thead>\n",
       "  <tbody>\n",
       "    <tr>\n",
       "      <th>0</th>\n",
       "      <td>2015-2016</td>\n",
       "      <td>1227538</td>\n",
       "      <td>Special Ed AM Run</td>\n",
       "      <td>2621</td>\n",
       "      <td>J711</td>\n",
       "      <td>Heavy Traffic</td>\n",
       "      <td>75003</td>\n",
       "      <td>11/05/2015 08:10:00 AM</td>\n",
       "      <td>11/05/2015 08:12:00 AM</td>\n",
       "      <td>New Jersey</td>\n",
       "      <td>...</td>\n",
       "      <td>NaN</td>\n",
       "      <td>11</td>\n",
       "      <td>Yes</td>\n",
       "      <td>No</td>\n",
       "      <td>Yes</td>\n",
       "      <td>11/05/2015 08:12:00 AM</td>\n",
       "      <td>NaN</td>\n",
       "      <td>11/05/2015 08:12:14 AM</td>\n",
       "      <td>Running Late</td>\n",
       "      <td>School-Age</td>\n",
       "    </tr>\n",
       "    <tr>\n",
       "      <th>1</th>\n",
       "      <td>2015-2016</td>\n",
       "      <td>1227539</td>\n",
       "      <td>Special Ed AM Run</td>\n",
       "      <td>1260</td>\n",
       "      <td>M351</td>\n",
       "      <td>Heavy Traffic</td>\n",
       "      <td>06716</td>\n",
       "      <td>11/05/2015 08:10:00 AM</td>\n",
       "      <td>11/05/2015 08:12:00 AM</td>\n",
       "      <td>Manhattan</td>\n",
       "      <td>...</td>\n",
       "      <td>20MNS</td>\n",
       "      <td>2</td>\n",
       "      <td>Yes</td>\n",
       "      <td>Yes</td>\n",
       "      <td>No</td>\n",
       "      <td>11/05/2015 08:12:00 AM</td>\n",
       "      <td>NaN</td>\n",
       "      <td>11/05/2015 08:13:34 AM</td>\n",
       "      <td>Running Late</td>\n",
       "      <td>School-Age</td>\n",
       "    </tr>\n",
       "    <tr>\n",
       "      <th>2</th>\n",
       "      <td>2015-2016</td>\n",
       "      <td>1227540</td>\n",
       "      <td>Pre-K/EI</td>\n",
       "      <td>418</td>\n",
       "      <td>3</td>\n",
       "      <td>Heavy Traffic</td>\n",
       "      <td>C445</td>\n",
       "      <td>11/05/2015 08:09:00 AM</td>\n",
       "      <td>11/05/2015 08:13:00 AM</td>\n",
       "      <td>Bronx</td>\n",
       "      <td>...</td>\n",
       "      <td>15MIN</td>\n",
       "      <td>8</td>\n",
       "      <td>Yes</td>\n",
       "      <td>Yes</td>\n",
       "      <td>Yes</td>\n",
       "      <td>11/05/2015 08:13:00 AM</td>\n",
       "      <td>NaN</td>\n",
       "      <td>11/05/2015 08:13:22 AM</td>\n",
       "      <td>Running Late</td>\n",
       "      <td>Pre-K</td>\n",
       "    </tr>\n",
       "    <tr>\n",
       "      <th>3</th>\n",
       "      <td>2015-2016</td>\n",
       "      <td>1227541</td>\n",
       "      <td>Special Ed AM Run</td>\n",
       "      <td>4522</td>\n",
       "      <td>M271</td>\n",
       "      <td>Heavy Traffic</td>\n",
       "      <td>02699</td>\n",
       "      <td>11/05/2015 08:12:00 AM</td>\n",
       "      <td>11/05/2015 08:14:00 AM</td>\n",
       "      <td>Manhattan</td>\n",
       "      <td>...</td>\n",
       "      <td>15 MIN</td>\n",
       "      <td>6</td>\n",
       "      <td>No</td>\n",
       "      <td>No</td>\n",
       "      <td>No</td>\n",
       "      <td>11/05/2015 08:14:00 AM</td>\n",
       "      <td>NaN</td>\n",
       "      <td>11/05/2015 08:14:04 AM</td>\n",
       "      <td>Running Late</td>\n",
       "      <td>School-Age</td>\n",
       "    </tr>\n",
       "    <tr>\n",
       "      <th>4</th>\n",
       "      <td>2015-2016</td>\n",
       "      <td>1227542</td>\n",
       "      <td>Special Ed AM Run</td>\n",
       "      <td>3124</td>\n",
       "      <td>M373</td>\n",
       "      <td>Heavy Traffic</td>\n",
       "      <td>02116</td>\n",
       "      <td>11/05/2015 08:13:00 AM</td>\n",
       "      <td>11/05/2015 08:14:00 AM</td>\n",
       "      <td>Manhattan</td>\n",
       "      <td>...</td>\n",
       "      <td>NaN</td>\n",
       "      <td>6</td>\n",
       "      <td>No</td>\n",
       "      <td>No</td>\n",
       "      <td>No</td>\n",
       "      <td>11/05/2015 08:14:00 AM</td>\n",
       "      <td>NaN</td>\n",
       "      <td>11/05/2015 08:14:08 AM</td>\n",
       "      <td>Running Late</td>\n",
       "      <td>School-Age</td>\n",
       "    </tr>\n",
       "  </tbody>\n",
       "</table>\n",
       "<p>5 rows × 21 columns</p>\n",
       "</div>"
      ],
      "text/plain": [
       "  School_Year  Busbreakdown_ID           Run_Type Bus_No Route_Number  \\\n",
       "0   2015-2016          1227538  Special Ed AM Run   2621         J711   \n",
       "1   2015-2016          1227539  Special Ed AM Run   1260         M351   \n",
       "2   2015-2016          1227540           Pre-K/EI    418            3   \n",
       "3   2015-2016          1227541  Special Ed AM Run   4522         M271   \n",
       "4   2015-2016          1227542  Special Ed AM Run   3124         M373   \n",
       "\n",
       "          Reason Schools_Serviced             Occurred_On  \\\n",
       "0  Heavy Traffic            75003  11/05/2015 08:10:00 AM   \n",
       "1  Heavy Traffic            06716  11/05/2015 08:10:00 AM   \n",
       "2  Heavy Traffic             C445  11/05/2015 08:09:00 AM   \n",
       "3  Heavy Traffic            02699  11/05/2015 08:12:00 AM   \n",
       "4  Heavy Traffic            02116  11/05/2015 08:13:00 AM   \n",
       "\n",
       "               Created_On        Boro  ... How_Long_Delayed  \\\n",
       "0  11/05/2015 08:12:00 AM  New Jersey  ...              NaN   \n",
       "1  11/05/2015 08:12:00 AM   Manhattan  ...            20MNS   \n",
       "2  11/05/2015 08:13:00 AM       Bronx  ...            15MIN   \n",
       "3  11/05/2015 08:14:00 AM   Manhattan  ...           15 MIN   \n",
       "4  11/05/2015 08:14:00 AM   Manhattan  ...              NaN   \n",
       "\n",
       "  Number_Of_Students_On_The_Bus  Has_Contractor_Notified_Schools  \\\n",
       "0                            11                              Yes   \n",
       "1                             2                              Yes   \n",
       "2                             8                              Yes   \n",
       "3                             6                               No   \n",
       "4                             6                               No   \n",
       "\n",
       "  Has_Contractor_Notified_Parents Have_You_Alerted_OPT  \\\n",
       "0                              No                  Yes   \n",
       "1                             Yes                   No   \n",
       "2                             Yes                  Yes   \n",
       "3                              No                   No   \n",
       "4                              No                   No   \n",
       "\n",
       "              Informed_On Incident_Number         Last_Updated_On  \\\n",
       "0  11/05/2015 08:12:00 AM             NaN  11/05/2015 08:12:14 AM   \n",
       "1  11/05/2015 08:12:00 AM             NaN  11/05/2015 08:13:34 AM   \n",
       "2  11/05/2015 08:13:00 AM             NaN  11/05/2015 08:13:22 AM   \n",
       "3  11/05/2015 08:14:00 AM             NaN  11/05/2015 08:14:04 AM   \n",
       "4  11/05/2015 08:14:00 AM             NaN  11/05/2015 08:14:08 AM   \n",
       "\n",
       "  Breakdown_or_Running_Late School_Age_or_PreK  \n",
       "0              Running Late         School-Age  \n",
       "1              Running Late         School-Age  \n",
       "2              Running Late              Pre-K  \n",
       "3              Running Late         School-Age  \n",
       "4              Running Late         School-Age  \n",
       "\n",
       "[5 rows x 21 columns]"
      ]
     },
     "execution_count": 4,
     "metadata": {},
     "output_type": "execute_result"
    }
   ],
   "source": [
    "# Checking the first 5 rows of data\n",
    "# ---\n",
    "#\n",
    "df.head()"
   ]
  },
  {
   "cell_type": "code",
   "execution_count": 5,
   "metadata": {
    "id": "87pOSl5MhcdL"
   },
   "outputs": [
    {
     "data": {
      "text/html": [
       "<div>\n",
       "<style scoped>\n",
       "    .dataframe tbody tr th:only-of-type {\n",
       "        vertical-align: middle;\n",
       "    }\n",
       "\n",
       "    .dataframe tbody tr th {\n",
       "        vertical-align: top;\n",
       "    }\n",
       "\n",
       "    .dataframe thead th {\n",
       "        text-align: right;\n",
       "    }\n",
       "</style>\n",
       "<table border=\"1\" class=\"dataframe\">\n",
       "  <thead>\n",
       "    <tr style=\"text-align: right;\">\n",
       "      <th></th>\n",
       "      <th>School_Year</th>\n",
       "      <th>Busbreakdown_ID</th>\n",
       "      <th>Run_Type</th>\n",
       "      <th>Bus_No</th>\n",
       "      <th>Route_Number</th>\n",
       "      <th>Reason</th>\n",
       "      <th>Schools_Serviced</th>\n",
       "      <th>Occurred_On</th>\n",
       "      <th>Created_On</th>\n",
       "      <th>Boro</th>\n",
       "      <th>...</th>\n",
       "      <th>How_Long_Delayed</th>\n",
       "      <th>Number_Of_Students_On_The_Bus</th>\n",
       "      <th>Has_Contractor_Notified_Schools</th>\n",
       "      <th>Has_Contractor_Notified_Parents</th>\n",
       "      <th>Have_You_Alerted_OPT</th>\n",
       "      <th>Informed_On</th>\n",
       "      <th>Incident_Number</th>\n",
       "      <th>Last_Updated_On</th>\n",
       "      <th>Breakdown_or_Running_Late</th>\n",
       "      <th>School_Age_or_PreK</th>\n",
       "    </tr>\n",
       "  </thead>\n",
       "  <tbody>\n",
       "    <tr>\n",
       "      <th>281105</th>\n",
       "      <td>2016-2017</td>\n",
       "      <td>1338452</td>\n",
       "      <td>Pre-K/EI</td>\n",
       "      <td>9345</td>\n",
       "      <td>2</td>\n",
       "      <td>Heavy Traffic</td>\n",
       "      <td>C530</td>\n",
       "      <td>04/05/2017 08:00:00 AM</td>\n",
       "      <td>04/05/2017 08:10:00 AM</td>\n",
       "      <td>Bronx</td>\n",
       "      <td>...</td>\n",
       "      <td>15-20</td>\n",
       "      <td>7</td>\n",
       "      <td>Yes</td>\n",
       "      <td>Yes</td>\n",
       "      <td>No</td>\n",
       "      <td>04/05/2017 08:10:00 AM</td>\n",
       "      <td>NaN</td>\n",
       "      <td>04/05/2017 08:10:15 AM</td>\n",
       "      <td>Running Late</td>\n",
       "      <td>Pre-K</td>\n",
       "    </tr>\n",
       "    <tr>\n",
       "      <th>281106</th>\n",
       "      <td>2016-2017</td>\n",
       "      <td>1341521</td>\n",
       "      <td>Pre-K/EI</td>\n",
       "      <td>0001</td>\n",
       "      <td>5</td>\n",
       "      <td>Heavy Traffic</td>\n",
       "      <td>C579</td>\n",
       "      <td>04/24/2017 07:42:00 AM</td>\n",
       "      <td>04/24/2017 07:44:00 AM</td>\n",
       "      <td>Bronx</td>\n",
       "      <td>...</td>\n",
       "      <td>20 MINS</td>\n",
       "      <td>0</td>\n",
       "      <td>Yes</td>\n",
       "      <td>Yes</td>\n",
       "      <td>No</td>\n",
       "      <td>04/24/2017 07:44:00 AM</td>\n",
       "      <td>NaN</td>\n",
       "      <td>04/24/2017 07:44:15 AM</td>\n",
       "      <td>Running Late</td>\n",
       "      <td>Pre-K</td>\n",
       "    </tr>\n",
       "    <tr>\n",
       "      <th>281107</th>\n",
       "      <td>2016-2017</td>\n",
       "      <td>1353044</td>\n",
       "      <td>Special Ed PM Run</td>\n",
       "      <td>GC0112</td>\n",
       "      <td>X928</td>\n",
       "      <td>Heavy Traffic</td>\n",
       "      <td>09003</td>\n",
       "      <td>05/25/2017 04:22:00 PM</td>\n",
       "      <td>05/25/2017 04:28:00 PM</td>\n",
       "      <td>Bronx</td>\n",
       "      <td>...</td>\n",
       "      <td>20-25MINS</td>\n",
       "      <td>0</td>\n",
       "      <td>Yes</td>\n",
       "      <td>Yes</td>\n",
       "      <td>Yes</td>\n",
       "      <td>05/25/2017 04:28:00 PM</td>\n",
       "      <td>90323827</td>\n",
       "      <td>05/25/2017 04:34:36 PM</td>\n",
       "      <td>Running Late</td>\n",
       "      <td>School-Age</td>\n",
       "    </tr>\n",
       "    <tr>\n",
       "      <th>281108</th>\n",
       "      <td>2016-2017</td>\n",
       "      <td>1353045</td>\n",
       "      <td>Special Ed PM Run</td>\n",
       "      <td>5525D</td>\n",
       "      <td>Q920</td>\n",
       "      <td>Won`t Start</td>\n",
       "      <td>24457</td>\n",
       "      <td>05/25/2017 04:27:00 PM</td>\n",
       "      <td>05/25/2017 04:30:00 PM</td>\n",
       "      <td>Queens</td>\n",
       "      <td>...</td>\n",
       "      <td>NaN</td>\n",
       "      <td>0</td>\n",
       "      <td>Yes</td>\n",
       "      <td>Yes</td>\n",
       "      <td>No</td>\n",
       "      <td>05/25/2017 04:30:00 PM</td>\n",
       "      <td>NaN</td>\n",
       "      <td>05/25/2017 04:30:07 PM</td>\n",
       "      <td>Breakdown</td>\n",
       "      <td>School-Age</td>\n",
       "    </tr>\n",
       "    <tr>\n",
       "      <th>281109</th>\n",
       "      <td>2016-2017</td>\n",
       "      <td>1353046</td>\n",
       "      <td>Project Read PM Run</td>\n",
       "      <td>2530</td>\n",
       "      <td>K617</td>\n",
       "      <td>Other</td>\n",
       "      <td>21436</td>\n",
       "      <td>05/25/2017 04:36:00 PM</td>\n",
       "      <td>05/25/2017 04:37:00 PM</td>\n",
       "      <td>Brooklyn</td>\n",
       "      <td>...</td>\n",
       "      <td>45min</td>\n",
       "      <td>7</td>\n",
       "      <td>Yes</td>\n",
       "      <td>Yes</td>\n",
       "      <td>Yes</td>\n",
       "      <td>05/25/2017 04:37:00 PM</td>\n",
       "      <td>NaN</td>\n",
       "      <td>05/25/2017 04:37:37 PM</td>\n",
       "      <td>Running Late</td>\n",
       "      <td>School-Age</td>\n",
       "    </tr>\n",
       "  </tbody>\n",
       "</table>\n",
       "<p>5 rows × 21 columns</p>\n",
       "</div>"
      ],
      "text/plain": [
       "       School_Year  Busbreakdown_ID             Run_Type  Bus_No Route_Number  \\\n",
       "281105   2016-2017          1338452             Pre-K/EI    9345            2   \n",
       "281106   2016-2017          1341521             Pre-K/EI    0001            5   \n",
       "281107   2016-2017          1353044    Special Ed PM Run  GC0112         X928   \n",
       "281108   2016-2017          1353045    Special Ed PM Run   5525D         Q920   \n",
       "281109   2016-2017          1353046  Project Read PM Run    2530         K617   \n",
       "\n",
       "               Reason Schools_Serviced             Occurred_On  \\\n",
       "281105  Heavy Traffic             C530  04/05/2017 08:00:00 AM   \n",
       "281106  Heavy Traffic             C579  04/24/2017 07:42:00 AM   \n",
       "281107  Heavy Traffic            09003  05/25/2017 04:22:00 PM   \n",
       "281108    Won`t Start            24457  05/25/2017 04:27:00 PM   \n",
       "281109          Other            21436  05/25/2017 04:36:00 PM   \n",
       "\n",
       "                    Created_On      Boro  ... How_Long_Delayed  \\\n",
       "281105  04/05/2017 08:10:00 AM     Bronx  ...            15-20   \n",
       "281106  04/24/2017 07:44:00 AM     Bronx  ...          20 MINS   \n",
       "281107  05/25/2017 04:28:00 PM     Bronx  ...        20-25MINS   \n",
       "281108  05/25/2017 04:30:00 PM    Queens  ...              NaN   \n",
       "281109  05/25/2017 04:37:00 PM  Brooklyn  ...            45min   \n",
       "\n",
       "       Number_Of_Students_On_The_Bus  Has_Contractor_Notified_Schools  \\\n",
       "281105                             7                              Yes   \n",
       "281106                             0                              Yes   \n",
       "281107                             0                              Yes   \n",
       "281108                             0                              Yes   \n",
       "281109                             7                              Yes   \n",
       "\n",
       "       Has_Contractor_Notified_Parents Have_You_Alerted_OPT  \\\n",
       "281105                             Yes                   No   \n",
       "281106                             Yes                   No   \n",
       "281107                             Yes                  Yes   \n",
       "281108                             Yes                   No   \n",
       "281109                             Yes                  Yes   \n",
       "\n",
       "                   Informed_On Incident_Number         Last_Updated_On  \\\n",
       "281105  04/05/2017 08:10:00 AM             NaN  04/05/2017 08:10:15 AM   \n",
       "281106  04/24/2017 07:44:00 AM             NaN  04/24/2017 07:44:15 AM   \n",
       "281107  05/25/2017 04:28:00 PM        90323827  05/25/2017 04:34:36 PM   \n",
       "281108  05/25/2017 04:30:00 PM             NaN  05/25/2017 04:30:07 PM   \n",
       "281109  05/25/2017 04:37:00 PM             NaN  05/25/2017 04:37:37 PM   \n",
       "\n",
       "       Breakdown_or_Running_Late School_Age_or_PreK  \n",
       "281105              Running Late              Pre-K  \n",
       "281106              Running Late              Pre-K  \n",
       "281107              Running Late         School-Age  \n",
       "281108                 Breakdown         School-Age  \n",
       "281109              Running Late         School-Age  \n",
       "\n",
       "[5 rows x 21 columns]"
      ]
     },
     "execution_count": 5,
     "metadata": {},
     "output_type": "execute_result"
    }
   ],
   "source": [
    "# Checking the last 5 rows of data\n",
    "# ---\n",
    "#\n",
    "df.tail()"
   ]
  },
  {
   "cell_type": "code",
   "execution_count": 6,
   "metadata": {
    "id": "a8yvg3qQl_HF"
   },
   "outputs": [
    {
     "data": {
      "text/html": [
       "<div>\n",
       "<style scoped>\n",
       "    .dataframe tbody tr th:only-of-type {\n",
       "        vertical-align: middle;\n",
       "    }\n",
       "\n",
       "    .dataframe tbody tr th {\n",
       "        vertical-align: top;\n",
       "    }\n",
       "\n",
       "    .dataframe thead th {\n",
       "        text-align: right;\n",
       "    }\n",
       "</style>\n",
       "<table border=\"1\" class=\"dataframe\">\n",
       "  <thead>\n",
       "    <tr style=\"text-align: right;\">\n",
       "      <th></th>\n",
       "      <th>School_Year</th>\n",
       "      <th>Busbreakdown_ID</th>\n",
       "      <th>Run_Type</th>\n",
       "      <th>Bus_No</th>\n",
       "      <th>Route_Number</th>\n",
       "      <th>Reason</th>\n",
       "      <th>Schools_Serviced</th>\n",
       "      <th>Occurred_On</th>\n",
       "      <th>Created_On</th>\n",
       "      <th>Boro</th>\n",
       "      <th>...</th>\n",
       "      <th>How_Long_Delayed</th>\n",
       "      <th>Number_Of_Students_On_The_Bus</th>\n",
       "      <th>Has_Contractor_Notified_Schools</th>\n",
       "      <th>Has_Contractor_Notified_Parents</th>\n",
       "      <th>Have_You_Alerted_OPT</th>\n",
       "      <th>Informed_On</th>\n",
       "      <th>Incident_Number</th>\n",
       "      <th>Last_Updated_On</th>\n",
       "      <th>Breakdown_or_Running_Late</th>\n",
       "      <th>School_Age_or_PreK</th>\n",
       "    </tr>\n",
       "  </thead>\n",
       "  <tbody>\n",
       "    <tr>\n",
       "      <th>215133</th>\n",
       "      <td>2017-2018</td>\n",
       "      <td>1401153</td>\n",
       "      <td>Special Ed AM Run</td>\n",
       "      <td>GT1487</td>\n",
       "      <td>Y886</td>\n",
       "      <td>Heavy Traffic</td>\n",
       "      <td>08146,08410,08498</td>\n",
       "      <td>01/09/2018 06:45:00 AM</td>\n",
       "      <td>01/09/2018 06:47:00 AM</td>\n",
       "      <td>NaN</td>\n",
       "      <td>...</td>\n",
       "      <td>0-15 Min</td>\n",
       "      <td>0</td>\n",
       "      <td>Yes</td>\n",
       "      <td>Yes</td>\n",
       "      <td>Yes</td>\n",
       "      <td>01/09/2018 06:47:00 AM</td>\n",
       "      <td>NaN</td>\n",
       "      <td>01/01/1900 12:00:00 AM</td>\n",
       "      <td>Running Late</td>\n",
       "      <td>School-Age</td>\n",
       "    </tr>\n",
       "    <tr>\n",
       "      <th>208752</th>\n",
       "      <td>2017-2018</td>\n",
       "      <td>1400941</td>\n",
       "      <td>Special Ed AM Run</td>\n",
       "      <td>1107</td>\n",
       "      <td>X337</td>\n",
       "      <td>Won`t Start</td>\n",
       "      <td>12084</td>\n",
       "      <td>01/08/2018 02:39:00 PM</td>\n",
       "      <td>01/08/2018 02:55:00 PM</td>\n",
       "      <td>Bronx</td>\n",
       "      <td>...</td>\n",
       "      <td>NaN</td>\n",
       "      <td>0</td>\n",
       "      <td>Yes</td>\n",
       "      <td>Yes</td>\n",
       "      <td>No</td>\n",
       "      <td>01/08/2018 02:55:00 PM</td>\n",
       "      <td>NaN</td>\n",
       "      <td>01/01/1900 12:00:00 AM</td>\n",
       "      <td>Breakdown</td>\n",
       "      <td>School-Age</td>\n",
       "    </tr>\n",
       "    <tr>\n",
       "      <th>273036</th>\n",
       "      <td>2016-2017</td>\n",
       "      <td>1289093</td>\n",
       "      <td>Pre-K/EI</td>\n",
       "      <td>418</td>\n",
       "      <td>2</td>\n",
       "      <td>Heavy Traffic</td>\n",
       "      <td>C445</td>\n",
       "      <td>09/28/2016 08:20:00 AM</td>\n",
       "      <td>09/28/2016 08:22:00 AM</td>\n",
       "      <td>Bronx</td>\n",
       "      <td>...</td>\n",
       "      <td>15 MINS</td>\n",
       "      <td>13</td>\n",
       "      <td>Yes</td>\n",
       "      <td>Yes</td>\n",
       "      <td>No</td>\n",
       "      <td>09/28/2016 08:22:00 AM</td>\n",
       "      <td>NaN</td>\n",
       "      <td>09/28/2016 08:22:55 AM</td>\n",
       "      <td>Running Late</td>\n",
       "      <td>Pre-K</td>\n",
       "    </tr>\n",
       "    <tr>\n",
       "      <th>56122</th>\n",
       "      <td>2016-2017</td>\n",
       "      <td>1300868</td>\n",
       "      <td>General Ed PM Run</td>\n",
       "      <td>2390</td>\n",
       "      <td>K9529</td>\n",
       "      <td>Late return from Field Trip</td>\n",
       "      <td>15038</td>\n",
       "      <td>11/17/2016 01:16:00 PM</td>\n",
       "      <td>11/17/2016 01:19:00 PM</td>\n",
       "      <td>Brooklyn</td>\n",
       "      <td>...</td>\n",
       "      <td>25 MINS</td>\n",
       "      <td>0</td>\n",
       "      <td>Yes</td>\n",
       "      <td>No</td>\n",
       "      <td>No</td>\n",
       "      <td>11/17/2016 01:19:00 PM</td>\n",
       "      <td>NaN</td>\n",
       "      <td>11/17/2016 01:19:36 PM</td>\n",
       "      <td>Running Late</td>\n",
       "      <td>School-Age</td>\n",
       "    </tr>\n",
       "    <tr>\n",
       "      <th>100511</th>\n",
       "      <td>2016-2017</td>\n",
       "      <td>1352662</td>\n",
       "      <td>Special Ed AM Run</td>\n",
       "      <td>2611</td>\n",
       "      <td>K315</td>\n",
       "      <td>Heavy Traffic</td>\n",
       "      <td>16360</td>\n",
       "      <td>05/25/2017 07:15:00 AM</td>\n",
       "      <td>05/25/2017 07:16:00 AM</td>\n",
       "      <td>Brooklyn</td>\n",
       "      <td>...</td>\n",
       "      <td>20-30 min</td>\n",
       "      <td>10</td>\n",
       "      <td>Yes</td>\n",
       "      <td>Yes</td>\n",
       "      <td>No</td>\n",
       "      <td>05/25/2017 07:16:00 AM</td>\n",
       "      <td>NaN</td>\n",
       "      <td>05/25/2017 07:16:56 AM</td>\n",
       "      <td>Running Late</td>\n",
       "      <td>School-Age</td>\n",
       "    </tr>\n",
       "    <tr>\n",
       "      <th>27884</th>\n",
       "      <td>2015-2016</td>\n",
       "      <td>1224578</td>\n",
       "      <td>Special Ed AM Run</td>\n",
       "      <td>8003</td>\n",
       "      <td>R055</td>\n",
       "      <td>Heavy Traffic</td>\n",
       "      <td>31061</td>\n",
       "      <td>10/26/2015 06:38:00 AM</td>\n",
       "      <td>10/26/2015 06:42:00 AM</td>\n",
       "      <td>Staten Island</td>\n",
       "      <td>...</td>\n",
       "      <td>20 mins</td>\n",
       "      <td>0</td>\n",
       "      <td>Yes</td>\n",
       "      <td>No</td>\n",
       "      <td>No</td>\n",
       "      <td>10/26/2015 06:42:00 AM</td>\n",
       "      <td>NaN</td>\n",
       "      <td>10/26/2015 06:42:15 AM</td>\n",
       "      <td>Running Late</td>\n",
       "      <td>School-Age</td>\n",
       "    </tr>\n",
       "    <tr>\n",
       "      <th>131943</th>\n",
       "      <td>2017-2018</td>\n",
       "      <td>1367727</td>\n",
       "      <td>Special Ed AM Run</td>\n",
       "      <td>10430</td>\n",
       "      <td>M625</td>\n",
       "      <td>Heavy Traffic</td>\n",
       "      <td>05200,05499</td>\n",
       "      <td>09/15/2017 08:09:00 AM</td>\n",
       "      <td>09/15/2017 08:12:00 AM</td>\n",
       "      <td>Manhattan</td>\n",
       "      <td>...</td>\n",
       "      <td>16-30 Min</td>\n",
       "      <td>5</td>\n",
       "      <td>Yes</td>\n",
       "      <td>Yes</td>\n",
       "      <td>No</td>\n",
       "      <td>09/15/2017 08:12:00 AM</td>\n",
       "      <td>NaN</td>\n",
       "      <td>01/01/1900 12:00:00 AM</td>\n",
       "      <td>Running Late</td>\n",
       "      <td>School-Age</td>\n",
       "    </tr>\n",
       "    <tr>\n",
       "      <th>38491</th>\n",
       "      <td>2016-2017</td>\n",
       "      <td>1279003</td>\n",
       "      <td>Special Ed AM Run</td>\n",
       "      <td>5005</td>\n",
       "      <td>W995</td>\n",
       "      <td>Heavy Traffic</td>\n",
       "      <td>75955</td>\n",
       "      <td>07/20/2016 08:06:00 AM</td>\n",
       "      <td>07/20/2016 08:08:00 AM</td>\n",
       "      <td>Brooklyn</td>\n",
       "      <td>...</td>\n",
       "      <td>20mins</td>\n",
       "      <td>4</td>\n",
       "      <td>Yes</td>\n",
       "      <td>Yes</td>\n",
       "      <td>Yes</td>\n",
       "      <td>07/20/2016 08:08:00 AM</td>\n",
       "      <td>NaN</td>\n",
       "      <td>07/20/2016 08:08:31 AM</td>\n",
       "      <td>Running Late</td>\n",
       "      <td>School-Age</td>\n",
       "    </tr>\n",
       "    <tr>\n",
       "      <th>157559</th>\n",
       "      <td>2017-2018</td>\n",
       "      <td>1381927</td>\n",
       "      <td>Special Ed AM Run</td>\n",
       "      <td>10448</td>\n",
       "      <td>Q358</td>\n",
       "      <td>Heavy Traffic</td>\n",
       "      <td>26481,26817,26918</td>\n",
       "      <td>10/30/2017 07:20:00 AM</td>\n",
       "      <td>10/30/2017 07:27:00 AM</td>\n",
       "      <td>Queens</td>\n",
       "      <td>...</td>\n",
       "      <td>16-30 Min</td>\n",
       "      <td>2</td>\n",
       "      <td>Yes</td>\n",
       "      <td>Yes</td>\n",
       "      <td>No</td>\n",
       "      <td>10/30/2017 07:27:00 AM</td>\n",
       "      <td>NaN</td>\n",
       "      <td>01/01/1900 12:00:00 AM</td>\n",
       "      <td>Running Late</td>\n",
       "      <td>School-Age</td>\n",
       "    </tr>\n",
       "    <tr>\n",
       "      <th>36172</th>\n",
       "      <td>2015-2016</td>\n",
       "      <td>1276139</td>\n",
       "      <td>Special Ed AM Run</td>\n",
       "      <td>5846D</td>\n",
       "      <td>X599</td>\n",
       "      <td>Mechanical Problem</td>\n",
       "      <td>07449</td>\n",
       "      <td>06/21/2016 06:33:00 AM</td>\n",
       "      <td>06/21/2016 07:13:00 AM</td>\n",
       "      <td>Bronx</td>\n",
       "      <td>...</td>\n",
       "      <td>NaN</td>\n",
       "      <td>1</td>\n",
       "      <td>Yes</td>\n",
       "      <td>Yes</td>\n",
       "      <td>No</td>\n",
       "      <td>06/21/2016 07:13:00 AM</td>\n",
       "      <td>NaN</td>\n",
       "      <td>06/21/2016 07:13:31 AM</td>\n",
       "      <td>Breakdown</td>\n",
       "      <td>School-Age</td>\n",
       "    </tr>\n",
       "  </tbody>\n",
       "</table>\n",
       "<p>10 rows × 21 columns</p>\n",
       "</div>"
      ],
      "text/plain": [
       "       School_Year  Busbreakdown_ID           Run_Type  Bus_No Route_Number  \\\n",
       "215133   2017-2018          1401153  Special Ed AM Run  GT1487         Y886   \n",
       "208752   2017-2018          1400941  Special Ed AM Run    1107         X337   \n",
       "273036   2016-2017          1289093           Pre-K/EI     418            2   \n",
       "56122    2016-2017          1300868  General Ed PM Run    2390        K9529   \n",
       "100511   2016-2017          1352662  Special Ed AM Run    2611         K315   \n",
       "27884    2015-2016          1224578  Special Ed AM Run    8003         R055   \n",
       "131943   2017-2018          1367727  Special Ed AM Run   10430         M625   \n",
       "38491    2016-2017          1279003  Special Ed AM Run    5005         W995   \n",
       "157559   2017-2018          1381927  Special Ed AM Run   10448         Q358   \n",
       "36172    2015-2016          1276139  Special Ed AM Run   5846D         X599   \n",
       "\n",
       "                             Reason   Schools_Serviced  \\\n",
       "215133                Heavy Traffic  08146,08410,08498   \n",
       "208752                  Won`t Start              12084   \n",
       "273036                Heavy Traffic               C445   \n",
       "56122   Late return from Field Trip              15038   \n",
       "100511                Heavy Traffic              16360   \n",
       "27884                 Heavy Traffic              31061   \n",
       "131943                Heavy Traffic        05200,05499   \n",
       "38491                 Heavy Traffic              75955   \n",
       "157559                Heavy Traffic  26481,26817,26918   \n",
       "36172            Mechanical Problem              07449   \n",
       "\n",
       "                   Occurred_On              Created_On           Boro  ...  \\\n",
       "215133  01/09/2018 06:45:00 AM  01/09/2018 06:47:00 AM            NaN  ...   \n",
       "208752  01/08/2018 02:39:00 PM  01/08/2018 02:55:00 PM          Bronx  ...   \n",
       "273036  09/28/2016 08:20:00 AM  09/28/2016 08:22:00 AM          Bronx  ...   \n",
       "56122   11/17/2016 01:16:00 PM  11/17/2016 01:19:00 PM       Brooklyn  ...   \n",
       "100511  05/25/2017 07:15:00 AM  05/25/2017 07:16:00 AM       Brooklyn  ...   \n",
       "27884   10/26/2015 06:38:00 AM  10/26/2015 06:42:00 AM  Staten Island  ...   \n",
       "131943  09/15/2017 08:09:00 AM  09/15/2017 08:12:00 AM      Manhattan  ...   \n",
       "38491   07/20/2016 08:06:00 AM  07/20/2016 08:08:00 AM       Brooklyn  ...   \n",
       "157559  10/30/2017 07:20:00 AM  10/30/2017 07:27:00 AM         Queens  ...   \n",
       "36172   06/21/2016 06:33:00 AM  06/21/2016 07:13:00 AM          Bronx  ...   \n",
       "\n",
       "       How_Long_Delayed Number_Of_Students_On_The_Bus  \\\n",
       "215133         0-15 Min                             0   \n",
       "208752              NaN                             0   \n",
       "273036          15 MINS                            13   \n",
       "56122           25 MINS                             0   \n",
       "100511        20-30 min                            10   \n",
       "27884           20 mins                             0   \n",
       "131943        16-30 Min                             5   \n",
       "38491            20mins                             4   \n",
       "157559        16-30 Min                             2   \n",
       "36172               NaN                             1   \n",
       "\n",
       "        Has_Contractor_Notified_Schools Has_Contractor_Notified_Parents  \\\n",
       "215133                              Yes                             Yes   \n",
       "208752                              Yes                             Yes   \n",
       "273036                              Yes                             Yes   \n",
       "56122                               Yes                              No   \n",
       "100511                              Yes                             Yes   \n",
       "27884                               Yes                              No   \n",
       "131943                              Yes                             Yes   \n",
       "38491                               Yes                             Yes   \n",
       "157559                              Yes                             Yes   \n",
       "36172                               Yes                             Yes   \n",
       "\n",
       "       Have_You_Alerted_OPT             Informed_On Incident_Number  \\\n",
       "215133                  Yes  01/09/2018 06:47:00 AM             NaN   \n",
       "208752                   No  01/08/2018 02:55:00 PM             NaN   \n",
       "273036                   No  09/28/2016 08:22:00 AM             NaN   \n",
       "56122                    No  11/17/2016 01:19:00 PM             NaN   \n",
       "100511                   No  05/25/2017 07:16:00 AM             NaN   \n",
       "27884                    No  10/26/2015 06:42:00 AM             NaN   \n",
       "131943                   No  09/15/2017 08:12:00 AM             NaN   \n",
       "38491                   Yes  07/20/2016 08:08:00 AM             NaN   \n",
       "157559                   No  10/30/2017 07:27:00 AM             NaN   \n",
       "36172                    No  06/21/2016 07:13:00 AM             NaN   \n",
       "\n",
       "               Last_Updated_On Breakdown_or_Running_Late School_Age_or_PreK  \n",
       "215133  01/01/1900 12:00:00 AM              Running Late         School-Age  \n",
       "208752  01/01/1900 12:00:00 AM                 Breakdown         School-Age  \n",
       "273036  09/28/2016 08:22:55 AM              Running Late              Pre-K  \n",
       "56122   11/17/2016 01:19:36 PM              Running Late         School-Age  \n",
       "100511  05/25/2017 07:16:56 AM              Running Late         School-Age  \n",
       "27884   10/26/2015 06:42:15 AM              Running Late         School-Age  \n",
       "131943  01/01/1900 12:00:00 AM              Running Late         School-Age  \n",
       "38491   07/20/2016 08:08:31 AM              Running Late         School-Age  \n",
       "157559  01/01/1900 12:00:00 AM              Running Late         School-Age  \n",
       "36172   06/21/2016 07:13:31 AM                 Breakdown         School-Age  \n",
       "\n",
       "[10 rows x 21 columns]"
      ]
     },
     "execution_count": 6,
     "metadata": {},
     "output_type": "execute_result"
    }
   ],
   "source": [
    "# Sample 10 rows of data\n",
    "# ---\n",
    "#\n",
    "df.sample(10)"
   ]
  },
  {
   "cell_type": "code",
   "execution_count": 7,
   "metadata": {
    "id": "x3sfP6y2hgIS"
   },
   "outputs": [
    {
     "data": {
      "text/plain": [
       "(281110, 21)"
      ]
     },
     "execution_count": 7,
     "metadata": {},
     "output_type": "execute_result"
    }
   ],
   "source": [
    "# Checking number of rows and columns\n",
    "# ---\n",
    "#\n",
    "df.shape"
   ]
  },
  {
   "cell_type": "code",
   "execution_count": 8,
   "metadata": {
    "id": "AovarG6Bhk4y"
   },
   "outputs": [
    {
     "data": {
      "text/plain": [
       "School_Year                        object\n",
       "Busbreakdown_ID                     int64\n",
       "Run_Type                           object\n",
       "Bus_No                             object\n",
       "Route_Number                       object\n",
       "Reason                             object\n",
       "Schools_Serviced                   object\n",
       "Occurred_On                        object\n",
       "Created_On                         object\n",
       "Boro                               object\n",
       "Bus_Company_Name                   object\n",
       "How_Long_Delayed                   object\n",
       "Number_Of_Students_On_The_Bus       int64\n",
       "Has_Contractor_Notified_Schools    object\n",
       "Has_Contractor_Notified_Parents    object\n",
       "Have_You_Alerted_OPT               object\n",
       "Informed_On                        object\n",
       "Incident_Number                    object\n",
       "Last_Updated_On                    object\n",
       "Breakdown_or_Running_Late          object\n",
       "School_Age_or_PreK                 object\n",
       "dtype: object"
      ]
     },
     "execution_count": 8,
     "metadata": {},
     "output_type": "execute_result"
    }
   ],
   "source": [
    "# Checking datatypes\n",
    "# ---\n",
    "#\n",
    "df.dtypes"
   ]
  },
  {
   "cell_type": "markdown",
   "metadata": {
    "id": "sKNcQTasmCgA"
   },
   "source": [
    "Record your observations below:\n",
    "\n",
    "*   Observation 1 There are 21 columns\n",
    "*   Observation 2 The data types are object and unteger \n",
    "\n"
   ]
  },
  {
   "cell_type": "markdown",
   "metadata": {
    "id": "ckfufNrcUHeH"
   },
   "source": [
    "## 3. External Data Source Validation"
   ]
  },
  {
   "cell_type": "markdown",
   "metadata": {
    "id": "6L4sl_0WXlbg"
   },
   "source": [
    "You can make sure your data matches other credible information. This ensures that the measurements are roughly in line with what they should be and it serves as a check on what other things might be wrong in your dataset.\n",
    "\n",
    "External validation can often be as simple as checking your data against some other data i.e. country population your dataset with country population on world bank data.\n",
    "\n",
    "Replace the text found on this text cell with your external data source validation information."
   ]
  },
  {
   "cell_type": "markdown",
   "metadata": {
    "id": "FlBMxEDBUc9B"
   },
   "source": [
    "## 4. Data Preparation"
   ]
  },
  {
   "cell_type": "markdown",
   "metadata": {
    "id": "YNtWOlYAkcO_"
   },
   "source": [
    "### Performing Data Cleaning"
   ]
  },
  {
   "cell_type": "code",
   "execution_count": null,
   "metadata": {
    "id": "YYxrLT0GiQSc"
   },
   "outputs": [],
   "source": [
    "# Checking datatypes and missing entries of all the variables\n",
    "# ---\n",
    "#"
   ]
  },
  {
   "cell_type": "markdown",
   "metadata": {
    "id": "NSgG917YmgbK"
   },
   "source": [
    "We observe the following from our dataset:\n",
    "\n",
    "*   Observation 1\n",
    "*   Observation 2\n",
    "\n"
   ]
  },
  {
   "cell_type": "code",
   "execution_count": null,
   "metadata": {
    "id": "ydiwcHbkHSMt"
   },
   "outputs": [],
   "source": [
    "# Standardizing your dataset i.e. variable renaming\n",
    "# ---\n",
    "#"
   ]
  },
  {
   "cell_type": "markdown",
   "metadata": {
    "id": "ijz_pJT4ml-i"
   },
   "source": [
    "We observe the following from our dataset:\n",
    "\n",
    "*   Observation 1\n",
    "*   Observation 2\n",
    "\n"
   ]
  },
  {
   "cell_type": "code",
   "execution_count": null,
   "metadata": {
    "id": "VcfnxBJciRet"
   },
   "outputs": [],
   "source": [
    "# Checking how many duplicate rows are there in the data\n",
    "# ---\n",
    "#"
   ]
  },
  {
   "cell_type": "markdown",
   "metadata": {
    "id": "6iP8KPKImnvC"
   },
   "source": [
    "We observe the following from our dataset:\n",
    "\n",
    "*   Observation 1\n",
    "*   Observation 2\n",
    "\n"
   ]
  },
  {
   "cell_type": "code",
   "execution_count": null,
   "metadata": {
    "id": "fwXq9B1LjlaN"
   },
   "outputs": [],
   "source": [
    "# Checking if any of the columns are all null\n",
    "# ---\n",
    "#"
   ]
  },
  {
   "cell_type": "markdown",
   "metadata": {
    "id": "qqZJ1NF3mxHh"
   },
   "source": [
    "We observe the following from our dataset:\n",
    "\n",
    "*   Observation 1\n",
    "*   Observation 2\n",
    "\n"
   ]
  },
  {
   "cell_type": "code",
   "execution_count": null,
   "metadata": {
    "id": "NsvDZHqxjrdx"
   },
   "outputs": [],
   "source": [
    "# Checking if any of the rows are all null\n",
    "# ---\n",
    "#"
   ]
  },
  {
   "cell_type": "markdown",
   "metadata": {
    "id": "k-i3KQTLnBvZ"
   },
   "source": [
    "We observe the following from our dataset:\n",
    "\n",
    "*   Observation 1\n",
    "*   Observation 2\n",
    "\n"
   ]
  },
  {
   "cell_type": "code",
   "execution_count": null,
   "metadata": {
    "id": "LRdCkarYiin-"
   },
   "outputs": [],
   "source": [
    "# Checking if the \"Yes/No\" fields contain only these 2 values\n",
    "# for have_you_alerted_opt variable\n",
    "# ---\n",
    "# Hint: Use unique() function\n",
    "#"
   ]
  },
  {
   "cell_type": "markdown",
   "metadata": {
    "id": "dB335aOVnCxj"
   },
   "source": [
    "We observe the following from our dataset:\n",
    "\n",
    "*   Observation 1\n",
    "*   Observation 2\n",
    "\n"
   ]
  },
  {
   "cell_type": "code",
   "execution_count": null,
   "metadata": {
    "id": "JbPVfstMikvf"
   },
   "outputs": [],
   "source": [
    "# Checking if the \"Yes/No\" fields contain only these 2 values\n",
    "# for has_contractor_notified_parents variable\n",
    "# ---\n",
    "#"
   ]
  },
  {
   "cell_type": "markdown",
   "metadata": {
    "id": "W_YnOORcnGYw"
   },
   "source": [
    "We observe the following from our dataset:\n",
    "\n",
    "*   Observation 1\n",
    "*   Observation 2\n",
    "\n"
   ]
  },
  {
   "cell_type": "code",
   "execution_count": null,
   "metadata": {
    "id": "_1b7RAbNi3xf"
   },
   "outputs": [],
   "source": [
    "# Checking if the \"Yes/No\" fields contain only these 2 values\n",
    "# for has_contractor_notified_schools variable\n",
    "# ---\n",
    "#"
   ]
  },
  {
   "cell_type": "markdown",
   "metadata": {
    "id": "vBRzzYPinIdJ"
   },
   "source": [
    "We observe the following from our dataset:\n",
    "\n",
    "*   Observation 1\n",
    "*   Observation 2\n",
    "\n"
   ]
  },
  {
   "cell_type": "code",
   "execution_count": null,
   "metadata": {
    "id": "moY8-oqAjt7k"
   },
   "outputs": [],
   "source": [
    "# Checking unique values in break_down_or_running_late variable to ensure there is no duplication\n",
    "# ---\n",
    "#"
   ]
  },
  {
   "cell_type": "code",
   "execution_count": null,
   "metadata": {
    "id": "ICemYiD1kQTK"
   },
   "outputs": [],
   "source": [
    "# Checking unique values in school_age_or_prek variable\n",
    "# ---\n",
    "#"
   ]
  },
  {
   "cell_type": "code",
   "execution_count": null,
   "metadata": {
    "id": "geEgU4KhkUkF"
   },
   "outputs": [],
   "source": [
    "# Checking unique values in school_year variable\n",
    "# ---\n",
    "#"
   ]
  },
  {
   "cell_type": "code",
   "execution_count": null,
   "metadata": {
    "id": "xo1liVO-kU6R"
   },
   "outputs": [],
   "source": [
    "# Checking unique values in reason variable\n",
    "# ---\n",
    "#"
   ]
  },
  {
   "cell_type": "code",
   "execution_count": null,
   "metadata": {
    "id": "D_g8UMAtkWRO"
   },
   "outputs": [],
   "source": [
    "# Checking unique values in run_type variable\n",
    "# ---\n",
    "#"
   ]
  },
  {
   "cell_type": "code",
   "execution_count": null,
   "metadata": {
    "id": "xwmxKhGmkYNK"
   },
   "outputs": [],
   "source": [
    "# Checking unique values in boro variable\n",
    "# ---\n",
    "#"
   ]
  },
  {
   "cell_type": "markdown",
   "metadata": {
    "id": "g8b_wULuodN8"
   },
   "source": [
    "### Overall Data Cleaning Observations\n",
    "**Missing Values**\n",
    "\n",
    "- There are a large number of missing values in the fields \"How_Long_Delayed\" which is important to our analysis.\n",
    "- There is an extremely large number of missing values in the \"Incident_number\" field but this is not incidental to our analysis and cannot be filled in without additional information.\n",
    "\n",
    "**Error in values**\n",
    "\n",
    "- \"How_Long_Delayed\" contains string values such as \"MINS\" or \"mins\" and a range of values, which needs to be changed to single integer value for our analysis.\n",
    "\n",
    "**Error in Datatypes**\n",
    "\n",
    "- \"How_Long_Delayed\" is a string datatype, should be converted to integer type.\n",
    "\n",
    "**Error in field names**\n",
    "- The column name \"Boro\" should be renamed to \"Borough\".\n"
   ]
  },
  {
   "cell_type": "markdown",
   "metadata": {
    "id": "EUXeWCRuprIp"
   },
   "source": [
    "### Next Steps: Data Cleaning Steps\n",
    "\n",
    "**Error in values**\n",
    "\n",
    "- Extract the first integer value (lowest delay time) in the column \"How_Long_Delayed\"\n",
    "\n",
    "\n",
    "**Missing Values**\n",
    "\n",
    "- Impute the missing values in the field \"How_Long_Delayed\" with the mean value.\n",
    "\n",
    "\n",
    "**Error in Datatypes**\n",
    "\n",
    "- Convert \"How_Long_Delayed\" to int datatype.\n",
    "\n",
    "\n",
    "\n",
    "**Error in field names**\n",
    "\n",
    "- Rename the column \"Boro\" to \"Borough\"."
   ]
  },
  {
   "cell_type": "code",
   "execution_count": null,
   "metadata": {
    "id": "27EznvNypkVb"
   },
   "outputs": [],
   "source": [
    "# Lets first start by creating a copy of our dataframe\n",
    "# df_clean = df.copy(). We will use this copy as our cleaning copy.\n",
    "# ---\n",
    "#\n",
    "df_clean = df.copy()\n",
    "df_clean.head()"
   ]
  },
  {
   "cell_type": "code",
   "execution_count": null,
   "metadata": {
    "id": "qlfP46wxqGIb"
   },
   "outputs": [],
   "source": [
    "# Then extracting the lowest delay time in the column how_long_delayed from the string\n",
    "#\n",
    "df_clean['how_long_delayed'] = df_clean['how_long_delayed'].str.extract('(\\d+)')\n",
    "df_clean['how_long_delayed'].head()"
   ]
  },
  {
   "cell_type": "markdown",
   "metadata": {
    "id": "5TCaPQwzqZwx"
   },
   "source": [
    "We impute the null values in 'how_long_delayed' column with mean of the column. This will take a couple of steps..."
   ]
  },
  {
   "cell_type": "code",
   "execution_count": null,
   "metadata": {
    "id": "jk49oxooqOLB"
   },
   "outputs": [],
   "source": [
    "# We first convert our how_long_delayed to float type to allow for imputation\n",
    "# ---\n",
    "#"
   ]
  },
  {
   "cell_type": "code",
   "execution_count": null,
   "metadata": {
    "id": "9gkyJ9frqlTP"
   },
   "outputs": [],
   "source": [
    "# Then later perform our mean imputation\n",
    "# ---\n",
    "#"
   ]
  },
  {
   "cell_type": "code",
   "execution_count": null,
   "metadata": {
    "id": "2BjIJBjdq05B"
   },
   "outputs": [],
   "source": [
    "# Then convert back our how_long_delayed column to integer datatype\n",
    "# ---\n",
    "#"
   ]
  },
  {
   "cell_type": "code",
   "execution_count": null,
   "metadata": {
    "id": "PL3Mx2GjrDhD"
   },
   "outputs": [],
   "source": [
    "# Then check for nulls in the column\n",
    "# ---\n",
    "#"
   ]
  },
  {
   "cell_type": "code",
   "execution_count": null,
   "metadata": {
    "id": "v8s5E8v6rJzX"
   },
   "outputs": [],
   "source": [
    "# Rename Boro column to Borough\n",
    "# ---\n",
    "#"
   ]
  },
  {
   "cell_type": "code",
   "execution_count": null,
   "metadata": {
    "id": "AbYznrWJ2BC1"
   },
   "outputs": [],
   "source": [
    "# Lastly we convert all values in our colums to lower case\n",
    "# for ease of reading\n",
    "# ---\n",
    "#"
   ]
  },
  {
   "cell_type": "code",
   "execution_count": null,
   "metadata": {
    "id": "Fe3IzcDyrS_6"
   },
   "outputs": [],
   "source": [
    "# Check the first 5 record the cleaned dataset\n",
    "# ---\n",
    "#\n",
    "df_clean.head()"
   ]
  },
  {
   "cell_type": "markdown",
   "metadata": {
    "id": "vTbdjSrhVIiT"
   },
   "source": [
    "\n",
    "## 5. Solution Implementation"
   ]
  },
  {
   "cell_type": "markdown",
   "metadata": {
    "id": "PdHyc8WYHlAG"
   },
   "source": [
    "Here we investigate the questions that would help craft our recommendations."
   ]
  },
  {
   "cell_type": "markdown",
   "metadata": {
    "id": "Nh5mcts5IK8U"
   },
   "source": [
    "### 5.a) Questions"
   ]
  },
  {
   "cell_type": "code",
   "execution_count": null,
   "metadata": {
    "id": "7Q6JR-4yfVHf"
   },
   "outputs": [],
   "source": [
    "# 1. Which bus companies that had the highest breakdowns?\n",
    "# ---\n",
    "#\n",
    "breakdowns = df_clean.groupby(['bus_company_name']).count()\n",
    "\n",
    "# Sort to get bus company with highest breakdowns\n",
    "# ---\n",
    "# YOUR CODE GOES BELOW\n",
    "#"
   ]
  },
  {
   "cell_type": "code",
   "execution_count": null,
   "metadata": {
    "id": "dYtdLdxHfVrh"
   },
   "outputs": [],
   "source": [
    "# 2. What were the top 3 reasons for bus delays?\n",
    "# ---\n",
    "#\n",
    "bus_delay = df_clean.groupby(['reason']).count()[['how_long_delayed']].reset_index()\n",
    "\n",
    "# Sort to get the most frequent reason\n",
    "# ---\n",
    "# YOUR CODE GOES BELOW\n",
    "#"
   ]
  },
  {
   "cell_type": "code",
   "execution_count": null,
   "metadata": {
    "id": "8aTP8trqsK3g"
   },
   "outputs": [],
   "source": [
    "# 3. How many students were in the buses when they broke down?\n",
    "# ---\n",
    "#\n",
    "df_clean.groupby(['number_of_students_on_the_bus']).count()[['busbreakdown_id']].reset_index()"
   ]
  },
  {
   "cell_type": "code",
   "execution_count": null,
   "metadata": {
    "id": "jz7jXe8BtLGw"
   },
   "outputs": [],
   "source": [
    "# 4. Which were most frequent reasons for bus breakdowns?\n",
    "# ---\n",
    "#\n",
    "breakdown_reasons = df_clean[df_clean.breakdown_or_running_late == 'breakdown'].groupby(['reason']).count()\n",
    "\n",
    "# Sort to get most frequent reasons\n",
    "# ---\n",
    "# YOUR CODE GOES BELOW\n",
    "#"
   ]
  },
  {
   "cell_type": "code",
   "execution_count": null,
   "metadata": {
    "id": "OKfAq-PGwhbM"
   },
   "outputs": [],
   "source": [
    "# 5. What were the most frequent reasons for the bus running late?\n",
    "# ---\n",
    "#\n",
    "reasons = df_clean.groupby(['reason','how_dong_delayed']).count()\n",
    "\n",
    "# Get the records with running late reasons and sort to get most frequent reasons\n",
    "# ---\n",
    "# YOUR CODE GOES BELOW\n",
    "#"
   ]
  },
  {
   "cell_type": "code",
   "execution_count": null,
   "metadata": {
    "id": "wwG_TiwDyvEP"
   },
   "outputs": [],
   "source": [
    "# 6. What was the average delay time for each reason type?\n",
    "# ---\n",
    "#\n",
    "avg_delay = df_clean.groupby('reason').mean().reset_index()\n",
    "\n",
    "# Get the records with reasons and how long on average a delay took then sort\n",
    "# ---\n",
    "# YOUR CODE GOES BELOW\n",
    "#"
   ]
  },
  {
   "cell_type": "markdown",
   "metadata": {
    "id": "cpmGSOOqIMrt"
   },
   "source": [
    "### 5.b) Recommendations"
   ]
  },
  {
   "cell_type": "markdown",
   "metadata": {
    "id": "wDn2whdV0Zcg"
   },
   "source": [
    "From the above analysis, below are our recommendations:\n",
    "\n",
    "1.   \n",
    "2.   \n",
    "\n",
    "\n",
    "\n"
   ]
  },
  {
   "cell_type": "markdown",
   "metadata": {
    "id": "noZz5YRQXKzi"
   },
   "source": [
    "## 6. Challenging your Solution"
   ]
  },
  {
   "cell_type": "markdown",
   "metadata": {
    "id": "wdMBFVe0XSgf"
   },
   "source": [
    "During this step, we review our solution and implement  approaches that could potentially provide a better outcome. In our case, we could propose the following question that wasn't answered in our solution because it couldn't have greatly contributed to our recommendation."
   ]
  },
  {
   "cell_type": "code",
   "execution_count": null,
   "metadata": {
    "id": "VNx-Yqb8XKzk"
   },
   "outputs": [],
   "source": [
    "# Which boroughs experienced the most breakdowns?\n",
    "# ---\n",
    "#\n",
    "breakdowns = df_clean.groupby(['borough']).count()\n",
    "\n",
    "# Sort to get bus company with highest breakdowns\n",
    "# ---\n",
    "# YOUR CODE GOES BELOW\n",
    "#"
   ]
  },
  {
   "cell_type": "markdown",
   "metadata": {
    "id": "k6kKzd-F1UW7"
   },
   "source": [
    "Our observations:\n",
    "\n",
    "1.   \n",
    "2.  \n",
    "\n",
    "\n",
    "How does this observation tie to our solution?\n",
    "\n"
   ]
  },
  {
   "cell_type": "markdown",
   "metadata": {
    "id": "xrmHVMVsVS--"
   },
   "source": [
    "## 7. Follow up questions"
   ]
  },
  {
   "cell_type": "markdown",
   "metadata": {
    "id": "pth2qSWhuBIy"
   },
   "source": [
    "During this step, you rethink and propose other ways that you can improve your solution."
   ]
  },
  {
   "cell_type": "markdown",
   "metadata": {
    "id": "HPQviDmNtta8"
   },
   "source": [
    "### a). Did we have the right data?"
   ]
  },
  {
   "cell_type": "markdown",
   "metadata": {
    "id": "qjFHK1CKty7o"
   },
   "source": [
    "### b). Do we need other data to answer our question?"
   ]
  },
  {
   "cell_type": "markdown",
   "metadata": {
    "id": "SyJMFjvmKePc"
   },
   "source": [
    "You can look into the questions you brainstormed that you weren't taken into account during analysis due to a lack of data. Were those questions important to have been left out  of your analysis?"
   ]
  },
  {
   "cell_type": "markdown",
   "metadata": {
    "id": "HSsicSdvt4Zs"
   },
   "source": [
    "### c). Did we have the right question?"
   ]
  },
  {
   "cell_type": "markdown",
   "metadata": {
    "id": "DvVFZGvNKfSv"
   },
   "source": [
    "Were there any other questions that we needed to have answered?"
   ]
  }
 ],
 "metadata": {
  "colab": {
   "provenance": [],
   "toc_visible": true
  },
  "kernelspec": {
   "display_name": "my_virtual_env",
   "language": "python",
   "name": "python3"
  },
  "language_info": {
   "codemirror_mode": {
    "name": "ipython",
    "version": 3
   },
   "file_extension": ".py",
   "mimetype": "text/x-python",
   "name": "python",
   "nbconvert_exporter": "python",
   "pygments_lexer": "ipython3",
   "version": "3.11.9"
  }
 },
 "nbformat": 4,
 "nbformat_minor": 4
}
