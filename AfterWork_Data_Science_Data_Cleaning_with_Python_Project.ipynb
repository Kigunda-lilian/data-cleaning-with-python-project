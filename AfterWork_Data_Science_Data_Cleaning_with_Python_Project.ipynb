{
 "cells": [
  {
   "cell_type": "markdown",
   "metadata": {
    "id": "y1HW8GjoS7AN"
   },
   "source": [
    "# [Guiding Notebook] Data Cleaning with Python Project"
   ]
  },
  {
   "cell_type": "markdown",
   "metadata": {
    "id": "kLG2VTrnTvYL"
   },
   "source": [
    "## 1. Defining the Question"
   ]
  },
  {
   "cell_type": "markdown",
   "metadata": {
    "id": "XecOwPNorl2W"
   },
   "source": [
    "### a) Specifying the Data Analysis Question"
   ]
  },
  {
   "cell_type": "markdown",
   "metadata": {
    "id": "pZykmRrbGd13"
   },
   "source": [
    "Specify the reasearch question that you'll be answering."
   ]
  },
  {
   "cell_type": "markdown",
   "metadata": {
    "id": "ym7-i7auXZPg"
   },
   "source": [
    "Primary Research Questions:\n",
    "\n",
    "1. Which bus companies had the highest breakdowns?\n",
    "2. What were the top 3 reasons for bus delays?\n",
    "3. How many students were on the buses when they broke down?\n",
    "4. What were the most frequent reasons for bus breakdowns?\n",
    "5. What were the most frequent reasons for the bus running late?\n",
    "6. What was the average delay time for each reason type?\n",
    "\n",
    "Additional Questions: 7. Are there specific times of the day or days of the week when breakdowns and delays occur most frequently? 8. Is there a seasonal trend in bus breakdowns or delays? 9. Are certain neighborhoods or routes more prone to breakdowns and delays? 10. Do specific bus companies dominate in terms of delay durations or frequency of incidents?"
   ]
  },
  {
   "cell_type": "markdown",
   "metadata": {
    "id": "J4wfHZwQrs-t"
   },
   "source": [
    "### b) Defining the Metric for Success"
   ]
  },
  {
   "cell_type": "markdown",
   "metadata": {
    "id": "IuQcoaLFGjkH"
   },
   "source": [
    "How will you know that your solution will have satisfied your research question?"
   ]
  },
  {
   "cell_type": "markdown",
   "metadata": {},
   "source": [
    " Success will be measured by our ability to extract actionable insights and provide recommendations that reduce the frequency and impact of bus breakdowns and delays."
   ]
  },
  {
   "cell_type": "markdown",
   "metadata": {
    "id": "a9BPYqunry97"
   },
   "source": [
    "### c) Understanding the context"
   ]
  },
  {
   "cell_type": "markdown",
   "metadata": {
    "id": "2jeqV9VPG1tg"
   },
   "source": [
    "The Bus Breakdown and Delay system is a real-time data collection platform used by school bus vendors in New York City. This system tracks breakdowns, delays, and other service disruptions, providing valuable data for identifying inefficiencies and areas for improvement in bus operations.\n",
    "\n",
    "The significance of the analysis lies in:\n",
    "\n",
    "1. Enhancing the reliability of bus services for students.\n",
    "2. Reducing delays and breakdowns, improving safety and parent satisfaction.\n",
    "3. Supporting decision-making for bus vendors and the city's transportation authorities."
   ]
  },
  {
   "cell_type": "markdown",
   "metadata": {
    "id": "7KMRBJ7zr9HD"
   },
   "source": [
    "### d) Recording the Experimental Design"
   ]
  },
  {
   "cell_type": "markdown",
   "metadata": {
    "id": "YG0dB0_PG5_i"
   },
   "source": [
    "To address the research questions, I will proceed with the following steps:\n",
    "\n",
    "Step 1: Defining the Metric for Success\n",
    "- Success will be measured by our ability to extract actionable insights and provide recommendations that reduce the frequency and impact of bus breakdowns and delays.\n",
    "\n",
    "Step 2: Data Understanding\n",
    "Review the dataset for an overview of key fields like:\n",
    "- Bus company names.\n",
    "- Reason for delay or breakdown.\n",
    "- Date, time, and location of incidents.\n",
    "- Number of students affected.\n",
    "- Delay durations.\n",
    "- Perform exploratory data analysis (EDA) to identify patterns, distributions, and anomalies.\n",
    "\n",
    "Step 3: Data Cleaning\n",
    "- Handle missing, inconsistent, or duplicate data entries.\n",
    "- Standardize data formats (e.g., time, location, and categorical variables).\n",
    "- Ensure numerical values (e.g., delay durations) are in appropriate units.\n",
    "\n",
    "Step 4: Data Analysis\n",
    "- Use descriptive statistics to summarize key metrics.\n",
    "- Identify patterns using visualizations (e.g., bar charts, heatmaps, and line plots).\n",
    "- Answer the research questions through detailed analysis:\n",
    "- Top breakdown companies: Aggregate breakdown counts by company.\n",
    "- Reasons for delays: Categorize and rank delay reasons.\n",
    "- Student impact: Analyze breakdown incidents and affected student counts.\n",
    "- Delay duration analysis: Calculate average delays by reason type.\n",
    "\n",
    "Step 5: Experimental Design\n",
    "- Define control variables (e.g., time of day, location) for deeper analysis.\n",
    "- Use clustering techniques to group routes or companies with similar issues.\n",
    "\n",
    "Step 6: Data Visualization\n",
    "- Use tools like Matplotlib, Seaborn, or Plotly for creating impactful visualizations.\n",
    "\n",
    "Step 7: Recommendations\n",
    "- Provide targeted recommendations based on findings, e.g.:\n",
    "- Vendor-specific training programs.\n",
    "- Preventive maintenance schedules.\n",
    "- Improved communication systems.\n"
   ]
  },
  {
   "cell_type": "markdown",
   "metadata": {
    "id": "zSGyg6kWsBUl"
   },
   "source": [
    "### e) Data Relevance"
   ]
  },
  {
   "cell_type": "markdown",
   "metadata": {
    "id": "UogUWzkTHJ9D"
   },
   "source": [
    "The provided dataset appears highly relevant, as it directly records incidents and delays logged by bus vendors. However, its utility depends on:\n",
    "\n",
    "- Completeness: Does the dataset capture all incidents or only partial data?\n",
    "- Accuracy: Are reasons for delays and breakdowns consistently recorded?\n",
    "- Coverage: Does the data cover all bus companies, routes, and time periods?"
   ]
  },
  {
   "cell_type": "markdown",
   "metadata": {},
   "source": [
    "### d) Deliverables"
   ]
  },
  {
   "cell_type": "markdown",
   "metadata": {},
   "source": [
    "- A detailed analysis report answering the research questions.\n",
    "- Visualizations illustrating key trends and insights.\n",
    "- Recommendations aimed at reducing bus breakdowns and delays."
   ]
  },
  {
   "cell_type": "markdown",
   "metadata": {
    "id": "iUNbvIvnT7ep"
   },
   "source": [
    "## 2. Reading the Data"
   ]
  },
  {
   "cell_type": "code",
   "execution_count": 2,
   "metadata": {
    "id": "STUSuuyTTBgx"
   },
   "outputs": [],
   "source": [
    "# Importing our libraries\n",
    "# ---\n",
    "import pandas as pd\n",
    "import numpy as np"
   ]
  },
  {
   "cell_type": "code",
   "execution_count": 3,
   "metadata": {
    "id": "XJn2KjW-WMlG"
   },
   "outputs": [],
   "source": [
    "# Load the data below\n",
    "# ---\n",
    "# Dataset url = https://bit.ly/BusBreakdownDataset\n",
    "# ---\n",
    "#\n",
    "df = pd.read_csv('https://bit.ly/BusBreakdownDataset')"
   ]
  },
  {
   "cell_type": "code",
   "execution_count": 4,
   "metadata": {
    "id": "7168_y8EhZg7"
   },
   "outputs": [
    {
     "data": {
      "text/html": [
       "<div>\n",
       "<style scoped>\n",
       "    .dataframe tbody tr th:only-of-type {\n",
       "        vertical-align: middle;\n",
       "    }\n",
       "\n",
       "    .dataframe tbody tr th {\n",
       "        vertical-align: top;\n",
       "    }\n",
       "\n",
       "    .dataframe thead th {\n",
       "        text-align: right;\n",
       "    }\n",
       "</style>\n",
       "<table border=\"1\" class=\"dataframe\">\n",
       "  <thead>\n",
       "    <tr style=\"text-align: right;\">\n",
       "      <th></th>\n",
       "      <th>School_Year</th>\n",
       "      <th>Busbreakdown_ID</th>\n",
       "      <th>Run_Type</th>\n",
       "      <th>Bus_No</th>\n",
       "      <th>Route_Number</th>\n",
       "      <th>Reason</th>\n",
       "      <th>Schools_Serviced</th>\n",
       "      <th>Occurred_On</th>\n",
       "      <th>Created_On</th>\n",
       "      <th>Boro</th>\n",
       "      <th>...</th>\n",
       "      <th>How_Long_Delayed</th>\n",
       "      <th>Number_Of_Students_On_The_Bus</th>\n",
       "      <th>Has_Contractor_Notified_Schools</th>\n",
       "      <th>Has_Contractor_Notified_Parents</th>\n",
       "      <th>Have_You_Alerted_OPT</th>\n",
       "      <th>Informed_On</th>\n",
       "      <th>Incident_Number</th>\n",
       "      <th>Last_Updated_On</th>\n",
       "      <th>Breakdown_or_Running_Late</th>\n",
       "      <th>School_Age_or_PreK</th>\n",
       "    </tr>\n",
       "  </thead>\n",
       "  <tbody>\n",
       "    <tr>\n",
       "      <th>0</th>\n",
       "      <td>2015-2016</td>\n",
       "      <td>1227538</td>\n",
       "      <td>Special Ed AM Run</td>\n",
       "      <td>2621</td>\n",
       "      <td>J711</td>\n",
       "      <td>Heavy Traffic</td>\n",
       "      <td>75003</td>\n",
       "      <td>11/05/2015 08:10:00 AM</td>\n",
       "      <td>11/05/2015 08:12:00 AM</td>\n",
       "      <td>New Jersey</td>\n",
       "      <td>...</td>\n",
       "      <td>NaN</td>\n",
       "      <td>11</td>\n",
       "      <td>Yes</td>\n",
       "      <td>No</td>\n",
       "      <td>Yes</td>\n",
       "      <td>11/05/2015 08:12:00 AM</td>\n",
       "      <td>NaN</td>\n",
       "      <td>11/05/2015 08:12:14 AM</td>\n",
       "      <td>Running Late</td>\n",
       "      <td>School-Age</td>\n",
       "    </tr>\n",
       "    <tr>\n",
       "      <th>1</th>\n",
       "      <td>2015-2016</td>\n",
       "      <td>1227539</td>\n",
       "      <td>Special Ed AM Run</td>\n",
       "      <td>1260</td>\n",
       "      <td>M351</td>\n",
       "      <td>Heavy Traffic</td>\n",
       "      <td>06716</td>\n",
       "      <td>11/05/2015 08:10:00 AM</td>\n",
       "      <td>11/05/2015 08:12:00 AM</td>\n",
       "      <td>Manhattan</td>\n",
       "      <td>...</td>\n",
       "      <td>20MNS</td>\n",
       "      <td>2</td>\n",
       "      <td>Yes</td>\n",
       "      <td>Yes</td>\n",
       "      <td>No</td>\n",
       "      <td>11/05/2015 08:12:00 AM</td>\n",
       "      <td>NaN</td>\n",
       "      <td>11/05/2015 08:13:34 AM</td>\n",
       "      <td>Running Late</td>\n",
       "      <td>School-Age</td>\n",
       "    </tr>\n",
       "    <tr>\n",
       "      <th>2</th>\n",
       "      <td>2015-2016</td>\n",
       "      <td>1227540</td>\n",
       "      <td>Pre-K/EI</td>\n",
       "      <td>418</td>\n",
       "      <td>3</td>\n",
       "      <td>Heavy Traffic</td>\n",
       "      <td>C445</td>\n",
       "      <td>11/05/2015 08:09:00 AM</td>\n",
       "      <td>11/05/2015 08:13:00 AM</td>\n",
       "      <td>Bronx</td>\n",
       "      <td>...</td>\n",
       "      <td>15MIN</td>\n",
       "      <td>8</td>\n",
       "      <td>Yes</td>\n",
       "      <td>Yes</td>\n",
       "      <td>Yes</td>\n",
       "      <td>11/05/2015 08:13:00 AM</td>\n",
       "      <td>NaN</td>\n",
       "      <td>11/05/2015 08:13:22 AM</td>\n",
       "      <td>Running Late</td>\n",
       "      <td>Pre-K</td>\n",
       "    </tr>\n",
       "    <tr>\n",
       "      <th>3</th>\n",
       "      <td>2015-2016</td>\n",
       "      <td>1227541</td>\n",
       "      <td>Special Ed AM Run</td>\n",
       "      <td>4522</td>\n",
       "      <td>M271</td>\n",
       "      <td>Heavy Traffic</td>\n",
       "      <td>02699</td>\n",
       "      <td>11/05/2015 08:12:00 AM</td>\n",
       "      <td>11/05/2015 08:14:00 AM</td>\n",
       "      <td>Manhattan</td>\n",
       "      <td>...</td>\n",
       "      <td>15 MIN</td>\n",
       "      <td>6</td>\n",
       "      <td>No</td>\n",
       "      <td>No</td>\n",
       "      <td>No</td>\n",
       "      <td>11/05/2015 08:14:00 AM</td>\n",
       "      <td>NaN</td>\n",
       "      <td>11/05/2015 08:14:04 AM</td>\n",
       "      <td>Running Late</td>\n",
       "      <td>School-Age</td>\n",
       "    </tr>\n",
       "    <tr>\n",
       "      <th>4</th>\n",
       "      <td>2015-2016</td>\n",
       "      <td>1227542</td>\n",
       "      <td>Special Ed AM Run</td>\n",
       "      <td>3124</td>\n",
       "      <td>M373</td>\n",
       "      <td>Heavy Traffic</td>\n",
       "      <td>02116</td>\n",
       "      <td>11/05/2015 08:13:00 AM</td>\n",
       "      <td>11/05/2015 08:14:00 AM</td>\n",
       "      <td>Manhattan</td>\n",
       "      <td>...</td>\n",
       "      <td>NaN</td>\n",
       "      <td>6</td>\n",
       "      <td>No</td>\n",
       "      <td>No</td>\n",
       "      <td>No</td>\n",
       "      <td>11/05/2015 08:14:00 AM</td>\n",
       "      <td>NaN</td>\n",
       "      <td>11/05/2015 08:14:08 AM</td>\n",
       "      <td>Running Late</td>\n",
       "      <td>School-Age</td>\n",
       "    </tr>\n",
       "  </tbody>\n",
       "</table>\n",
       "<p>5 rows × 21 columns</p>\n",
       "</div>"
      ],
      "text/plain": [
       "  School_Year  Busbreakdown_ID           Run_Type Bus_No Route_Number  \\\n",
       "0   2015-2016          1227538  Special Ed AM Run   2621         J711   \n",
       "1   2015-2016          1227539  Special Ed AM Run   1260         M351   \n",
       "2   2015-2016          1227540           Pre-K/EI    418            3   \n",
       "3   2015-2016          1227541  Special Ed AM Run   4522         M271   \n",
       "4   2015-2016          1227542  Special Ed AM Run   3124         M373   \n",
       "\n",
       "          Reason Schools_Serviced             Occurred_On  \\\n",
       "0  Heavy Traffic            75003  11/05/2015 08:10:00 AM   \n",
       "1  Heavy Traffic            06716  11/05/2015 08:10:00 AM   \n",
       "2  Heavy Traffic             C445  11/05/2015 08:09:00 AM   \n",
       "3  Heavy Traffic            02699  11/05/2015 08:12:00 AM   \n",
       "4  Heavy Traffic            02116  11/05/2015 08:13:00 AM   \n",
       "\n",
       "               Created_On        Boro  ... How_Long_Delayed  \\\n",
       "0  11/05/2015 08:12:00 AM  New Jersey  ...              NaN   \n",
       "1  11/05/2015 08:12:00 AM   Manhattan  ...            20MNS   \n",
       "2  11/05/2015 08:13:00 AM       Bronx  ...            15MIN   \n",
       "3  11/05/2015 08:14:00 AM   Manhattan  ...           15 MIN   \n",
       "4  11/05/2015 08:14:00 AM   Manhattan  ...              NaN   \n",
       "\n",
       "  Number_Of_Students_On_The_Bus  Has_Contractor_Notified_Schools  \\\n",
       "0                            11                              Yes   \n",
       "1                             2                              Yes   \n",
       "2                             8                              Yes   \n",
       "3                             6                               No   \n",
       "4                             6                               No   \n",
       "\n",
       "  Has_Contractor_Notified_Parents Have_You_Alerted_OPT  \\\n",
       "0                              No                  Yes   \n",
       "1                             Yes                   No   \n",
       "2                             Yes                  Yes   \n",
       "3                              No                   No   \n",
       "4                              No                   No   \n",
       "\n",
       "              Informed_On Incident_Number         Last_Updated_On  \\\n",
       "0  11/05/2015 08:12:00 AM             NaN  11/05/2015 08:12:14 AM   \n",
       "1  11/05/2015 08:12:00 AM             NaN  11/05/2015 08:13:34 AM   \n",
       "2  11/05/2015 08:13:00 AM             NaN  11/05/2015 08:13:22 AM   \n",
       "3  11/05/2015 08:14:00 AM             NaN  11/05/2015 08:14:04 AM   \n",
       "4  11/05/2015 08:14:00 AM             NaN  11/05/2015 08:14:08 AM   \n",
       "\n",
       "  Breakdown_or_Running_Late School_Age_or_PreK  \n",
       "0              Running Late         School-Age  \n",
       "1              Running Late         School-Age  \n",
       "2              Running Late              Pre-K  \n",
       "3              Running Late         School-Age  \n",
       "4              Running Late         School-Age  \n",
       "\n",
       "[5 rows x 21 columns]"
      ]
     },
     "execution_count": 4,
     "metadata": {},
     "output_type": "execute_result"
    }
   ],
   "source": [
    "# Checking the first 5 rows of data\n",
    "# ---\n",
    "#\n",
    "df.head()"
   ]
  },
  {
   "cell_type": "code",
   "execution_count": 5,
   "metadata": {
    "id": "87pOSl5MhcdL"
   },
   "outputs": [
    {
     "data": {
      "text/html": [
       "<div>\n",
       "<style scoped>\n",
       "    .dataframe tbody tr th:only-of-type {\n",
       "        vertical-align: middle;\n",
       "    }\n",
       "\n",
       "    .dataframe tbody tr th {\n",
       "        vertical-align: top;\n",
       "    }\n",
       "\n",
       "    .dataframe thead th {\n",
       "        text-align: right;\n",
       "    }\n",
       "</style>\n",
       "<table border=\"1\" class=\"dataframe\">\n",
       "  <thead>\n",
       "    <tr style=\"text-align: right;\">\n",
       "      <th></th>\n",
       "      <th>School_Year</th>\n",
       "      <th>Busbreakdown_ID</th>\n",
       "      <th>Run_Type</th>\n",
       "      <th>Bus_No</th>\n",
       "      <th>Route_Number</th>\n",
       "      <th>Reason</th>\n",
       "      <th>Schools_Serviced</th>\n",
       "      <th>Occurred_On</th>\n",
       "      <th>Created_On</th>\n",
       "      <th>Boro</th>\n",
       "      <th>...</th>\n",
       "      <th>How_Long_Delayed</th>\n",
       "      <th>Number_Of_Students_On_The_Bus</th>\n",
       "      <th>Has_Contractor_Notified_Schools</th>\n",
       "      <th>Has_Contractor_Notified_Parents</th>\n",
       "      <th>Have_You_Alerted_OPT</th>\n",
       "      <th>Informed_On</th>\n",
       "      <th>Incident_Number</th>\n",
       "      <th>Last_Updated_On</th>\n",
       "      <th>Breakdown_or_Running_Late</th>\n",
       "      <th>School_Age_or_PreK</th>\n",
       "    </tr>\n",
       "  </thead>\n",
       "  <tbody>\n",
       "    <tr>\n",
       "      <th>281105</th>\n",
       "      <td>2016-2017</td>\n",
       "      <td>1338452</td>\n",
       "      <td>Pre-K/EI</td>\n",
       "      <td>9345</td>\n",
       "      <td>2</td>\n",
       "      <td>Heavy Traffic</td>\n",
       "      <td>C530</td>\n",
       "      <td>04/05/2017 08:00:00 AM</td>\n",
       "      <td>04/05/2017 08:10:00 AM</td>\n",
       "      <td>Bronx</td>\n",
       "      <td>...</td>\n",
       "      <td>15-20</td>\n",
       "      <td>7</td>\n",
       "      <td>Yes</td>\n",
       "      <td>Yes</td>\n",
       "      <td>No</td>\n",
       "      <td>04/05/2017 08:10:00 AM</td>\n",
       "      <td>NaN</td>\n",
       "      <td>04/05/2017 08:10:15 AM</td>\n",
       "      <td>Running Late</td>\n",
       "      <td>Pre-K</td>\n",
       "    </tr>\n",
       "    <tr>\n",
       "      <th>281106</th>\n",
       "      <td>2016-2017</td>\n",
       "      <td>1341521</td>\n",
       "      <td>Pre-K/EI</td>\n",
       "      <td>0001</td>\n",
       "      <td>5</td>\n",
       "      <td>Heavy Traffic</td>\n",
       "      <td>C579</td>\n",
       "      <td>04/24/2017 07:42:00 AM</td>\n",
       "      <td>04/24/2017 07:44:00 AM</td>\n",
       "      <td>Bronx</td>\n",
       "      <td>...</td>\n",
       "      <td>20 MINS</td>\n",
       "      <td>0</td>\n",
       "      <td>Yes</td>\n",
       "      <td>Yes</td>\n",
       "      <td>No</td>\n",
       "      <td>04/24/2017 07:44:00 AM</td>\n",
       "      <td>NaN</td>\n",
       "      <td>04/24/2017 07:44:15 AM</td>\n",
       "      <td>Running Late</td>\n",
       "      <td>Pre-K</td>\n",
       "    </tr>\n",
       "    <tr>\n",
       "      <th>281107</th>\n",
       "      <td>2016-2017</td>\n",
       "      <td>1353044</td>\n",
       "      <td>Special Ed PM Run</td>\n",
       "      <td>GC0112</td>\n",
       "      <td>X928</td>\n",
       "      <td>Heavy Traffic</td>\n",
       "      <td>09003</td>\n",
       "      <td>05/25/2017 04:22:00 PM</td>\n",
       "      <td>05/25/2017 04:28:00 PM</td>\n",
       "      <td>Bronx</td>\n",
       "      <td>...</td>\n",
       "      <td>20-25MINS</td>\n",
       "      <td>0</td>\n",
       "      <td>Yes</td>\n",
       "      <td>Yes</td>\n",
       "      <td>Yes</td>\n",
       "      <td>05/25/2017 04:28:00 PM</td>\n",
       "      <td>90323827</td>\n",
       "      <td>05/25/2017 04:34:36 PM</td>\n",
       "      <td>Running Late</td>\n",
       "      <td>School-Age</td>\n",
       "    </tr>\n",
       "    <tr>\n",
       "      <th>281108</th>\n",
       "      <td>2016-2017</td>\n",
       "      <td>1353045</td>\n",
       "      <td>Special Ed PM Run</td>\n",
       "      <td>5525D</td>\n",
       "      <td>Q920</td>\n",
       "      <td>Won`t Start</td>\n",
       "      <td>24457</td>\n",
       "      <td>05/25/2017 04:27:00 PM</td>\n",
       "      <td>05/25/2017 04:30:00 PM</td>\n",
       "      <td>Queens</td>\n",
       "      <td>...</td>\n",
       "      <td>NaN</td>\n",
       "      <td>0</td>\n",
       "      <td>Yes</td>\n",
       "      <td>Yes</td>\n",
       "      <td>No</td>\n",
       "      <td>05/25/2017 04:30:00 PM</td>\n",
       "      <td>NaN</td>\n",
       "      <td>05/25/2017 04:30:07 PM</td>\n",
       "      <td>Breakdown</td>\n",
       "      <td>School-Age</td>\n",
       "    </tr>\n",
       "    <tr>\n",
       "      <th>281109</th>\n",
       "      <td>2016-2017</td>\n",
       "      <td>1353046</td>\n",
       "      <td>Project Read PM Run</td>\n",
       "      <td>2530</td>\n",
       "      <td>K617</td>\n",
       "      <td>Other</td>\n",
       "      <td>21436</td>\n",
       "      <td>05/25/2017 04:36:00 PM</td>\n",
       "      <td>05/25/2017 04:37:00 PM</td>\n",
       "      <td>Brooklyn</td>\n",
       "      <td>...</td>\n",
       "      <td>45min</td>\n",
       "      <td>7</td>\n",
       "      <td>Yes</td>\n",
       "      <td>Yes</td>\n",
       "      <td>Yes</td>\n",
       "      <td>05/25/2017 04:37:00 PM</td>\n",
       "      <td>NaN</td>\n",
       "      <td>05/25/2017 04:37:37 PM</td>\n",
       "      <td>Running Late</td>\n",
       "      <td>School-Age</td>\n",
       "    </tr>\n",
       "  </tbody>\n",
       "</table>\n",
       "<p>5 rows × 21 columns</p>\n",
       "</div>"
      ],
      "text/plain": [
       "       School_Year  Busbreakdown_ID             Run_Type  Bus_No Route_Number  \\\n",
       "281105   2016-2017          1338452             Pre-K/EI    9345            2   \n",
       "281106   2016-2017          1341521             Pre-K/EI    0001            5   \n",
       "281107   2016-2017          1353044    Special Ed PM Run  GC0112         X928   \n",
       "281108   2016-2017          1353045    Special Ed PM Run   5525D         Q920   \n",
       "281109   2016-2017          1353046  Project Read PM Run    2530         K617   \n",
       "\n",
       "               Reason Schools_Serviced             Occurred_On  \\\n",
       "281105  Heavy Traffic             C530  04/05/2017 08:00:00 AM   \n",
       "281106  Heavy Traffic             C579  04/24/2017 07:42:00 AM   \n",
       "281107  Heavy Traffic            09003  05/25/2017 04:22:00 PM   \n",
       "281108    Won`t Start            24457  05/25/2017 04:27:00 PM   \n",
       "281109          Other            21436  05/25/2017 04:36:00 PM   \n",
       "\n",
       "                    Created_On      Boro  ... How_Long_Delayed  \\\n",
       "281105  04/05/2017 08:10:00 AM     Bronx  ...            15-20   \n",
       "281106  04/24/2017 07:44:00 AM     Bronx  ...          20 MINS   \n",
       "281107  05/25/2017 04:28:00 PM     Bronx  ...        20-25MINS   \n",
       "281108  05/25/2017 04:30:00 PM    Queens  ...              NaN   \n",
       "281109  05/25/2017 04:37:00 PM  Brooklyn  ...            45min   \n",
       "\n",
       "       Number_Of_Students_On_The_Bus  Has_Contractor_Notified_Schools  \\\n",
       "281105                             7                              Yes   \n",
       "281106                             0                              Yes   \n",
       "281107                             0                              Yes   \n",
       "281108                             0                              Yes   \n",
       "281109                             7                              Yes   \n",
       "\n",
       "       Has_Contractor_Notified_Parents Have_You_Alerted_OPT  \\\n",
       "281105                             Yes                   No   \n",
       "281106                             Yes                   No   \n",
       "281107                             Yes                  Yes   \n",
       "281108                             Yes                   No   \n",
       "281109                             Yes                  Yes   \n",
       "\n",
       "                   Informed_On Incident_Number         Last_Updated_On  \\\n",
       "281105  04/05/2017 08:10:00 AM             NaN  04/05/2017 08:10:15 AM   \n",
       "281106  04/24/2017 07:44:00 AM             NaN  04/24/2017 07:44:15 AM   \n",
       "281107  05/25/2017 04:28:00 PM        90323827  05/25/2017 04:34:36 PM   \n",
       "281108  05/25/2017 04:30:00 PM             NaN  05/25/2017 04:30:07 PM   \n",
       "281109  05/25/2017 04:37:00 PM             NaN  05/25/2017 04:37:37 PM   \n",
       "\n",
       "       Breakdown_or_Running_Late School_Age_or_PreK  \n",
       "281105              Running Late              Pre-K  \n",
       "281106              Running Late              Pre-K  \n",
       "281107              Running Late         School-Age  \n",
       "281108                 Breakdown         School-Age  \n",
       "281109              Running Late         School-Age  \n",
       "\n",
       "[5 rows x 21 columns]"
      ]
     },
     "execution_count": 5,
     "metadata": {},
     "output_type": "execute_result"
    }
   ],
   "source": [
    "# Checking the last 5 rows of data\n",
    "# ---\n",
    "#\n",
    "df.tail()"
   ]
  },
  {
   "cell_type": "code",
   "execution_count": 6,
   "metadata": {
    "id": "a8yvg3qQl_HF"
   },
   "outputs": [
    {
     "data": {
      "text/html": [
       "<div>\n",
       "<style scoped>\n",
       "    .dataframe tbody tr th:only-of-type {\n",
       "        vertical-align: middle;\n",
       "    }\n",
       "\n",
       "    .dataframe tbody tr th {\n",
       "        vertical-align: top;\n",
       "    }\n",
       "\n",
       "    .dataframe thead th {\n",
       "        text-align: right;\n",
       "    }\n",
       "</style>\n",
       "<table border=\"1\" class=\"dataframe\">\n",
       "  <thead>\n",
       "    <tr style=\"text-align: right;\">\n",
       "      <th></th>\n",
       "      <th>School_Year</th>\n",
       "      <th>Busbreakdown_ID</th>\n",
       "      <th>Run_Type</th>\n",
       "      <th>Bus_No</th>\n",
       "      <th>Route_Number</th>\n",
       "      <th>Reason</th>\n",
       "      <th>Schools_Serviced</th>\n",
       "      <th>Occurred_On</th>\n",
       "      <th>Created_On</th>\n",
       "      <th>Boro</th>\n",
       "      <th>...</th>\n",
       "      <th>How_Long_Delayed</th>\n",
       "      <th>Number_Of_Students_On_The_Bus</th>\n",
       "      <th>Has_Contractor_Notified_Schools</th>\n",
       "      <th>Has_Contractor_Notified_Parents</th>\n",
       "      <th>Have_You_Alerted_OPT</th>\n",
       "      <th>Informed_On</th>\n",
       "      <th>Incident_Number</th>\n",
       "      <th>Last_Updated_On</th>\n",
       "      <th>Breakdown_or_Running_Late</th>\n",
       "      <th>School_Age_or_PreK</th>\n",
       "    </tr>\n",
       "  </thead>\n",
       "  <tbody>\n",
       "    <tr>\n",
       "      <th>215133</th>\n",
       "      <td>2017-2018</td>\n",
       "      <td>1401153</td>\n",
       "      <td>Special Ed AM Run</td>\n",
       "      <td>GT1487</td>\n",
       "      <td>Y886</td>\n",
       "      <td>Heavy Traffic</td>\n",
       "      <td>08146,08410,08498</td>\n",
       "      <td>01/09/2018 06:45:00 AM</td>\n",
       "      <td>01/09/2018 06:47:00 AM</td>\n",
       "      <td>NaN</td>\n",
       "      <td>...</td>\n",
       "      <td>0-15 Min</td>\n",
       "      <td>0</td>\n",
       "      <td>Yes</td>\n",
       "      <td>Yes</td>\n",
       "      <td>Yes</td>\n",
       "      <td>01/09/2018 06:47:00 AM</td>\n",
       "      <td>NaN</td>\n",
       "      <td>01/01/1900 12:00:00 AM</td>\n",
       "      <td>Running Late</td>\n",
       "      <td>School-Age</td>\n",
       "    </tr>\n",
       "    <tr>\n",
       "      <th>208752</th>\n",
       "      <td>2017-2018</td>\n",
       "      <td>1400941</td>\n",
       "      <td>Special Ed AM Run</td>\n",
       "      <td>1107</td>\n",
       "      <td>X337</td>\n",
       "      <td>Won`t Start</td>\n",
       "      <td>12084</td>\n",
       "      <td>01/08/2018 02:39:00 PM</td>\n",
       "      <td>01/08/2018 02:55:00 PM</td>\n",
       "      <td>Bronx</td>\n",
       "      <td>...</td>\n",
       "      <td>NaN</td>\n",
       "      <td>0</td>\n",
       "      <td>Yes</td>\n",
       "      <td>Yes</td>\n",
       "      <td>No</td>\n",
       "      <td>01/08/2018 02:55:00 PM</td>\n",
       "      <td>NaN</td>\n",
       "      <td>01/01/1900 12:00:00 AM</td>\n",
       "      <td>Breakdown</td>\n",
       "      <td>School-Age</td>\n",
       "    </tr>\n",
       "    <tr>\n",
       "      <th>273036</th>\n",
       "      <td>2016-2017</td>\n",
       "      <td>1289093</td>\n",
       "      <td>Pre-K/EI</td>\n",
       "      <td>418</td>\n",
       "      <td>2</td>\n",
       "      <td>Heavy Traffic</td>\n",
       "      <td>C445</td>\n",
       "      <td>09/28/2016 08:20:00 AM</td>\n",
       "      <td>09/28/2016 08:22:00 AM</td>\n",
       "      <td>Bronx</td>\n",
       "      <td>...</td>\n",
       "      <td>15 MINS</td>\n",
       "      <td>13</td>\n",
       "      <td>Yes</td>\n",
       "      <td>Yes</td>\n",
       "      <td>No</td>\n",
       "      <td>09/28/2016 08:22:00 AM</td>\n",
       "      <td>NaN</td>\n",
       "      <td>09/28/2016 08:22:55 AM</td>\n",
       "      <td>Running Late</td>\n",
       "      <td>Pre-K</td>\n",
       "    </tr>\n",
       "    <tr>\n",
       "      <th>56122</th>\n",
       "      <td>2016-2017</td>\n",
       "      <td>1300868</td>\n",
       "      <td>General Ed PM Run</td>\n",
       "      <td>2390</td>\n",
       "      <td>K9529</td>\n",
       "      <td>Late return from Field Trip</td>\n",
       "      <td>15038</td>\n",
       "      <td>11/17/2016 01:16:00 PM</td>\n",
       "      <td>11/17/2016 01:19:00 PM</td>\n",
       "      <td>Brooklyn</td>\n",
       "      <td>...</td>\n",
       "      <td>25 MINS</td>\n",
       "      <td>0</td>\n",
       "      <td>Yes</td>\n",
       "      <td>No</td>\n",
       "      <td>No</td>\n",
       "      <td>11/17/2016 01:19:00 PM</td>\n",
       "      <td>NaN</td>\n",
       "      <td>11/17/2016 01:19:36 PM</td>\n",
       "      <td>Running Late</td>\n",
       "      <td>School-Age</td>\n",
       "    </tr>\n",
       "    <tr>\n",
       "      <th>100511</th>\n",
       "      <td>2016-2017</td>\n",
       "      <td>1352662</td>\n",
       "      <td>Special Ed AM Run</td>\n",
       "      <td>2611</td>\n",
       "      <td>K315</td>\n",
       "      <td>Heavy Traffic</td>\n",
       "      <td>16360</td>\n",
       "      <td>05/25/2017 07:15:00 AM</td>\n",
       "      <td>05/25/2017 07:16:00 AM</td>\n",
       "      <td>Brooklyn</td>\n",
       "      <td>...</td>\n",
       "      <td>20-30 min</td>\n",
       "      <td>10</td>\n",
       "      <td>Yes</td>\n",
       "      <td>Yes</td>\n",
       "      <td>No</td>\n",
       "      <td>05/25/2017 07:16:00 AM</td>\n",
       "      <td>NaN</td>\n",
       "      <td>05/25/2017 07:16:56 AM</td>\n",
       "      <td>Running Late</td>\n",
       "      <td>School-Age</td>\n",
       "    </tr>\n",
       "    <tr>\n",
       "      <th>27884</th>\n",
       "      <td>2015-2016</td>\n",
       "      <td>1224578</td>\n",
       "      <td>Special Ed AM Run</td>\n",
       "      <td>8003</td>\n",
       "      <td>R055</td>\n",
       "      <td>Heavy Traffic</td>\n",
       "      <td>31061</td>\n",
       "      <td>10/26/2015 06:38:00 AM</td>\n",
       "      <td>10/26/2015 06:42:00 AM</td>\n",
       "      <td>Staten Island</td>\n",
       "      <td>...</td>\n",
       "      <td>20 mins</td>\n",
       "      <td>0</td>\n",
       "      <td>Yes</td>\n",
       "      <td>No</td>\n",
       "      <td>No</td>\n",
       "      <td>10/26/2015 06:42:00 AM</td>\n",
       "      <td>NaN</td>\n",
       "      <td>10/26/2015 06:42:15 AM</td>\n",
       "      <td>Running Late</td>\n",
       "      <td>School-Age</td>\n",
       "    </tr>\n",
       "    <tr>\n",
       "      <th>131943</th>\n",
       "      <td>2017-2018</td>\n",
       "      <td>1367727</td>\n",
       "      <td>Special Ed AM Run</td>\n",
       "      <td>10430</td>\n",
       "      <td>M625</td>\n",
       "      <td>Heavy Traffic</td>\n",
       "      <td>05200,05499</td>\n",
       "      <td>09/15/2017 08:09:00 AM</td>\n",
       "      <td>09/15/2017 08:12:00 AM</td>\n",
       "      <td>Manhattan</td>\n",
       "      <td>...</td>\n",
       "      <td>16-30 Min</td>\n",
       "      <td>5</td>\n",
       "      <td>Yes</td>\n",
       "      <td>Yes</td>\n",
       "      <td>No</td>\n",
       "      <td>09/15/2017 08:12:00 AM</td>\n",
       "      <td>NaN</td>\n",
       "      <td>01/01/1900 12:00:00 AM</td>\n",
       "      <td>Running Late</td>\n",
       "      <td>School-Age</td>\n",
       "    </tr>\n",
       "    <tr>\n",
       "      <th>38491</th>\n",
       "      <td>2016-2017</td>\n",
       "      <td>1279003</td>\n",
       "      <td>Special Ed AM Run</td>\n",
       "      <td>5005</td>\n",
       "      <td>W995</td>\n",
       "      <td>Heavy Traffic</td>\n",
       "      <td>75955</td>\n",
       "      <td>07/20/2016 08:06:00 AM</td>\n",
       "      <td>07/20/2016 08:08:00 AM</td>\n",
       "      <td>Brooklyn</td>\n",
       "      <td>...</td>\n",
       "      <td>20mins</td>\n",
       "      <td>4</td>\n",
       "      <td>Yes</td>\n",
       "      <td>Yes</td>\n",
       "      <td>Yes</td>\n",
       "      <td>07/20/2016 08:08:00 AM</td>\n",
       "      <td>NaN</td>\n",
       "      <td>07/20/2016 08:08:31 AM</td>\n",
       "      <td>Running Late</td>\n",
       "      <td>School-Age</td>\n",
       "    </tr>\n",
       "    <tr>\n",
       "      <th>157559</th>\n",
       "      <td>2017-2018</td>\n",
       "      <td>1381927</td>\n",
       "      <td>Special Ed AM Run</td>\n",
       "      <td>10448</td>\n",
       "      <td>Q358</td>\n",
       "      <td>Heavy Traffic</td>\n",
       "      <td>26481,26817,26918</td>\n",
       "      <td>10/30/2017 07:20:00 AM</td>\n",
       "      <td>10/30/2017 07:27:00 AM</td>\n",
       "      <td>Queens</td>\n",
       "      <td>...</td>\n",
       "      <td>16-30 Min</td>\n",
       "      <td>2</td>\n",
       "      <td>Yes</td>\n",
       "      <td>Yes</td>\n",
       "      <td>No</td>\n",
       "      <td>10/30/2017 07:27:00 AM</td>\n",
       "      <td>NaN</td>\n",
       "      <td>01/01/1900 12:00:00 AM</td>\n",
       "      <td>Running Late</td>\n",
       "      <td>School-Age</td>\n",
       "    </tr>\n",
       "    <tr>\n",
       "      <th>36172</th>\n",
       "      <td>2015-2016</td>\n",
       "      <td>1276139</td>\n",
       "      <td>Special Ed AM Run</td>\n",
       "      <td>5846D</td>\n",
       "      <td>X599</td>\n",
       "      <td>Mechanical Problem</td>\n",
       "      <td>07449</td>\n",
       "      <td>06/21/2016 06:33:00 AM</td>\n",
       "      <td>06/21/2016 07:13:00 AM</td>\n",
       "      <td>Bronx</td>\n",
       "      <td>...</td>\n",
       "      <td>NaN</td>\n",
       "      <td>1</td>\n",
       "      <td>Yes</td>\n",
       "      <td>Yes</td>\n",
       "      <td>No</td>\n",
       "      <td>06/21/2016 07:13:00 AM</td>\n",
       "      <td>NaN</td>\n",
       "      <td>06/21/2016 07:13:31 AM</td>\n",
       "      <td>Breakdown</td>\n",
       "      <td>School-Age</td>\n",
       "    </tr>\n",
       "  </tbody>\n",
       "</table>\n",
       "<p>10 rows × 21 columns</p>\n",
       "</div>"
      ],
      "text/plain": [
       "       School_Year  Busbreakdown_ID           Run_Type  Bus_No Route_Number  \\\n",
       "215133   2017-2018          1401153  Special Ed AM Run  GT1487         Y886   \n",
       "208752   2017-2018          1400941  Special Ed AM Run    1107         X337   \n",
       "273036   2016-2017          1289093           Pre-K/EI     418            2   \n",
       "56122    2016-2017          1300868  General Ed PM Run    2390        K9529   \n",
       "100511   2016-2017          1352662  Special Ed AM Run    2611         K315   \n",
       "27884    2015-2016          1224578  Special Ed AM Run    8003         R055   \n",
       "131943   2017-2018          1367727  Special Ed AM Run   10430         M625   \n",
       "38491    2016-2017          1279003  Special Ed AM Run    5005         W995   \n",
       "157559   2017-2018          1381927  Special Ed AM Run   10448         Q358   \n",
       "36172    2015-2016          1276139  Special Ed AM Run   5846D         X599   \n",
       "\n",
       "                             Reason   Schools_Serviced  \\\n",
       "215133                Heavy Traffic  08146,08410,08498   \n",
       "208752                  Won`t Start              12084   \n",
       "273036                Heavy Traffic               C445   \n",
       "56122   Late return from Field Trip              15038   \n",
       "100511                Heavy Traffic              16360   \n",
       "27884                 Heavy Traffic              31061   \n",
       "131943                Heavy Traffic        05200,05499   \n",
       "38491                 Heavy Traffic              75955   \n",
       "157559                Heavy Traffic  26481,26817,26918   \n",
       "36172            Mechanical Problem              07449   \n",
       "\n",
       "                   Occurred_On              Created_On           Boro  ...  \\\n",
       "215133  01/09/2018 06:45:00 AM  01/09/2018 06:47:00 AM            NaN  ...   \n",
       "208752  01/08/2018 02:39:00 PM  01/08/2018 02:55:00 PM          Bronx  ...   \n",
       "273036  09/28/2016 08:20:00 AM  09/28/2016 08:22:00 AM          Bronx  ...   \n",
       "56122   11/17/2016 01:16:00 PM  11/17/2016 01:19:00 PM       Brooklyn  ...   \n",
       "100511  05/25/2017 07:15:00 AM  05/25/2017 07:16:00 AM       Brooklyn  ...   \n",
       "27884   10/26/2015 06:38:00 AM  10/26/2015 06:42:00 AM  Staten Island  ...   \n",
       "131943  09/15/2017 08:09:00 AM  09/15/2017 08:12:00 AM      Manhattan  ...   \n",
       "38491   07/20/2016 08:06:00 AM  07/20/2016 08:08:00 AM       Brooklyn  ...   \n",
       "157559  10/30/2017 07:20:00 AM  10/30/2017 07:27:00 AM         Queens  ...   \n",
       "36172   06/21/2016 06:33:00 AM  06/21/2016 07:13:00 AM          Bronx  ...   \n",
       "\n",
       "       How_Long_Delayed Number_Of_Students_On_The_Bus  \\\n",
       "215133         0-15 Min                             0   \n",
       "208752              NaN                             0   \n",
       "273036          15 MINS                            13   \n",
       "56122           25 MINS                             0   \n",
       "100511        20-30 min                            10   \n",
       "27884           20 mins                             0   \n",
       "131943        16-30 Min                             5   \n",
       "38491            20mins                             4   \n",
       "157559        16-30 Min                             2   \n",
       "36172               NaN                             1   \n",
       "\n",
       "        Has_Contractor_Notified_Schools Has_Contractor_Notified_Parents  \\\n",
       "215133                              Yes                             Yes   \n",
       "208752                              Yes                             Yes   \n",
       "273036                              Yes                             Yes   \n",
       "56122                               Yes                              No   \n",
       "100511                              Yes                             Yes   \n",
       "27884                               Yes                              No   \n",
       "131943                              Yes                             Yes   \n",
       "38491                               Yes                             Yes   \n",
       "157559                              Yes                             Yes   \n",
       "36172                               Yes                             Yes   \n",
       "\n",
       "       Have_You_Alerted_OPT             Informed_On Incident_Number  \\\n",
       "215133                  Yes  01/09/2018 06:47:00 AM             NaN   \n",
       "208752                   No  01/08/2018 02:55:00 PM             NaN   \n",
       "273036                   No  09/28/2016 08:22:00 AM             NaN   \n",
       "56122                    No  11/17/2016 01:19:00 PM             NaN   \n",
       "100511                   No  05/25/2017 07:16:00 AM             NaN   \n",
       "27884                    No  10/26/2015 06:42:00 AM             NaN   \n",
       "131943                   No  09/15/2017 08:12:00 AM             NaN   \n",
       "38491                   Yes  07/20/2016 08:08:00 AM             NaN   \n",
       "157559                   No  10/30/2017 07:27:00 AM             NaN   \n",
       "36172                    No  06/21/2016 07:13:00 AM             NaN   \n",
       "\n",
       "               Last_Updated_On Breakdown_or_Running_Late School_Age_or_PreK  \n",
       "215133  01/01/1900 12:00:00 AM              Running Late         School-Age  \n",
       "208752  01/01/1900 12:00:00 AM                 Breakdown         School-Age  \n",
       "273036  09/28/2016 08:22:55 AM              Running Late              Pre-K  \n",
       "56122   11/17/2016 01:19:36 PM              Running Late         School-Age  \n",
       "100511  05/25/2017 07:16:56 AM              Running Late         School-Age  \n",
       "27884   10/26/2015 06:42:15 AM              Running Late         School-Age  \n",
       "131943  01/01/1900 12:00:00 AM              Running Late         School-Age  \n",
       "38491   07/20/2016 08:08:31 AM              Running Late         School-Age  \n",
       "157559  01/01/1900 12:00:00 AM              Running Late         School-Age  \n",
       "36172   06/21/2016 07:13:31 AM                 Breakdown         School-Age  \n",
       "\n",
       "[10 rows x 21 columns]"
      ]
     },
     "execution_count": 6,
     "metadata": {},
     "output_type": "execute_result"
    }
   ],
   "source": [
    "# Sample 10 rows of data\n",
    "# ---\n",
    "#\n",
    "df.sample(10)"
   ]
  },
  {
   "cell_type": "code",
   "execution_count": 7,
   "metadata": {
    "id": "x3sfP6y2hgIS"
   },
   "outputs": [
    {
     "data": {
      "text/plain": [
       "(281110, 21)"
      ]
     },
     "execution_count": 7,
     "metadata": {},
     "output_type": "execute_result"
    }
   ],
   "source": [
    "# Checking number of rows and columns\n",
    "# ---\n",
    "#\n",
    "df.shape"
   ]
  },
  {
   "cell_type": "code",
   "execution_count": 8,
   "metadata": {
    "id": "AovarG6Bhk4y"
   },
   "outputs": [
    {
     "data": {
      "text/plain": [
       "School_Year                        object\n",
       "Busbreakdown_ID                     int64\n",
       "Run_Type                           object\n",
       "Bus_No                             object\n",
       "Route_Number                       object\n",
       "Reason                             object\n",
       "Schools_Serviced                   object\n",
       "Occurred_On                        object\n",
       "Created_On                         object\n",
       "Boro                               object\n",
       "Bus_Company_Name                   object\n",
       "How_Long_Delayed                   object\n",
       "Number_Of_Students_On_The_Bus       int64\n",
       "Has_Contractor_Notified_Schools    object\n",
       "Has_Contractor_Notified_Parents    object\n",
       "Have_You_Alerted_OPT               object\n",
       "Informed_On                        object\n",
       "Incident_Number                    object\n",
       "Last_Updated_On                    object\n",
       "Breakdown_or_Running_Late          object\n",
       "School_Age_or_PreK                 object\n",
       "dtype: object"
      ]
     },
     "execution_count": 8,
     "metadata": {},
     "output_type": "execute_result"
    }
   ],
   "source": [
    "# Checking datatypes\n",
    "# ---\n",
    "#\n",
    "df.dtypes"
   ]
  },
  {
   "cell_type": "markdown",
   "metadata": {
    "id": "sKNcQTasmCgA"
   },
   "source": [
    "Record your observations below:\n",
    "\n",
    "*   Observation 1 There are 21 columns\n",
    "*   Observation 2 The data types are object and unteger \n",
    "\n"
   ]
  },
  {
   "cell_type": "markdown",
   "metadata": {
    "id": "ckfufNrcUHeH"
   },
   "source": [
    "## 3. External Data Source Validation"
   ]
  },
  {
   "cell_type": "markdown",
   "metadata": {
    "id": "6L4sl_0WXlbg"
   },
   "source": [
    "You can make sure your data matches other credible information. This ensures that the measurements are roughly in line with what they should be and it serves as a check on what other things might be wrong in your dataset.\n",
    "\n",
    "External validation can often be as simple as checking your data against some other data i.e. country population your dataset with country population on world bank data.\n",
    "\n",
    "Replace the text found on this text cell with your external data source validation information."
   ]
  },
  {
   "cell_type": "markdown",
   "metadata": {
    "id": "FlBMxEDBUc9B"
   },
   "source": [
    "## 4. Data Preparation"
   ]
  },
  {
   "cell_type": "markdown",
   "metadata": {
    "id": "YNtWOlYAkcO_"
   },
   "source": [
    "### Performing Data Cleaning"
   ]
  },
  {
   "cell_type": "code",
   "execution_count": 10,
   "metadata": {
    "id": "YYxrLT0GiQSc"
   },
   "outputs": [
    {
     "name": "stdout",
     "output_type": "stream",
     "text": [
      "<class 'pandas.core.frame.DataFrame'>\n",
      "RangeIndex: 281110 entries, 0 to 281109\n",
      "Data columns (total 21 columns):\n",
      " #   Column                           Non-Null Count   Dtype \n",
      "---  ------                           --------------   ----- \n",
      " 0   School_Year                      281110 non-null  object\n",
      " 1   Busbreakdown_ID                  281110 non-null  int64 \n",
      " 2   Run_Type                         281107 non-null  object\n",
      " 3   Bus_No                           281101 non-null  object\n",
      " 4   Route_Number                     281103 non-null  object\n",
      " 5   Reason                           281108 non-null  object\n",
      " 6   Schools_Serviced                 281103 non-null  object\n",
      " 7   Occurred_On                      281110 non-null  object\n",
      " 8   Created_On                       281110 non-null  object\n",
      " 9   Boro                             267649 non-null  object\n",
      " 10  Bus_Company_Name                 281110 non-null  object\n",
      " 11  How_Long_Delayed                 245502 non-null  object\n",
      " 12  Number_Of_Students_On_The_Bus    281110 non-null  int64 \n",
      " 13  Has_Contractor_Notified_Schools  281110 non-null  object\n",
      " 14  Has_Contractor_Notified_Parents  281110 non-null  object\n",
      " 15  Have_You_Alerted_OPT             281110 non-null  object\n",
      " 16  Informed_On                      281110 non-null  object\n",
      " 17  Incident_Number                  9483 non-null    object\n",
      " 18  Last_Updated_On                  281110 non-null  object\n",
      " 19  Breakdown_or_Running_Late        281110 non-null  object\n",
      " 20  School_Age_or_PreK               281110 non-null  object\n",
      "dtypes: int64(2), object(19)\n",
      "memory usage: 45.0+ MB\n"
     ]
    },
    {
     "data": {
      "text/plain": [
       "School_Year                             0\n",
       "Busbreakdown_ID                         0\n",
       "Run_Type                                3\n",
       "Bus_No                                  9\n",
       "Route_Number                            7\n",
       "Reason                                  2\n",
       "Schools_Serviced                        7\n",
       "Occurred_On                             0\n",
       "Created_On                              0\n",
       "Boro                                13461\n",
       "Bus_Company_Name                        0\n",
       "How_Long_Delayed                    35608\n",
       "Number_Of_Students_On_The_Bus           0\n",
       "Has_Contractor_Notified_Schools         0\n",
       "Has_Contractor_Notified_Parents         0\n",
       "Have_You_Alerted_OPT                    0\n",
       "Informed_On                             0\n",
       "Incident_Number                    271627\n",
       "Last_Updated_On                         0\n",
       "Breakdown_or_Running_Late               0\n",
       "School_Age_or_PreK                      0\n",
       "dtype: int64"
      ]
     },
     "execution_count": 10,
     "metadata": {},
     "output_type": "execute_result"
    }
   ],
   "source": [
    "# Checking datatypes and missing entries of all the variables\n",
    "# ---\n",
    "#\n",
    "df.info()\n",
    "df.isnull().sum()"
   ]
  },
  {
   "cell_type": "markdown",
   "metadata": {
    "id": "NSgG917YmgbK"
   },
   "source": [
    "We observe the following from our dataset:\n",
    "\n",
    "*   Observation 1 There are some missing values\n",
    "*   Observation 2\n",
    "\n"
   ]
  },
  {
   "cell_type": "code",
   "execution_count": 12,
   "metadata": {
    "id": "ydiwcHbkHSMt"
   },
   "outputs": [
    {
     "name": "stdout",
     "output_type": "stream",
     "text": [
      "Index(['school_year', 'busbreakdown_id', 'run_type', 'bus_no', 'route_number',\n",
      "       'reason', 'schools_serviced', 'occurred_on', 'created_on', 'boro',\n",
      "       'bus_company_name', 'how_long_delayed', 'number_of_students_on_the_bus',\n",
      "       'has_contractor_notified_schools', 'has_contractor_notified_parents',\n",
      "       'have_you_alerted_opt', 'informed_on', 'incident_number',\n",
      "       'last_updated_on', 'breakdown_or_running_late', 'school_age_or_prek'],\n",
      "      dtype='object')\n"
     ]
    }
   ],
   "source": [
    "# Standardizing your dataset i.e. variable renaming\n",
    "# ---\n",
    "#\n",
    "df.columns = df.columns.str.strip().str.lower().str.replace(' ', '_').str.replace('(', '').str.replace(')', '')\n",
    "print(df.columns)"
   ]
  },
  {
   "cell_type": "markdown",
   "metadata": {
    "id": "ijz_pJT4ml-i"
   },
   "source": [
    "We observe the following from our dataset:\n",
    "\n",
    "*   Observation 1 The columns names were not standardized\n",
    "*   Observation 2\n",
    "\n"
   ]
  },
  {
   "cell_type": "code",
   "execution_count": 16,
   "metadata": {
    "id": "VcfnxBJciRet"
   },
   "outputs": [
    {
     "name": "stdout",
     "output_type": "stream",
     "text": [
      "Number of duplicate rows: 0\n",
      "Empty DataFrame\n",
      "Columns: [school_year, busbreakdown_id, run_type, bus_no, route_number, reason, schools_serviced, occurred_on, created_on, boro, bus_company_name, how_long_delayed, number_of_students_on_the_bus, has_contractor_notified_schools, has_contractor_notified_parents, have_you_alerted_opt, informed_on, incident_number, last_updated_on, breakdown_or_running_late, school_age_or_prek]\n",
      "Index: []\n",
      "\n",
      "[0 rows x 21 columns]\n"
     ]
    }
   ],
   "source": [
    "# Checking how many duplicate rows are there in the data\n",
    "# ---\n",
    "#\n",
    "duplicate_count = df.duplicated().sum()\n",
    "print(f\"Number of duplicate rows: {duplicate_count}\")\n",
    "\n",
    "duplicate_rows = df[df.duplicated()]\n",
    "print(duplicate_rows)\n",
    "\n"
   ]
  },
  {
   "cell_type": "markdown",
   "metadata": {
    "id": "6iP8KPKImnvC"
   },
   "source": [
    "We observe the following from our dataset:\n",
    "\n",
    "*   Observation 1 There are no duplicated rows\n",
    "*   Observation 2\n",
    "\n"
   ]
  },
  {
   "cell_type": "code",
   "execution_count": 20,
   "metadata": {
    "id": "fwXq9B1LjlaN"
   },
   "outputs": [
    {
     "data": {
      "text/plain": [
       "school_year                        False\n",
       "busbreakdown_id                    False\n",
       "run_type                           False\n",
       "bus_no                             False\n",
       "route_number                       False\n",
       "reason                             False\n",
       "schools_serviced                   False\n",
       "occurred_on                        False\n",
       "created_on                         False\n",
       "boro                               False\n",
       "bus_company_name                   False\n",
       "how_long_delayed                   False\n",
       "number_of_students_on_the_bus      False\n",
       "has_contractor_notified_schools    False\n",
       "has_contractor_notified_parents    False\n",
       "have_you_alerted_opt               False\n",
       "informed_on                        False\n",
       "incident_number                    False\n",
       "last_updated_on                    False\n",
       "breakdown_or_running_late          False\n",
       "school_age_or_prek                 False\n",
       "dtype: bool"
      ]
     },
     "execution_count": 20,
     "metadata": {},
     "output_type": "execute_result"
    }
   ],
   "source": [
    "# Checking if any of the columns are all null\n",
    "# ---\n",
    "#\n",
    "df.isnull().all()\n"
   ]
  },
  {
   "cell_type": "markdown",
   "metadata": {
    "id": "qqZJ1NF3mxHh"
   },
   "source": [
    "We observe the following from our dataset:\n",
    "\n",
    "*   Observation 1 none of the columns is completely null\n",
    "*   Observation 2\n",
    "\n"
   ]
  },
  {
   "cell_type": "code",
   "execution_count": 21,
   "metadata": {
    "id": "NsvDZHqxjrdx"
   },
   "outputs": [
    {
     "data": {
      "text/plain": [
       "0         False\n",
       "1         False\n",
       "2         False\n",
       "3         False\n",
       "4         False\n",
       "          ...  \n",
       "281105    False\n",
       "281106    False\n",
       "281107    False\n",
       "281108    False\n",
       "281109    False\n",
       "Length: 281110, dtype: bool"
      ]
     },
     "execution_count": 21,
     "metadata": {},
     "output_type": "execute_result"
    }
   ],
   "source": [
    "# Checking if any of the rows are all null\n",
    "# ---\n",
    "#\n",
    "df.isnull().all(axis=1)"
   ]
  },
  {
   "cell_type": "markdown",
   "metadata": {
    "id": "k-i3KQTLnBvZ"
   },
   "source": [
    "We observe the following from our dataset:\n",
    "\n",
    "*   Observation 1 None of the rows is copmletely null\n",
    "*   Observation 2\n",
    "\n"
   ]
  },
  {
   "cell_type": "code",
   "execution_count": 22,
   "metadata": {
    "id": "LRdCkarYiin-"
   },
   "outputs": [
    {
     "data": {
      "text/plain": [
       "array(['Yes', 'No'], dtype=object)"
      ]
     },
     "execution_count": 22,
     "metadata": {},
     "output_type": "execute_result"
    }
   ],
   "source": [
    "# Checking if the \"Yes/No\" fields contain only these 2 values\n",
    "# for have_you_alerted_opt variable\n",
    "# ---\n",
    "# Hint: Use unique() function\n",
    "#\n",
    "df.have_you_alerted_opt.unique()"
   ]
  },
  {
   "cell_type": "markdown",
   "metadata": {
    "id": "dB335aOVnCxj"
   },
   "source": [
    "We observe the following from our dataset:\n",
    "\n",
    "*   Observation 1  The \"Yes/No\" fields contain only these 2 values for have_you_alerted_opt variable\n",
    "*   Observation 2\n",
    "\n"
   ]
  },
  {
   "cell_type": "code",
   "execution_count": 23,
   "metadata": {
    "id": "JbPVfstMikvf"
   },
   "outputs": [
    {
     "data": {
      "text/plain": [
       "array(['No', 'Yes'], dtype=object)"
      ]
     },
     "execution_count": 23,
     "metadata": {},
     "output_type": "execute_result"
    }
   ],
   "source": [
    "# Checking if the \"Yes/No\" fields contain only these 2 values\n",
    "# for has_contractor_notified_parents variable\n",
    "# ---\n",
    "#\n",
    "df.has_contractor_notified_parents.unique()"
   ]
  },
  {
   "cell_type": "markdown",
   "metadata": {
    "id": "W_YnOORcnGYw"
   },
   "source": [
    "We observe the following from our dataset:\n",
    "\n",
    "*   Observation 1\n",
    "*   Observation 2\n",
    "\n"
   ]
  },
  {
   "cell_type": "code",
   "execution_count": 24,
   "metadata": {
    "id": "_1b7RAbNi3xf"
   },
   "outputs": [
    {
     "data": {
      "text/plain": [
       "array(['Yes', 'No'], dtype=object)"
      ]
     },
     "execution_count": 24,
     "metadata": {},
     "output_type": "execute_result"
    }
   ],
   "source": [
    "# Checking if the \"Yes/No\" fields contain only these 2 values\n",
    "# for has_contractor_notified_schools variable\n",
    "# ---\n",
    "#\n",
    "df.has_contractor_notified_schools.unique()"
   ]
  },
  {
   "cell_type": "markdown",
   "metadata": {
    "id": "vBRzzYPinIdJ"
   },
   "source": [
    "We observe the following from our dataset:\n",
    "\n",
    "*   Observation 1\n",
    "*   Observation 2\n",
    "\n"
   ]
  },
  {
   "cell_type": "code",
   "execution_count": 25,
   "metadata": {
    "id": "moY8-oqAjt7k"
   },
   "outputs": [
    {
     "data": {
      "text/plain": [
       "array(['Running Late', 'Breakdown'], dtype=object)"
      ]
     },
     "execution_count": 25,
     "metadata": {},
     "output_type": "execute_result"
    }
   ],
   "source": [
    "# Checking unique values in break_down_or_running_late variable to ensure there is no duplication\n",
    "# ---\n",
    "#\n",
    "df.breakdown_or_running_late.unique()"
   ]
  },
  {
   "cell_type": "code",
   "execution_count": 26,
   "metadata": {
    "id": "ICemYiD1kQTK"
   },
   "outputs": [
    {
     "data": {
      "text/plain": [
       "array(['School-Age', 'Pre-K'], dtype=object)"
      ]
     },
     "execution_count": 26,
     "metadata": {},
     "output_type": "execute_result"
    }
   ],
   "source": [
    "# Checking unique values in school_age_or_prek variable\n",
    "# ---\n",
    "#\n",
    "df.school_age_or_prek.unique()"
   ]
  },
  {
   "cell_type": "code",
   "execution_count": 27,
   "metadata": {
    "id": "geEgU4KhkUkF"
   },
   "outputs": [
    {
     "data": {
      "text/plain": [
       "array(['2015-2016', '2017-2018', '2018-2019', '2016-2017', '2019-2020'],\n",
       "      dtype=object)"
      ]
     },
     "execution_count": 27,
     "metadata": {},
     "output_type": "execute_result"
    }
   ],
   "source": [
    "# Checking unique values in school_year variable\n",
    "# ---\n",
    "#\n",
    "df.school_year.unique()"
   ]
  },
  {
   "cell_type": "code",
   "execution_count": 28,
   "metadata": {
    "id": "xo1liVO-kU6R"
   },
   "outputs": [
    {
     "data": {
      "text/plain": [
       "array(['Heavy Traffic', 'Flat Tire', 'Other', 'Won`t Start',\n",
       "       'Mechanical Problem', 'Problem Run', 'Accident',\n",
       "       'Late return from Field Trip', 'Delayed by School',\n",
       "       'Weather Conditions', nan], dtype=object)"
      ]
     },
     "execution_count": 28,
     "metadata": {},
     "output_type": "execute_result"
    }
   ],
   "source": [
    "# Checking unique values in reason variable\n",
    "# ---\n",
    "#\n",
    "df.reason.unique()"
   ]
  },
  {
   "cell_type": "code",
   "execution_count": 29,
   "metadata": {
    "id": "D_g8UMAtkWRO"
   },
   "outputs": [
    {
     "data": {
      "text/plain": [
       "array(['Special Ed AM Run', 'Pre-K/EI', 'General Ed AM Run',\n",
       "       'General Ed Field Trip', 'Special Ed PM Run', 'General Ed PM Run',\n",
       "       'Project Read PM Run', 'Special Ed Field Trip',\n",
       "       'Project Read AM Run', 'Project Read Field Trip', nan],\n",
       "      dtype=object)"
      ]
     },
     "execution_count": 29,
     "metadata": {},
     "output_type": "execute_result"
    }
   ],
   "source": [
    "# Checking unique values in run_type variable\n",
    "# ---\n",
    "#\n",
    "df.run_type.unique()"
   ]
  },
  {
   "cell_type": "code",
   "execution_count": 30,
   "metadata": {
    "id": "xwmxKhGmkYNK"
   },
   "outputs": [
    {
     "data": {
      "text/plain": [
       "array(['New Jersey', 'Manhattan', 'Bronx', 'Westchester', 'Brooklyn',\n",
       "       'Rockland County', 'Nassau County', nan, 'Queens', 'Staten Island',\n",
       "       'Connecticut', 'All Boroughs'], dtype=object)"
      ]
     },
     "execution_count": 30,
     "metadata": {},
     "output_type": "execute_result"
    }
   ],
   "source": [
    "# Checking unique values in boro variable\n",
    "# ---\n",
    "#\n",
    "df.boro.unique()"
   ]
  },
  {
   "cell_type": "markdown",
   "metadata": {
    "id": "g8b_wULuodN8"
   },
   "source": [
    "### Overall Data Cleaning Observations\n",
    "**Missing Values**\n",
    "\n",
    "- There are a large number of missing values in the fields \"How_Long_Delayed\" which is important to our analysis.\n",
    "- There is an extremely large number of missing values in the \"Incident_number\" field but this is not incidental to our analysis and cannot be filled in without additional information.\n",
    "\n",
    "**Error in values**\n",
    "\n",
    "- \"How_Long_Delayed\" contains string values such as \"MINS\" or \"mins\" and a range of values, which needs to be changed to single integer value for our analysis.\n",
    "\n",
    "**Error in Datatypes**\n",
    "\n",
    "- \"How_Long_Delayed\" is a string datatype, should be converted to integer type.\n",
    "\n",
    "**Error in field names**\n",
    "- The column name \"Boro\" should be renamed to \"Borough\".\n"
   ]
  },
  {
   "cell_type": "markdown",
   "metadata": {
    "id": "EUXeWCRuprIp"
   },
   "source": [
    "### Next Steps: Data Cleaning Steps\n",
    "\n",
    "**Error in values**\n",
    "\n",
    "- Extract the first integer value (lowest delay time) in the column \"How_Long_Delayed\"\n",
    "\n",
    "\n",
    "**Missing Values**\n",
    "\n",
    "- Impute the missing values in the field \"How_Long_Delayed\" with the mean value.\n",
    "\n",
    "\n",
    "**Error in Datatypes**\n",
    "\n",
    "- Convert \"How_Long_Delayed\" to int datatype.\n",
    "\n",
    "\n",
    "\n",
    "**Error in field names**\n",
    "\n",
    "- Rename the column \"Boro\" to \"Borough\"."
   ]
  },
  {
   "cell_type": "code",
   "execution_count": 31,
   "metadata": {
    "id": "27EznvNypkVb"
   },
   "outputs": [
    {
     "data": {
      "text/html": [
       "<div>\n",
       "<style scoped>\n",
       "    .dataframe tbody tr th:only-of-type {\n",
       "        vertical-align: middle;\n",
       "    }\n",
       "\n",
       "    .dataframe tbody tr th {\n",
       "        vertical-align: top;\n",
       "    }\n",
       "\n",
       "    .dataframe thead th {\n",
       "        text-align: right;\n",
       "    }\n",
       "</style>\n",
       "<table border=\"1\" class=\"dataframe\">\n",
       "  <thead>\n",
       "    <tr style=\"text-align: right;\">\n",
       "      <th></th>\n",
       "      <th>school_year</th>\n",
       "      <th>busbreakdown_id</th>\n",
       "      <th>run_type</th>\n",
       "      <th>bus_no</th>\n",
       "      <th>route_number</th>\n",
       "      <th>reason</th>\n",
       "      <th>schools_serviced</th>\n",
       "      <th>occurred_on</th>\n",
       "      <th>created_on</th>\n",
       "      <th>boro</th>\n",
       "      <th>...</th>\n",
       "      <th>how_long_delayed</th>\n",
       "      <th>number_of_students_on_the_bus</th>\n",
       "      <th>has_contractor_notified_schools</th>\n",
       "      <th>has_contractor_notified_parents</th>\n",
       "      <th>have_you_alerted_opt</th>\n",
       "      <th>informed_on</th>\n",
       "      <th>incident_number</th>\n",
       "      <th>last_updated_on</th>\n",
       "      <th>breakdown_or_running_late</th>\n",
       "      <th>school_age_or_prek</th>\n",
       "    </tr>\n",
       "  </thead>\n",
       "  <tbody>\n",
       "    <tr>\n",
       "      <th>0</th>\n",
       "      <td>2015-2016</td>\n",
       "      <td>1227538</td>\n",
       "      <td>Special Ed AM Run</td>\n",
       "      <td>2621</td>\n",
       "      <td>J711</td>\n",
       "      <td>Heavy Traffic</td>\n",
       "      <td>75003</td>\n",
       "      <td>11/05/2015 08:10:00 AM</td>\n",
       "      <td>11/05/2015 08:12:00 AM</td>\n",
       "      <td>New Jersey</td>\n",
       "      <td>...</td>\n",
       "      <td>NaN</td>\n",
       "      <td>11</td>\n",
       "      <td>Yes</td>\n",
       "      <td>No</td>\n",
       "      <td>Yes</td>\n",
       "      <td>11/05/2015 08:12:00 AM</td>\n",
       "      <td>NaN</td>\n",
       "      <td>11/05/2015 08:12:14 AM</td>\n",
       "      <td>Running Late</td>\n",
       "      <td>School-Age</td>\n",
       "    </tr>\n",
       "    <tr>\n",
       "      <th>1</th>\n",
       "      <td>2015-2016</td>\n",
       "      <td>1227539</td>\n",
       "      <td>Special Ed AM Run</td>\n",
       "      <td>1260</td>\n",
       "      <td>M351</td>\n",
       "      <td>Heavy Traffic</td>\n",
       "      <td>06716</td>\n",
       "      <td>11/05/2015 08:10:00 AM</td>\n",
       "      <td>11/05/2015 08:12:00 AM</td>\n",
       "      <td>Manhattan</td>\n",
       "      <td>...</td>\n",
       "      <td>20MNS</td>\n",
       "      <td>2</td>\n",
       "      <td>Yes</td>\n",
       "      <td>Yes</td>\n",
       "      <td>No</td>\n",
       "      <td>11/05/2015 08:12:00 AM</td>\n",
       "      <td>NaN</td>\n",
       "      <td>11/05/2015 08:13:34 AM</td>\n",
       "      <td>Running Late</td>\n",
       "      <td>School-Age</td>\n",
       "    </tr>\n",
       "    <tr>\n",
       "      <th>2</th>\n",
       "      <td>2015-2016</td>\n",
       "      <td>1227540</td>\n",
       "      <td>Pre-K/EI</td>\n",
       "      <td>418</td>\n",
       "      <td>3</td>\n",
       "      <td>Heavy Traffic</td>\n",
       "      <td>C445</td>\n",
       "      <td>11/05/2015 08:09:00 AM</td>\n",
       "      <td>11/05/2015 08:13:00 AM</td>\n",
       "      <td>Bronx</td>\n",
       "      <td>...</td>\n",
       "      <td>15MIN</td>\n",
       "      <td>8</td>\n",
       "      <td>Yes</td>\n",
       "      <td>Yes</td>\n",
       "      <td>Yes</td>\n",
       "      <td>11/05/2015 08:13:00 AM</td>\n",
       "      <td>NaN</td>\n",
       "      <td>11/05/2015 08:13:22 AM</td>\n",
       "      <td>Running Late</td>\n",
       "      <td>Pre-K</td>\n",
       "    </tr>\n",
       "    <tr>\n",
       "      <th>3</th>\n",
       "      <td>2015-2016</td>\n",
       "      <td>1227541</td>\n",
       "      <td>Special Ed AM Run</td>\n",
       "      <td>4522</td>\n",
       "      <td>M271</td>\n",
       "      <td>Heavy Traffic</td>\n",
       "      <td>02699</td>\n",
       "      <td>11/05/2015 08:12:00 AM</td>\n",
       "      <td>11/05/2015 08:14:00 AM</td>\n",
       "      <td>Manhattan</td>\n",
       "      <td>...</td>\n",
       "      <td>15 MIN</td>\n",
       "      <td>6</td>\n",
       "      <td>No</td>\n",
       "      <td>No</td>\n",
       "      <td>No</td>\n",
       "      <td>11/05/2015 08:14:00 AM</td>\n",
       "      <td>NaN</td>\n",
       "      <td>11/05/2015 08:14:04 AM</td>\n",
       "      <td>Running Late</td>\n",
       "      <td>School-Age</td>\n",
       "    </tr>\n",
       "    <tr>\n",
       "      <th>4</th>\n",
       "      <td>2015-2016</td>\n",
       "      <td>1227542</td>\n",
       "      <td>Special Ed AM Run</td>\n",
       "      <td>3124</td>\n",
       "      <td>M373</td>\n",
       "      <td>Heavy Traffic</td>\n",
       "      <td>02116</td>\n",
       "      <td>11/05/2015 08:13:00 AM</td>\n",
       "      <td>11/05/2015 08:14:00 AM</td>\n",
       "      <td>Manhattan</td>\n",
       "      <td>...</td>\n",
       "      <td>NaN</td>\n",
       "      <td>6</td>\n",
       "      <td>No</td>\n",
       "      <td>No</td>\n",
       "      <td>No</td>\n",
       "      <td>11/05/2015 08:14:00 AM</td>\n",
       "      <td>NaN</td>\n",
       "      <td>11/05/2015 08:14:08 AM</td>\n",
       "      <td>Running Late</td>\n",
       "      <td>School-Age</td>\n",
       "    </tr>\n",
       "  </tbody>\n",
       "</table>\n",
       "<p>5 rows × 21 columns</p>\n",
       "</div>"
      ],
      "text/plain": [
       "  school_year  busbreakdown_id           run_type bus_no route_number  \\\n",
       "0   2015-2016          1227538  Special Ed AM Run   2621         J711   \n",
       "1   2015-2016          1227539  Special Ed AM Run   1260         M351   \n",
       "2   2015-2016          1227540           Pre-K/EI    418            3   \n",
       "3   2015-2016          1227541  Special Ed AM Run   4522         M271   \n",
       "4   2015-2016          1227542  Special Ed AM Run   3124         M373   \n",
       "\n",
       "          reason schools_serviced             occurred_on  \\\n",
       "0  Heavy Traffic            75003  11/05/2015 08:10:00 AM   \n",
       "1  Heavy Traffic            06716  11/05/2015 08:10:00 AM   \n",
       "2  Heavy Traffic             C445  11/05/2015 08:09:00 AM   \n",
       "3  Heavy Traffic            02699  11/05/2015 08:12:00 AM   \n",
       "4  Heavy Traffic            02116  11/05/2015 08:13:00 AM   \n",
       "\n",
       "               created_on        boro  ... how_long_delayed  \\\n",
       "0  11/05/2015 08:12:00 AM  New Jersey  ...              NaN   \n",
       "1  11/05/2015 08:12:00 AM   Manhattan  ...            20MNS   \n",
       "2  11/05/2015 08:13:00 AM       Bronx  ...            15MIN   \n",
       "3  11/05/2015 08:14:00 AM   Manhattan  ...           15 MIN   \n",
       "4  11/05/2015 08:14:00 AM   Manhattan  ...              NaN   \n",
       "\n",
       "  number_of_students_on_the_bus  has_contractor_notified_schools  \\\n",
       "0                            11                              Yes   \n",
       "1                             2                              Yes   \n",
       "2                             8                              Yes   \n",
       "3                             6                               No   \n",
       "4                             6                               No   \n",
       "\n",
       "  has_contractor_notified_parents have_you_alerted_opt  \\\n",
       "0                              No                  Yes   \n",
       "1                             Yes                   No   \n",
       "2                             Yes                  Yes   \n",
       "3                              No                   No   \n",
       "4                              No                   No   \n",
       "\n",
       "              informed_on incident_number         last_updated_on  \\\n",
       "0  11/05/2015 08:12:00 AM             NaN  11/05/2015 08:12:14 AM   \n",
       "1  11/05/2015 08:12:00 AM             NaN  11/05/2015 08:13:34 AM   \n",
       "2  11/05/2015 08:13:00 AM             NaN  11/05/2015 08:13:22 AM   \n",
       "3  11/05/2015 08:14:00 AM             NaN  11/05/2015 08:14:04 AM   \n",
       "4  11/05/2015 08:14:00 AM             NaN  11/05/2015 08:14:08 AM   \n",
       "\n",
       "  breakdown_or_running_late school_age_or_prek  \n",
       "0              Running Late         School-Age  \n",
       "1              Running Late         School-Age  \n",
       "2              Running Late              Pre-K  \n",
       "3              Running Late         School-Age  \n",
       "4              Running Late         School-Age  \n",
       "\n",
       "[5 rows x 21 columns]"
      ]
     },
     "execution_count": 31,
     "metadata": {},
     "output_type": "execute_result"
    }
   ],
   "source": [
    "# Lets first start by creating a copy of our dataframe\n",
    "# df_clean = df.copy(). We will use this copy as our cleaning copy.\n",
    "# ---\n",
    "#\n",
    "df_clean = df.copy()\n",
    "df_clean.head()"
   ]
  },
  {
   "cell_type": "code",
   "execution_count": 34,
   "metadata": {
    "id": "qlfP46wxqGIb"
   },
   "outputs": [
    {
     "data": {
      "text/plain": [
       "0    NaN\n",
       "1     20\n",
       "2     15\n",
       "3     15\n",
       "4    NaN\n",
       "Name: how_long_delayed, dtype: object"
      ]
     },
     "execution_count": 34,
     "metadata": {},
     "output_type": "execute_result"
    }
   ],
   "source": [
    "# Then extracting the lowest delay time in the column how_long_delayed from the string\n",
    "#\n",
    "df_clean['how_long_delayed'] = df_clean['how_long_delayed'].str.extract('(\\d+)')\n",
    "df_clean['how_long_delayed'].head()"
   ]
  },
  {
   "cell_type": "markdown",
   "metadata": {
    "id": "5TCaPQwzqZwx"
   },
   "source": [
    "We impute the null values in 'how_long_delayed' column with mean of the column. This will take a couple of steps..."
   ]
  },
  {
   "cell_type": "code",
   "execution_count": 35,
   "metadata": {
    "id": "jk49oxooqOLB"
   },
   "outputs": [],
   "source": [
    "# We first convert our how_long_delayed to float type to allow for imputation\n",
    "# ---\n",
    "#\n",
    "df_clean['how_long_delayed'] = df_clean['how_long_delayed'].astype(float)"
   ]
  },
  {
   "cell_type": "code",
   "execution_count": 36,
   "metadata": {
    "id": "9gkyJ9frqlTP"
   },
   "outputs": [],
   "source": [
    "# Then later perform our mean imputation\n",
    "# ---\n",
    "#\n",
    "df_clean['how_long_delayed'] = df_clean['how_long_delayed'].fillna(df_clean['how_long_delayed'].mean())"
   ]
  },
  {
   "cell_type": "code",
   "execution_count": 37,
   "metadata": {
    "id": "2BjIJBjdq05B"
   },
   "outputs": [],
   "source": [
    "# Then convert back our how_long_delayed column to integer datatype\n",
    "# ---\n",
    "#\n",
    "df_clean['how_long_delayed'] = df_clean['how_long_delayed'].astype(int)"
   ]
  },
  {
   "cell_type": "code",
   "execution_count": 38,
   "metadata": {
    "id": "PL3Mx2GjrDhD"
   },
   "outputs": [
    {
     "data": {
      "text/plain": [
       "np.int64(0)"
      ]
     },
     "execution_count": 38,
     "metadata": {},
     "output_type": "execute_result"
    }
   ],
   "source": [
    "# Then check for nulls in the column\n",
    "# ---\n",
    "#\n",
    "df_clean['how_long_delayed'].isnull().sum()"
   ]
  },
  {
   "cell_type": "code",
   "execution_count": 39,
   "metadata": {
    "id": "v8s5E8v6rJzX"
   },
   "outputs": [],
   "source": [
    "# Rename Boro column to Borough\n",
    "# ---\n",
    "#\n",
    "df_clean = df_clean.rename(columns={'boro': 'borough'})"
   ]
  },
  {
   "cell_type": "code",
   "execution_count": 40,
   "metadata": {
    "id": "AbYznrWJ2BC1"
   },
   "outputs": [],
   "source": [
    "# Lastly we convert all values in our colums to lower case\n",
    "# for ease of reading\n",
    "# ---\n",
    "#\n",
    "df_clean = df_clean.apply(lambda x: x.str.lower() if x.dtype == \"object\" else x)"
   ]
  },
  {
   "cell_type": "code",
   "execution_count": 41,
   "metadata": {
    "id": "Fe3IzcDyrS_6"
   },
   "outputs": [
    {
     "data": {
      "text/html": [
       "<div>\n",
       "<style scoped>\n",
       "    .dataframe tbody tr th:only-of-type {\n",
       "        vertical-align: middle;\n",
       "    }\n",
       "\n",
       "    .dataframe tbody tr th {\n",
       "        vertical-align: top;\n",
       "    }\n",
       "\n",
       "    .dataframe thead th {\n",
       "        text-align: right;\n",
       "    }\n",
       "</style>\n",
       "<table border=\"1\" class=\"dataframe\">\n",
       "  <thead>\n",
       "    <tr style=\"text-align: right;\">\n",
       "      <th></th>\n",
       "      <th>school_year</th>\n",
       "      <th>busbreakdown_id</th>\n",
       "      <th>run_type</th>\n",
       "      <th>bus_no</th>\n",
       "      <th>route_number</th>\n",
       "      <th>reason</th>\n",
       "      <th>schools_serviced</th>\n",
       "      <th>occurred_on</th>\n",
       "      <th>created_on</th>\n",
       "      <th>borough</th>\n",
       "      <th>...</th>\n",
       "      <th>how_long_delayed</th>\n",
       "      <th>number_of_students_on_the_bus</th>\n",
       "      <th>has_contractor_notified_schools</th>\n",
       "      <th>has_contractor_notified_parents</th>\n",
       "      <th>have_you_alerted_opt</th>\n",
       "      <th>informed_on</th>\n",
       "      <th>incident_number</th>\n",
       "      <th>last_updated_on</th>\n",
       "      <th>breakdown_or_running_late</th>\n",
       "      <th>school_age_or_prek</th>\n",
       "    </tr>\n",
       "  </thead>\n",
       "  <tbody>\n",
       "    <tr>\n",
       "      <th>0</th>\n",
       "      <td>2015-2016</td>\n",
       "      <td>1227538</td>\n",
       "      <td>special ed am run</td>\n",
       "      <td>2621</td>\n",
       "      <td>j711</td>\n",
       "      <td>heavy traffic</td>\n",
       "      <td>75003</td>\n",
       "      <td>11/05/2015 08:10:00 am</td>\n",
       "      <td>11/05/2015 08:12:00 am</td>\n",
       "      <td>new jersey</td>\n",
       "      <td>...</td>\n",
       "      <td>28</td>\n",
       "      <td>11</td>\n",
       "      <td>yes</td>\n",
       "      <td>no</td>\n",
       "      <td>yes</td>\n",
       "      <td>11/05/2015 08:12:00 am</td>\n",
       "      <td>NaN</td>\n",
       "      <td>11/05/2015 08:12:14 am</td>\n",
       "      <td>running late</td>\n",
       "      <td>school-age</td>\n",
       "    </tr>\n",
       "    <tr>\n",
       "      <th>1</th>\n",
       "      <td>2015-2016</td>\n",
       "      <td>1227539</td>\n",
       "      <td>special ed am run</td>\n",
       "      <td>1260</td>\n",
       "      <td>m351</td>\n",
       "      <td>heavy traffic</td>\n",
       "      <td>06716</td>\n",
       "      <td>11/05/2015 08:10:00 am</td>\n",
       "      <td>11/05/2015 08:12:00 am</td>\n",
       "      <td>manhattan</td>\n",
       "      <td>...</td>\n",
       "      <td>20</td>\n",
       "      <td>2</td>\n",
       "      <td>yes</td>\n",
       "      <td>yes</td>\n",
       "      <td>no</td>\n",
       "      <td>11/05/2015 08:12:00 am</td>\n",
       "      <td>NaN</td>\n",
       "      <td>11/05/2015 08:13:34 am</td>\n",
       "      <td>running late</td>\n",
       "      <td>school-age</td>\n",
       "    </tr>\n",
       "    <tr>\n",
       "      <th>2</th>\n",
       "      <td>2015-2016</td>\n",
       "      <td>1227540</td>\n",
       "      <td>pre-k/ei</td>\n",
       "      <td>418</td>\n",
       "      <td>3</td>\n",
       "      <td>heavy traffic</td>\n",
       "      <td>c445</td>\n",
       "      <td>11/05/2015 08:09:00 am</td>\n",
       "      <td>11/05/2015 08:13:00 am</td>\n",
       "      <td>bronx</td>\n",
       "      <td>...</td>\n",
       "      <td>15</td>\n",
       "      <td>8</td>\n",
       "      <td>yes</td>\n",
       "      <td>yes</td>\n",
       "      <td>yes</td>\n",
       "      <td>11/05/2015 08:13:00 am</td>\n",
       "      <td>NaN</td>\n",
       "      <td>11/05/2015 08:13:22 am</td>\n",
       "      <td>running late</td>\n",
       "      <td>pre-k</td>\n",
       "    </tr>\n",
       "    <tr>\n",
       "      <th>3</th>\n",
       "      <td>2015-2016</td>\n",
       "      <td>1227541</td>\n",
       "      <td>special ed am run</td>\n",
       "      <td>4522</td>\n",
       "      <td>m271</td>\n",
       "      <td>heavy traffic</td>\n",
       "      <td>02699</td>\n",
       "      <td>11/05/2015 08:12:00 am</td>\n",
       "      <td>11/05/2015 08:14:00 am</td>\n",
       "      <td>manhattan</td>\n",
       "      <td>...</td>\n",
       "      <td>15</td>\n",
       "      <td>6</td>\n",
       "      <td>no</td>\n",
       "      <td>no</td>\n",
       "      <td>no</td>\n",
       "      <td>11/05/2015 08:14:00 am</td>\n",
       "      <td>NaN</td>\n",
       "      <td>11/05/2015 08:14:04 am</td>\n",
       "      <td>running late</td>\n",
       "      <td>school-age</td>\n",
       "    </tr>\n",
       "    <tr>\n",
       "      <th>4</th>\n",
       "      <td>2015-2016</td>\n",
       "      <td>1227542</td>\n",
       "      <td>special ed am run</td>\n",
       "      <td>3124</td>\n",
       "      <td>m373</td>\n",
       "      <td>heavy traffic</td>\n",
       "      <td>02116</td>\n",
       "      <td>11/05/2015 08:13:00 am</td>\n",
       "      <td>11/05/2015 08:14:00 am</td>\n",
       "      <td>manhattan</td>\n",
       "      <td>...</td>\n",
       "      <td>28</td>\n",
       "      <td>6</td>\n",
       "      <td>no</td>\n",
       "      <td>no</td>\n",
       "      <td>no</td>\n",
       "      <td>11/05/2015 08:14:00 am</td>\n",
       "      <td>NaN</td>\n",
       "      <td>11/05/2015 08:14:08 am</td>\n",
       "      <td>running late</td>\n",
       "      <td>school-age</td>\n",
       "    </tr>\n",
       "  </tbody>\n",
       "</table>\n",
       "<p>5 rows × 21 columns</p>\n",
       "</div>"
      ],
      "text/plain": [
       "  school_year  busbreakdown_id           run_type bus_no route_number  \\\n",
       "0   2015-2016          1227538  special ed am run   2621         j711   \n",
       "1   2015-2016          1227539  special ed am run   1260         m351   \n",
       "2   2015-2016          1227540           pre-k/ei    418            3   \n",
       "3   2015-2016          1227541  special ed am run   4522         m271   \n",
       "4   2015-2016          1227542  special ed am run   3124         m373   \n",
       "\n",
       "          reason schools_serviced             occurred_on  \\\n",
       "0  heavy traffic            75003  11/05/2015 08:10:00 am   \n",
       "1  heavy traffic            06716  11/05/2015 08:10:00 am   \n",
       "2  heavy traffic             c445  11/05/2015 08:09:00 am   \n",
       "3  heavy traffic            02699  11/05/2015 08:12:00 am   \n",
       "4  heavy traffic            02116  11/05/2015 08:13:00 am   \n",
       "\n",
       "               created_on     borough  ... how_long_delayed  \\\n",
       "0  11/05/2015 08:12:00 am  new jersey  ...               28   \n",
       "1  11/05/2015 08:12:00 am   manhattan  ...               20   \n",
       "2  11/05/2015 08:13:00 am       bronx  ...               15   \n",
       "3  11/05/2015 08:14:00 am   manhattan  ...               15   \n",
       "4  11/05/2015 08:14:00 am   manhattan  ...               28   \n",
       "\n",
       "   number_of_students_on_the_bus  has_contractor_notified_schools  \\\n",
       "0                             11                              yes   \n",
       "1                              2                              yes   \n",
       "2                              8                              yes   \n",
       "3                              6                               no   \n",
       "4                              6                               no   \n",
       "\n",
       "  has_contractor_notified_parents have_you_alerted_opt  \\\n",
       "0                              no                  yes   \n",
       "1                             yes                   no   \n",
       "2                             yes                  yes   \n",
       "3                              no                   no   \n",
       "4                              no                   no   \n",
       "\n",
       "              informed_on incident_number         last_updated_on  \\\n",
       "0  11/05/2015 08:12:00 am             NaN  11/05/2015 08:12:14 am   \n",
       "1  11/05/2015 08:12:00 am             NaN  11/05/2015 08:13:34 am   \n",
       "2  11/05/2015 08:13:00 am             NaN  11/05/2015 08:13:22 am   \n",
       "3  11/05/2015 08:14:00 am             NaN  11/05/2015 08:14:04 am   \n",
       "4  11/05/2015 08:14:00 am             NaN  11/05/2015 08:14:08 am   \n",
       "\n",
       "  breakdown_or_running_late school_age_or_prek  \n",
       "0              running late         school-age  \n",
       "1              running late         school-age  \n",
       "2              running late              pre-k  \n",
       "3              running late         school-age  \n",
       "4              running late         school-age  \n",
       "\n",
       "[5 rows x 21 columns]"
      ]
     },
     "execution_count": 41,
     "metadata": {},
     "output_type": "execute_result"
    }
   ],
   "source": [
    "# Check the first 5 record the cleaned dataset\n",
    "# ---\n",
    "#\n",
    "df_clean.head()"
   ]
  },
  {
   "cell_type": "markdown",
   "metadata": {
    "id": "vTbdjSrhVIiT"
   },
   "source": [
    "\n",
    "## 5. Solution Implementation"
   ]
  },
  {
   "cell_type": "markdown",
   "metadata": {
    "id": "PdHyc8WYHlAG"
   },
   "source": [
    "Here we investigate the questions that would help craft our recommendations."
   ]
  },
  {
   "cell_type": "markdown",
   "metadata": {
    "id": "Nh5mcts5IK8U"
   },
   "source": [
    "### 5.a) Questions"
   ]
  },
  {
   "cell_type": "code",
   "execution_count": 52,
   "metadata": {
    "id": "7Q6JR-4yfVHf"
   },
   "outputs": [
    {
     "data": {
      "text/plain": [
       "bus_company_name\n",
       "g.v.c., ltd.    19394\n",
       "Name: count, dtype: int64"
      ]
     },
     "execution_count": 52,
     "metadata": {},
     "output_type": "execute_result"
    }
   ],
   "source": [
    "# 1. Which bus companies that had the highest breakdowns?\n",
    "# ---\n",
    "#\n",
    "breakdowns = df_clean.groupby(['bus_company_name']).count()\n",
    "\n",
    "# Sort to get bus company with highest breakdowns\n",
    "# ---\n",
    "# YOUR CODE GOES BELOW\n",
    "#\n",
    "df_clean['bus_company_name'].value_counts().head(1)"
   ]
  },
  {
   "cell_type": "code",
   "execution_count": 54,
   "metadata": {
    "id": "dYtdLdxHfVrh"
   },
   "outputs": [
    {
     "data": {
      "text/html": [
       "<div>\n",
       "<style scoped>\n",
       "    .dataframe tbody tr th:only-of-type {\n",
       "        vertical-align: middle;\n",
       "    }\n",
       "\n",
       "    .dataframe tbody tr th {\n",
       "        vertical-align: top;\n",
       "    }\n",
       "\n",
       "    .dataframe thead th {\n",
       "        text-align: right;\n",
       "    }\n",
       "</style>\n",
       "<table border=\"1\" class=\"dataframe\">\n",
       "  <thead>\n",
       "    <tr style=\"text-align: right;\">\n",
       "      <th></th>\n",
       "      <th>reason</th>\n",
       "      <th>how_long_delayed</th>\n",
       "    </tr>\n",
       "  </thead>\n",
       "  <tbody>\n",
       "    <tr>\n",
       "      <th>3</th>\n",
       "      <td>heavy traffic</td>\n",
       "      <td>173221</td>\n",
       "    </tr>\n",
       "    <tr>\n",
       "      <th>6</th>\n",
       "      <td>other</td>\n",
       "      <td>37579</td>\n",
       "    </tr>\n",
       "    <tr>\n",
       "      <th>5</th>\n",
       "      <td>mechanical problem</td>\n",
       "      <td>28162</td>\n",
       "    </tr>\n",
       "  </tbody>\n",
       "</table>\n",
       "</div>"
      ],
      "text/plain": [
       "               reason  how_long_delayed\n",
       "3       heavy traffic            173221\n",
       "6               other             37579\n",
       "5  mechanical problem             28162"
      ]
     },
     "execution_count": 54,
     "metadata": {},
     "output_type": "execute_result"
    }
   ],
   "source": [
    "# 2. What were the top 3 reasons for bus delays?\n",
    "# ---\n",
    "#\n",
    "bus_delay = df_clean.groupby(['reason']).count()[['how_long_delayed']].reset_index()\n",
    "\n",
    "# Sort to get the most frequent reason\n",
    "# ---\n",
    "# YOUR CODE GOES BELOW\n",
    "#\n",
    "bus_delay.sort_values(by='how_long_delayed', ascending=False).head(3)\n"
   ]
  },
  {
   "cell_type": "code",
   "execution_count": 55,
   "metadata": {
    "id": "8aTP8trqsK3g"
   },
   "outputs": [
    {
     "data": {
      "text/html": [
       "<div>\n",
       "<style scoped>\n",
       "    .dataframe tbody tr th:only-of-type {\n",
       "        vertical-align: middle;\n",
       "    }\n",
       "\n",
       "    .dataframe tbody tr th {\n",
       "        vertical-align: top;\n",
       "    }\n",
       "\n",
       "    .dataframe thead th {\n",
       "        text-align: right;\n",
       "    }\n",
       "</style>\n",
       "<table border=\"1\" class=\"dataframe\">\n",
       "  <thead>\n",
       "    <tr style=\"text-align: right;\">\n",
       "      <th></th>\n",
       "      <th>number_of_students_on_the_bus</th>\n",
       "      <th>busbreakdown_id</th>\n",
       "    </tr>\n",
       "  </thead>\n",
       "  <tbody>\n",
       "    <tr>\n",
       "      <th>0</th>\n",
       "      <td>0</td>\n",
       "      <td>170376</td>\n",
       "    </tr>\n",
       "    <tr>\n",
       "      <th>1</th>\n",
       "      <td>1</td>\n",
       "      <td>15704</td>\n",
       "    </tr>\n",
       "    <tr>\n",
       "      <th>2</th>\n",
       "      <td>2</td>\n",
       "      <td>16737</td>\n",
       "    </tr>\n",
       "    <tr>\n",
       "      <th>3</th>\n",
       "      <td>3</td>\n",
       "      <td>14837</td>\n",
       "    </tr>\n",
       "    <tr>\n",
       "      <th>4</th>\n",
       "      <td>4</td>\n",
       "      <td>12248</td>\n",
       "    </tr>\n",
       "    <tr>\n",
       "      <th>...</th>\n",
       "      <td>...</td>\n",
       "      <td>...</td>\n",
       "    </tr>\n",
       "    <tr>\n",
       "      <th>219</th>\n",
       "      <td>6209</td>\n",
       "      <td>1</td>\n",
       "    </tr>\n",
       "    <tr>\n",
       "      <th>220</th>\n",
       "      <td>6219</td>\n",
       "      <td>1</td>\n",
       "    </tr>\n",
       "    <tr>\n",
       "      <th>221</th>\n",
       "      <td>8547</td>\n",
       "      <td>1</td>\n",
       "    </tr>\n",
       "    <tr>\n",
       "      <th>222</th>\n",
       "      <td>9007</td>\n",
       "      <td>1</td>\n",
       "    </tr>\n",
       "    <tr>\n",
       "      <th>223</th>\n",
       "      <td>9052</td>\n",
       "      <td>1</td>\n",
       "    </tr>\n",
       "  </tbody>\n",
       "</table>\n",
       "<p>224 rows × 2 columns</p>\n",
       "</div>"
      ],
      "text/plain": [
       "     number_of_students_on_the_bus  busbreakdown_id\n",
       "0                                0           170376\n",
       "1                                1            15704\n",
       "2                                2            16737\n",
       "3                                3            14837\n",
       "4                                4            12248\n",
       "..                             ...              ...\n",
       "219                           6209                1\n",
       "220                           6219                1\n",
       "221                           8547                1\n",
       "222                           9007                1\n",
       "223                           9052                1\n",
       "\n",
       "[224 rows x 2 columns]"
      ]
     },
     "execution_count": 55,
     "metadata": {},
     "output_type": "execute_result"
    }
   ],
   "source": [
    "# 3. How many students were in the buses when they broke down?\n",
    "# ---\n",
    "#\n",
    "df_clean.groupby(['number_of_students_on_the_bus']).count()[['busbreakdown_id']].reset_index()"
   ]
  },
  {
   "cell_type": "code",
   "execution_count": 57,
   "metadata": {
    "id": "jz7jXe8BtLGw"
   },
   "outputs": [
    {
     "data": {
      "text/html": [
       "<div>\n",
       "<style scoped>\n",
       "    .dataframe tbody tr th:only-of-type {\n",
       "        vertical-align: middle;\n",
       "    }\n",
       "\n",
       "    .dataframe tbody tr th {\n",
       "        vertical-align: top;\n",
       "    }\n",
       "\n",
       "    .dataframe thead th {\n",
       "        text-align: right;\n",
       "    }\n",
       "</style>\n",
       "<table border=\"1\" class=\"dataframe\">\n",
       "  <thead>\n",
       "    <tr style=\"text-align: right;\">\n",
       "      <th></th>\n",
       "      <th>school_year</th>\n",
       "      <th>busbreakdown_id</th>\n",
       "      <th>run_type</th>\n",
       "      <th>bus_no</th>\n",
       "      <th>route_number</th>\n",
       "      <th>schools_serviced</th>\n",
       "      <th>occurred_on</th>\n",
       "      <th>created_on</th>\n",
       "      <th>borough</th>\n",
       "      <th>bus_company_name</th>\n",
       "      <th>how_long_delayed</th>\n",
       "      <th>number_of_students_on_the_bus</th>\n",
       "      <th>has_contractor_notified_schools</th>\n",
       "      <th>has_contractor_notified_parents</th>\n",
       "      <th>have_you_alerted_opt</th>\n",
       "      <th>informed_on</th>\n",
       "      <th>incident_number</th>\n",
       "      <th>last_updated_on</th>\n",
       "      <th>breakdown_or_running_late</th>\n",
       "      <th>school_age_or_prek</th>\n",
       "    </tr>\n",
       "    <tr>\n",
       "      <th>reason</th>\n",
       "      <th></th>\n",
       "      <th></th>\n",
       "      <th></th>\n",
       "      <th></th>\n",
       "      <th></th>\n",
       "      <th></th>\n",
       "      <th></th>\n",
       "      <th></th>\n",
       "      <th></th>\n",
       "      <th></th>\n",
       "      <th></th>\n",
       "      <th></th>\n",
       "      <th></th>\n",
       "      <th></th>\n",
       "      <th></th>\n",
       "      <th></th>\n",
       "      <th></th>\n",
       "      <th></th>\n",
       "      <th></th>\n",
       "      <th></th>\n",
       "    </tr>\n",
       "  </thead>\n",
       "  <tbody>\n",
       "    <tr>\n",
       "      <th>mechanical problem</th>\n",
       "      <td>14985</td>\n",
       "      <td>14985</td>\n",
       "      <td>14985</td>\n",
       "      <td>14985</td>\n",
       "      <td>14985</td>\n",
       "      <td>14985</td>\n",
       "      <td>14985</td>\n",
       "      <td>14985</td>\n",
       "      <td>14475</td>\n",
       "      <td>14985</td>\n",
       "      <td>14985</td>\n",
       "      <td>14985</td>\n",
       "      <td>14985</td>\n",
       "      <td>14985</td>\n",
       "      <td>14985</td>\n",
       "      <td>14985</td>\n",
       "      <td>405</td>\n",
       "      <td>14985</td>\n",
       "      <td>14985</td>\n",
       "      <td>14985</td>\n",
       "    </tr>\n",
       "    <tr>\n",
       "      <th>won`t start</th>\n",
       "      <td>7731</td>\n",
       "      <td>7731</td>\n",
       "      <td>7731</td>\n",
       "      <td>7731</td>\n",
       "      <td>7731</td>\n",
       "      <td>7731</td>\n",
       "      <td>7731</td>\n",
       "      <td>7731</td>\n",
       "      <td>7501</td>\n",
       "      <td>7731</td>\n",
       "      <td>7731</td>\n",
       "      <td>7731</td>\n",
       "      <td>7731</td>\n",
       "      <td>7731</td>\n",
       "      <td>7731</td>\n",
       "      <td>7731</td>\n",
       "      <td>114</td>\n",
       "      <td>7731</td>\n",
       "      <td>7731</td>\n",
       "      <td>7731</td>\n",
       "    </tr>\n",
       "    <tr>\n",
       "      <th>flat tire</th>\n",
       "      <td>4038</td>\n",
       "      <td>4038</td>\n",
       "      <td>4037</td>\n",
       "      <td>4038</td>\n",
       "      <td>4038</td>\n",
       "      <td>4038</td>\n",
       "      <td>4038</td>\n",
       "      <td>4038</td>\n",
       "      <td>3870</td>\n",
       "      <td>4038</td>\n",
       "      <td>4038</td>\n",
       "      <td>4038</td>\n",
       "      <td>4038</td>\n",
       "      <td>4038</td>\n",
       "      <td>4038</td>\n",
       "      <td>4038</td>\n",
       "      <td>104</td>\n",
       "      <td>4038</td>\n",
       "      <td>4038</td>\n",
       "      <td>4038</td>\n",
       "    </tr>\n",
       "    <tr>\n",
       "      <th>other</th>\n",
       "      <td>3530</td>\n",
       "      <td>3530</td>\n",
       "      <td>3530</td>\n",
       "      <td>3530</td>\n",
       "      <td>3530</td>\n",
       "      <td>3530</td>\n",
       "      <td>3530</td>\n",
       "      <td>3530</td>\n",
       "      <td>3428</td>\n",
       "      <td>3530</td>\n",
       "      <td>3530</td>\n",
       "      <td>3530</td>\n",
       "      <td>3530</td>\n",
       "      <td>3530</td>\n",
       "      <td>3530</td>\n",
       "      <td>3530</td>\n",
       "      <td>69</td>\n",
       "      <td>3530</td>\n",
       "      <td>3530</td>\n",
       "      <td>3530</td>\n",
       "    </tr>\n",
       "    <tr>\n",
       "      <th>heavy traffic</th>\n",
       "      <td>419</td>\n",
       "      <td>419</td>\n",
       "      <td>419</td>\n",
       "      <td>419</td>\n",
       "      <td>419</td>\n",
       "      <td>419</td>\n",
       "      <td>419</td>\n",
       "      <td>419</td>\n",
       "      <td>392</td>\n",
       "      <td>419</td>\n",
       "      <td>419</td>\n",
       "      <td>419</td>\n",
       "      <td>419</td>\n",
       "      <td>419</td>\n",
       "      <td>419</td>\n",
       "      <td>419</td>\n",
       "      <td>11</td>\n",
       "      <td>419</td>\n",
       "      <td>419</td>\n",
       "      <td>419</td>\n",
       "    </tr>\n",
       "    <tr>\n",
       "      <th>accident</th>\n",
       "      <td>202</td>\n",
       "      <td>202</td>\n",
       "      <td>202</td>\n",
       "      <td>202</td>\n",
       "      <td>202</td>\n",
       "      <td>202</td>\n",
       "      <td>202</td>\n",
       "      <td>202</td>\n",
       "      <td>192</td>\n",
       "      <td>202</td>\n",
       "      <td>202</td>\n",
       "      <td>202</td>\n",
       "      <td>202</td>\n",
       "      <td>202</td>\n",
       "      <td>202</td>\n",
       "      <td>202</td>\n",
       "      <td>28</td>\n",
       "      <td>202</td>\n",
       "      <td>202</td>\n",
       "      <td>202</td>\n",
       "    </tr>\n",
       "    <tr>\n",
       "      <th>weather conditions</th>\n",
       "      <td>82</td>\n",
       "      <td>82</td>\n",
       "      <td>82</td>\n",
       "      <td>82</td>\n",
       "      <td>82</td>\n",
       "      <td>82</td>\n",
       "      <td>82</td>\n",
       "      <td>82</td>\n",
       "      <td>81</td>\n",
       "      <td>82</td>\n",
       "      <td>82</td>\n",
       "      <td>82</td>\n",
       "      <td>82</td>\n",
       "      <td>82</td>\n",
       "      <td>82</td>\n",
       "      <td>82</td>\n",
       "      <td>1</td>\n",
       "      <td>82</td>\n",
       "      <td>82</td>\n",
       "      <td>82</td>\n",
       "    </tr>\n",
       "    <tr>\n",
       "      <th>late return from field trip</th>\n",
       "      <td>35</td>\n",
       "      <td>35</td>\n",
       "      <td>35</td>\n",
       "      <td>35</td>\n",
       "      <td>35</td>\n",
       "      <td>35</td>\n",
       "      <td>35</td>\n",
       "      <td>35</td>\n",
       "      <td>35</td>\n",
       "      <td>35</td>\n",
       "      <td>35</td>\n",
       "      <td>35</td>\n",
       "      <td>35</td>\n",
       "      <td>35</td>\n",
       "      <td>35</td>\n",
       "      <td>35</td>\n",
       "      <td>0</td>\n",
       "      <td>35</td>\n",
       "      <td>35</td>\n",
       "      <td>35</td>\n",
       "    </tr>\n",
       "    <tr>\n",
       "      <th>problem run</th>\n",
       "      <td>28</td>\n",
       "      <td>28</td>\n",
       "      <td>28</td>\n",
       "      <td>28</td>\n",
       "      <td>28</td>\n",
       "      <td>28</td>\n",
       "      <td>28</td>\n",
       "      <td>28</td>\n",
       "      <td>25</td>\n",
       "      <td>28</td>\n",
       "      <td>28</td>\n",
       "      <td>28</td>\n",
       "      <td>28</td>\n",
       "      <td>28</td>\n",
       "      <td>28</td>\n",
       "      <td>28</td>\n",
       "      <td>1</td>\n",
       "      <td>28</td>\n",
       "      <td>28</td>\n",
       "      <td>28</td>\n",
       "    </tr>\n",
       "    <tr>\n",
       "      <th>delayed by school</th>\n",
       "      <td>7</td>\n",
       "      <td>7</td>\n",
       "      <td>7</td>\n",
       "      <td>7</td>\n",
       "      <td>7</td>\n",
       "      <td>7</td>\n",
       "      <td>7</td>\n",
       "      <td>7</td>\n",
       "      <td>7</td>\n",
       "      <td>7</td>\n",
       "      <td>7</td>\n",
       "      <td>7</td>\n",
       "      <td>7</td>\n",
       "      <td>7</td>\n",
       "      <td>7</td>\n",
       "      <td>7</td>\n",
       "      <td>1</td>\n",
       "      <td>7</td>\n",
       "      <td>7</td>\n",
       "      <td>7</td>\n",
       "    </tr>\n",
       "  </tbody>\n",
       "</table>\n",
       "</div>"
      ],
      "text/plain": [
       "                             school_year  busbreakdown_id  run_type  bus_no  \\\n",
       "reason                                                                        \n",
       "mechanical problem                 14985            14985     14985   14985   \n",
       "won`t start                         7731             7731      7731    7731   \n",
       "flat tire                           4038             4038      4037    4038   \n",
       "other                               3530             3530      3530    3530   \n",
       "heavy traffic                        419              419       419     419   \n",
       "accident                             202              202       202     202   \n",
       "weather conditions                    82               82        82      82   \n",
       "late return from field trip           35               35        35      35   \n",
       "problem run                           28               28        28      28   \n",
       "delayed by school                      7                7         7       7   \n",
       "\n",
       "                             route_number  schools_serviced  occurred_on  \\\n",
       "reason                                                                     \n",
       "mechanical problem                  14985             14985        14985   \n",
       "won`t start                          7731              7731         7731   \n",
       "flat tire                            4038              4038         4038   \n",
       "other                                3530              3530         3530   \n",
       "heavy traffic                         419               419          419   \n",
       "accident                              202               202          202   \n",
       "weather conditions                     82                82           82   \n",
       "late return from field trip            35                35           35   \n",
       "problem run                            28                28           28   \n",
       "delayed by school                       7                 7            7   \n",
       "\n",
       "                             created_on  borough  bus_company_name  \\\n",
       "reason                                                               \n",
       "mechanical problem                14985    14475             14985   \n",
       "won`t start                        7731     7501              7731   \n",
       "flat tire                          4038     3870              4038   \n",
       "other                              3530     3428              3530   \n",
       "heavy traffic                       419      392               419   \n",
       "accident                            202      192               202   \n",
       "weather conditions                   82       81                82   \n",
       "late return from field trip          35       35                35   \n",
       "problem run                          28       25                28   \n",
       "delayed by school                     7        7                 7   \n",
       "\n",
       "                             how_long_delayed  number_of_students_on_the_bus  \\\n",
       "reason                                                                         \n",
       "mechanical problem                      14985                          14985   \n",
       "won`t start                              7731                           7731   \n",
       "flat tire                                4038                           4038   \n",
       "other                                    3530                           3530   \n",
       "heavy traffic                             419                            419   \n",
       "accident                                  202                            202   \n",
       "weather conditions                         82                             82   \n",
       "late return from field trip                35                             35   \n",
       "problem run                                28                             28   \n",
       "delayed by school                           7                              7   \n",
       "\n",
       "                             has_contractor_notified_schools  \\\n",
       "reason                                                         \n",
       "mechanical problem                                     14985   \n",
       "won`t start                                             7731   \n",
       "flat tire                                               4038   \n",
       "other                                                   3530   \n",
       "heavy traffic                                            419   \n",
       "accident                                                 202   \n",
       "weather conditions                                        82   \n",
       "late return from field trip                               35   \n",
       "problem run                                               28   \n",
       "delayed by school                                          7   \n",
       "\n",
       "                             has_contractor_notified_parents  \\\n",
       "reason                                                         \n",
       "mechanical problem                                     14985   \n",
       "won`t start                                             7731   \n",
       "flat tire                                               4038   \n",
       "other                                                   3530   \n",
       "heavy traffic                                            419   \n",
       "accident                                                 202   \n",
       "weather conditions                                        82   \n",
       "late return from field trip                               35   \n",
       "problem run                                               28   \n",
       "delayed by school                                          7   \n",
       "\n",
       "                             have_you_alerted_opt  informed_on  \\\n",
       "reason                                                           \n",
       "mechanical problem                          14985        14985   \n",
       "won`t start                                  7731         7731   \n",
       "flat tire                                    4038         4038   \n",
       "other                                        3530         3530   \n",
       "heavy traffic                                 419          419   \n",
       "accident                                      202          202   \n",
       "weather conditions                             82           82   \n",
       "late return from field trip                    35           35   \n",
       "problem run                                    28           28   \n",
       "delayed by school                               7            7   \n",
       "\n",
       "                             incident_number  last_updated_on  \\\n",
       "reason                                                          \n",
       "mechanical problem                       405            14985   \n",
       "won`t start                              114             7731   \n",
       "flat tire                                104             4038   \n",
       "other                                     69             3530   \n",
       "heavy traffic                             11              419   \n",
       "accident                                  28              202   \n",
       "weather conditions                         1               82   \n",
       "late return from field trip                0               35   \n",
       "problem run                                1               28   \n",
       "delayed by school                          1                7   \n",
       "\n",
       "                             breakdown_or_running_late  school_age_or_prek  \n",
       "reason                                                                      \n",
       "mechanical problem                               14985               14985  \n",
       "won`t start                                       7731                7731  \n",
       "flat tire                                         4038                4038  \n",
       "other                                             3530                3530  \n",
       "heavy traffic                                      419                 419  \n",
       "accident                                           202                 202  \n",
       "weather conditions                                  82                  82  \n",
       "late return from field trip                         35                  35  \n",
       "problem run                                         28                  28  \n",
       "delayed by school                                    7                   7  "
      ]
     },
     "execution_count": 57,
     "metadata": {},
     "output_type": "execute_result"
    }
   ],
   "source": [
    "# 4. Which were most frequent reasons for bus breakdowns?\n",
    "# ---\n",
    "#\n",
    "breakdown_reasons = df_clean[df_clean.breakdown_or_running_late == 'breakdown'].groupby(['reason']).count()\n",
    "\n",
    "# Sort to get most frequent reasons\n",
    "# ---\n",
    "# YOUR CODE GOES BELOW\n",
    "#\n",
    "breakdown_reasons.sort_values(by='busbreakdown_id', ascending=False)"
   ]
  },
  {
   "cell_type": "code",
   "execution_count": 62,
   "metadata": {
    "id": "OKfAq-PGwhbM"
   },
   "outputs": [
    {
     "data": {
      "text/html": [
       "<div>\n",
       "<style scoped>\n",
       "    .dataframe tbody tr th:only-of-type {\n",
       "        vertical-align: middle;\n",
       "    }\n",
       "\n",
       "    .dataframe tbody tr th {\n",
       "        vertical-align: top;\n",
       "    }\n",
       "\n",
       "    .dataframe thead th {\n",
       "        text-align: right;\n",
       "    }\n",
       "</style>\n",
       "<table border=\"1\" class=\"dataframe\">\n",
       "  <thead>\n",
       "    <tr style=\"text-align: right;\">\n",
       "      <th></th>\n",
       "      <th>school_year</th>\n",
       "      <th>busbreakdown_id</th>\n",
       "      <th>run_type</th>\n",
       "      <th>bus_no</th>\n",
       "      <th>route_number</th>\n",
       "      <th>schools_serviced</th>\n",
       "      <th>occurred_on</th>\n",
       "      <th>created_on</th>\n",
       "      <th>borough</th>\n",
       "      <th>bus_company_name</th>\n",
       "      <th>how_long_delayed</th>\n",
       "      <th>number_of_students_on_the_bus</th>\n",
       "      <th>has_contractor_notified_schools</th>\n",
       "      <th>has_contractor_notified_parents</th>\n",
       "      <th>have_you_alerted_opt</th>\n",
       "      <th>informed_on</th>\n",
       "      <th>incident_number</th>\n",
       "      <th>last_updated_on</th>\n",
       "      <th>breakdown_or_running_late</th>\n",
       "      <th>school_age_or_prek</th>\n",
       "    </tr>\n",
       "    <tr>\n",
       "      <th>reason</th>\n",
       "      <th></th>\n",
       "      <th></th>\n",
       "      <th></th>\n",
       "      <th></th>\n",
       "      <th></th>\n",
       "      <th></th>\n",
       "      <th></th>\n",
       "      <th></th>\n",
       "      <th></th>\n",
       "      <th></th>\n",
       "      <th></th>\n",
       "      <th></th>\n",
       "      <th></th>\n",
       "      <th></th>\n",
       "      <th></th>\n",
       "      <th></th>\n",
       "      <th></th>\n",
       "      <th></th>\n",
       "      <th></th>\n",
       "      <th></th>\n",
       "    </tr>\n",
       "  </thead>\n",
       "  <tbody>\n",
       "    <tr>\n",
       "      <th>heavy traffic</th>\n",
       "      <td>172802</td>\n",
       "      <td>172802</td>\n",
       "      <td>172801</td>\n",
       "      <td>172798</td>\n",
       "      <td>172799</td>\n",
       "      <td>172799</td>\n",
       "      <td>172802</td>\n",
       "      <td>172802</td>\n",
       "      <td>163209</td>\n",
       "      <td>172802</td>\n",
       "      <td>172802</td>\n",
       "      <td>172802</td>\n",
       "      <td>172802</td>\n",
       "      <td>172802</td>\n",
       "      <td>172802</td>\n",
       "      <td>172802</td>\n",
       "      <td>6320</td>\n",
       "      <td>172802</td>\n",
       "      <td>172802</td>\n",
       "      <td>172802</td>\n",
       "    </tr>\n",
       "  </tbody>\n",
       "</table>\n",
       "</div>"
      ],
      "text/plain": [
       "               school_year  busbreakdown_id  run_type  bus_no  route_number  \\\n",
       "reason                                                                        \n",
       "heavy traffic       172802           172802    172801  172798        172799   \n",
       "\n",
       "               schools_serviced  occurred_on  created_on  borough  \\\n",
       "reason                                                              \n",
       "heavy traffic            172799       172802      172802   163209   \n",
       "\n",
       "               bus_company_name  how_long_delayed  \\\n",
       "reason                                              \n",
       "heavy traffic            172802            172802   \n",
       "\n",
       "               number_of_students_on_the_bus  has_contractor_notified_schools  \\\n",
       "reason                                                                          \n",
       "heavy traffic                         172802                           172802   \n",
       "\n",
       "               has_contractor_notified_parents  have_you_alerted_opt  \\\n",
       "reason                                                                 \n",
       "heavy traffic                           172802                172802   \n",
       "\n",
       "               informed_on  incident_number  last_updated_on  \\\n",
       "reason                                                         \n",
       "heavy traffic       172802             6320           172802   \n",
       "\n",
       "               breakdown_or_running_late  school_age_or_prek  \n",
       "reason                                                        \n",
       "heavy traffic                     172802              172802  "
      ]
     },
     "execution_count": 62,
     "metadata": {},
     "output_type": "execute_result"
    }
   ],
   "source": [
    "# 5. What were the most frequent reasons for the bus running late?\n",
    "# ---\n",
    "#\n",
    "#reasons = df_clean.groupby(['reason','how_dong_delayed']).count()\n",
    "running_late_reasons = df_clean[df_clean.breakdown_or_running_late == 'running late'].groupby(['reason']).count()\n",
    "\n",
    "# Get the records with running late reasons and sort to get most frequent reasons\n",
    "# ---\n",
    "# YOUR CODE GOES BELOW\n",
    "#\n",
    "running_late_reasons.sort_values(by='busbreakdown_id', ascending=False)\n",
    "running_late_reasons.sort_values(by='busbreakdown_id', ascending=False).head(1)"
   ]
  },
  {
   "cell_type": "code",
   "execution_count": 63,
   "metadata": {
    "id": "wwG_TiwDyvEP"
   },
   "outputs": [
    {
     "ename": "TypeError",
     "evalue": "agg function failed [how->mean,dtype->object]",
     "output_type": "error",
     "traceback": [
      "\u001b[1;31m---------------------------------------------------------------------------\u001b[0m",
      "\u001b[1;31mTypeError\u001b[0m                                 Traceback (most recent call last)",
      "File \u001b[1;32mc:\\Users\\user\\OneDrive\\Desktop\\Documents\\GitHub\\data-cleaning-with-python-project\\my_virtual_env\\Lib\\site-packages\\pandas\\core\\groupby\\groupby.py:1942\u001b[0m, in \u001b[0;36mGroupBy._agg_py_fallback\u001b[1;34m(self, how, values, ndim, alt)\u001b[0m\n\u001b[0;32m   1941\u001b[0m \u001b[38;5;28;01mtry\u001b[39;00m:\n\u001b[1;32m-> 1942\u001b[0m     res_values \u001b[38;5;241m=\u001b[39m \u001b[38;5;28;43mself\u001b[39;49m\u001b[38;5;241;43m.\u001b[39;49m\u001b[43m_grouper\u001b[49m\u001b[38;5;241;43m.\u001b[39;49m\u001b[43magg_series\u001b[49m\u001b[43m(\u001b[49m\u001b[43mser\u001b[49m\u001b[43m,\u001b[49m\u001b[43m \u001b[49m\u001b[43malt\u001b[49m\u001b[43m,\u001b[49m\u001b[43m \u001b[49m\u001b[43mpreserve_dtype\u001b[49m\u001b[38;5;241;43m=\u001b[39;49m\u001b[38;5;28;43;01mTrue\u001b[39;49;00m\u001b[43m)\u001b[49m\n\u001b[0;32m   1943\u001b[0m \u001b[38;5;28;01mexcept\u001b[39;00m \u001b[38;5;167;01mException\u001b[39;00m \u001b[38;5;28;01mas\u001b[39;00m err:\n",
      "File \u001b[1;32mc:\\Users\\user\\OneDrive\\Desktop\\Documents\\GitHub\\data-cleaning-with-python-project\\my_virtual_env\\Lib\\site-packages\\pandas\\core\\groupby\\ops.py:864\u001b[0m, in \u001b[0;36mBaseGrouper.agg_series\u001b[1;34m(self, obj, func, preserve_dtype)\u001b[0m\n\u001b[0;32m    862\u001b[0m     preserve_dtype \u001b[38;5;241m=\u001b[39m \u001b[38;5;28;01mTrue\u001b[39;00m\n\u001b[1;32m--> 864\u001b[0m result \u001b[38;5;241m=\u001b[39m \u001b[38;5;28;43mself\u001b[39;49m\u001b[38;5;241;43m.\u001b[39;49m\u001b[43m_aggregate_series_pure_python\u001b[49m\u001b[43m(\u001b[49m\u001b[43mobj\u001b[49m\u001b[43m,\u001b[49m\u001b[43m \u001b[49m\u001b[43mfunc\u001b[49m\u001b[43m)\u001b[49m\n\u001b[0;32m    866\u001b[0m npvalues \u001b[38;5;241m=\u001b[39m lib\u001b[38;5;241m.\u001b[39mmaybe_convert_objects(result, try_float\u001b[38;5;241m=\u001b[39m\u001b[38;5;28;01mFalse\u001b[39;00m)\n",
      "File \u001b[1;32mc:\\Users\\user\\OneDrive\\Desktop\\Documents\\GitHub\\data-cleaning-with-python-project\\my_virtual_env\\Lib\\site-packages\\pandas\\core\\groupby\\ops.py:885\u001b[0m, in \u001b[0;36mBaseGrouper._aggregate_series_pure_python\u001b[1;34m(self, obj, func)\u001b[0m\n\u001b[0;32m    884\u001b[0m \u001b[38;5;28;01mfor\u001b[39;00m i, group \u001b[38;5;129;01min\u001b[39;00m \u001b[38;5;28menumerate\u001b[39m(splitter):\n\u001b[1;32m--> 885\u001b[0m     res \u001b[38;5;241m=\u001b[39m \u001b[43mfunc\u001b[49m\u001b[43m(\u001b[49m\u001b[43mgroup\u001b[49m\u001b[43m)\u001b[49m\n\u001b[0;32m    886\u001b[0m     res \u001b[38;5;241m=\u001b[39m extract_result(res)\n",
      "File \u001b[1;32mc:\\Users\\user\\OneDrive\\Desktop\\Documents\\GitHub\\data-cleaning-with-python-project\\my_virtual_env\\Lib\\site-packages\\pandas\\core\\groupby\\groupby.py:2454\u001b[0m, in \u001b[0;36mGroupBy.mean.<locals>.<lambda>\u001b[1;34m(x)\u001b[0m\n\u001b[0;32m   2451\u001b[0m \u001b[38;5;28;01melse\u001b[39;00m:\n\u001b[0;32m   2452\u001b[0m     result \u001b[38;5;241m=\u001b[39m \u001b[38;5;28mself\u001b[39m\u001b[38;5;241m.\u001b[39m_cython_agg_general(\n\u001b[0;32m   2453\u001b[0m         \u001b[38;5;124m\"\u001b[39m\u001b[38;5;124mmean\u001b[39m\u001b[38;5;124m\"\u001b[39m,\n\u001b[1;32m-> 2454\u001b[0m         alt\u001b[38;5;241m=\u001b[39m\u001b[38;5;28;01mlambda\u001b[39;00m x: \u001b[43mSeries\u001b[49m\u001b[43m(\u001b[49m\u001b[43mx\u001b[49m\u001b[43m,\u001b[49m\u001b[43m \u001b[49m\u001b[43mcopy\u001b[49m\u001b[38;5;241;43m=\u001b[39;49m\u001b[38;5;28;43;01mFalse\u001b[39;49;00m\u001b[43m)\u001b[49m\u001b[38;5;241;43m.\u001b[39;49m\u001b[43mmean\u001b[49m\u001b[43m(\u001b[49m\u001b[43mnumeric_only\u001b[49m\u001b[38;5;241;43m=\u001b[39;49m\u001b[43mnumeric_only\u001b[49m\u001b[43m)\u001b[49m,\n\u001b[0;32m   2455\u001b[0m         numeric_only\u001b[38;5;241m=\u001b[39mnumeric_only,\n\u001b[0;32m   2456\u001b[0m     )\n\u001b[0;32m   2457\u001b[0m     \u001b[38;5;28;01mreturn\u001b[39;00m result\u001b[38;5;241m.\u001b[39m__finalize__(\u001b[38;5;28mself\u001b[39m\u001b[38;5;241m.\u001b[39mobj, method\u001b[38;5;241m=\u001b[39m\u001b[38;5;124m\"\u001b[39m\u001b[38;5;124mgroupby\u001b[39m\u001b[38;5;124m\"\u001b[39m)\n",
      "File \u001b[1;32mc:\\Users\\user\\OneDrive\\Desktop\\Documents\\GitHub\\data-cleaning-with-python-project\\my_virtual_env\\Lib\\site-packages\\pandas\\core\\series.py:6549\u001b[0m, in \u001b[0;36mSeries.mean\u001b[1;34m(self, axis, skipna, numeric_only, **kwargs)\u001b[0m\n\u001b[0;32m   6541\u001b[0m \u001b[38;5;129m@doc\u001b[39m(make_doc(\u001b[38;5;124m\"\u001b[39m\u001b[38;5;124mmean\u001b[39m\u001b[38;5;124m\"\u001b[39m, ndim\u001b[38;5;241m=\u001b[39m\u001b[38;5;241m1\u001b[39m))\n\u001b[0;32m   6542\u001b[0m \u001b[38;5;28;01mdef\u001b[39;00m\u001b[38;5;250m \u001b[39m\u001b[38;5;21mmean\u001b[39m(\n\u001b[0;32m   6543\u001b[0m     \u001b[38;5;28mself\u001b[39m,\n\u001b[1;32m   (...)\u001b[0m\n\u001b[0;32m   6547\u001b[0m     \u001b[38;5;241m*\u001b[39m\u001b[38;5;241m*\u001b[39mkwargs,\n\u001b[0;32m   6548\u001b[0m ):\n\u001b[1;32m-> 6549\u001b[0m     \u001b[38;5;28;01mreturn\u001b[39;00m \u001b[43mNDFrame\u001b[49m\u001b[38;5;241;43m.\u001b[39;49m\u001b[43mmean\u001b[49m\u001b[43m(\u001b[49m\u001b[38;5;28;43mself\u001b[39;49m\u001b[43m,\u001b[49m\u001b[43m \u001b[49m\u001b[43maxis\u001b[49m\u001b[43m,\u001b[49m\u001b[43m \u001b[49m\u001b[43mskipna\u001b[49m\u001b[43m,\u001b[49m\u001b[43m \u001b[49m\u001b[43mnumeric_only\u001b[49m\u001b[43m,\u001b[49m\u001b[43m \u001b[49m\u001b[38;5;241;43m*\u001b[39;49m\u001b[38;5;241;43m*\u001b[39;49m\u001b[43mkwargs\u001b[49m\u001b[43m)\u001b[49m\n",
      "File \u001b[1;32mc:\\Users\\user\\OneDrive\\Desktop\\Documents\\GitHub\\data-cleaning-with-python-project\\my_virtual_env\\Lib\\site-packages\\pandas\\core\\generic.py:12420\u001b[0m, in \u001b[0;36mNDFrame.mean\u001b[1;34m(self, axis, skipna, numeric_only, **kwargs)\u001b[0m\n\u001b[0;32m  12413\u001b[0m \u001b[38;5;28;01mdef\u001b[39;00m\u001b[38;5;250m \u001b[39m\u001b[38;5;21mmean\u001b[39m(\n\u001b[0;32m  12414\u001b[0m     \u001b[38;5;28mself\u001b[39m,\n\u001b[0;32m  12415\u001b[0m     axis: Axis \u001b[38;5;241m|\u001b[39m \u001b[38;5;28;01mNone\u001b[39;00m \u001b[38;5;241m=\u001b[39m \u001b[38;5;241m0\u001b[39m,\n\u001b[1;32m   (...)\u001b[0m\n\u001b[0;32m  12418\u001b[0m     \u001b[38;5;241m*\u001b[39m\u001b[38;5;241m*\u001b[39mkwargs,\n\u001b[0;32m  12419\u001b[0m ) \u001b[38;5;241m-\u001b[39m\u001b[38;5;241m>\u001b[39m Series \u001b[38;5;241m|\u001b[39m \u001b[38;5;28mfloat\u001b[39m:\n\u001b[1;32m> 12420\u001b[0m     \u001b[38;5;28;01mreturn\u001b[39;00m \u001b[38;5;28;43mself\u001b[39;49m\u001b[38;5;241;43m.\u001b[39;49m\u001b[43m_stat_function\u001b[49m\u001b[43m(\u001b[49m\n\u001b[0;32m  12421\u001b[0m \u001b[43m        \u001b[49m\u001b[38;5;124;43m\"\u001b[39;49m\u001b[38;5;124;43mmean\u001b[39;49m\u001b[38;5;124;43m\"\u001b[39;49m\u001b[43m,\u001b[49m\u001b[43m \u001b[49m\u001b[43mnanops\u001b[49m\u001b[38;5;241;43m.\u001b[39;49m\u001b[43mnanmean\u001b[49m\u001b[43m,\u001b[49m\u001b[43m \u001b[49m\u001b[43maxis\u001b[49m\u001b[43m,\u001b[49m\u001b[43m \u001b[49m\u001b[43mskipna\u001b[49m\u001b[43m,\u001b[49m\u001b[43m \u001b[49m\u001b[43mnumeric_only\u001b[49m\u001b[43m,\u001b[49m\u001b[43m \u001b[49m\u001b[38;5;241;43m*\u001b[39;49m\u001b[38;5;241;43m*\u001b[39;49m\u001b[43mkwargs\u001b[49m\n\u001b[0;32m  12422\u001b[0m \u001b[43m    \u001b[49m\u001b[43m)\u001b[49m\n",
      "File \u001b[1;32mc:\\Users\\user\\OneDrive\\Desktop\\Documents\\GitHub\\data-cleaning-with-python-project\\my_virtual_env\\Lib\\site-packages\\pandas\\core\\generic.py:12377\u001b[0m, in \u001b[0;36mNDFrame._stat_function\u001b[1;34m(self, name, func, axis, skipna, numeric_only, **kwargs)\u001b[0m\n\u001b[0;32m  12375\u001b[0m validate_bool_kwarg(skipna, \u001b[38;5;124m\"\u001b[39m\u001b[38;5;124mskipna\u001b[39m\u001b[38;5;124m\"\u001b[39m, none_allowed\u001b[38;5;241m=\u001b[39m\u001b[38;5;28;01mFalse\u001b[39;00m)\n\u001b[1;32m> 12377\u001b[0m \u001b[38;5;28;01mreturn\u001b[39;00m \u001b[38;5;28;43mself\u001b[39;49m\u001b[38;5;241;43m.\u001b[39;49m\u001b[43m_reduce\u001b[49m\u001b[43m(\u001b[49m\n\u001b[0;32m  12378\u001b[0m \u001b[43m    \u001b[49m\u001b[43mfunc\u001b[49m\u001b[43m,\u001b[49m\u001b[43m \u001b[49m\u001b[43mname\u001b[49m\u001b[38;5;241;43m=\u001b[39;49m\u001b[43mname\u001b[49m\u001b[43m,\u001b[49m\u001b[43m \u001b[49m\u001b[43maxis\u001b[49m\u001b[38;5;241;43m=\u001b[39;49m\u001b[43maxis\u001b[49m\u001b[43m,\u001b[49m\u001b[43m \u001b[49m\u001b[43mskipna\u001b[49m\u001b[38;5;241;43m=\u001b[39;49m\u001b[43mskipna\u001b[49m\u001b[43m,\u001b[49m\u001b[43m \u001b[49m\u001b[43mnumeric_only\u001b[49m\u001b[38;5;241;43m=\u001b[39;49m\u001b[43mnumeric_only\u001b[49m\n\u001b[0;32m  12379\u001b[0m \u001b[43m\u001b[49m\u001b[43m)\u001b[49m\n",
      "File \u001b[1;32mc:\\Users\\user\\OneDrive\\Desktop\\Documents\\GitHub\\data-cleaning-with-python-project\\my_virtual_env\\Lib\\site-packages\\pandas\\core\\series.py:6457\u001b[0m, in \u001b[0;36mSeries._reduce\u001b[1;34m(self, op, name, axis, skipna, numeric_only, filter_type, **kwds)\u001b[0m\n\u001b[0;32m   6453\u001b[0m     \u001b[38;5;28;01mraise\u001b[39;00m \u001b[38;5;167;01mTypeError\u001b[39;00m(\n\u001b[0;32m   6454\u001b[0m         \u001b[38;5;124mf\u001b[39m\u001b[38;5;124m\"\u001b[39m\u001b[38;5;124mSeries.\u001b[39m\u001b[38;5;132;01m{\u001b[39;00mname\u001b[38;5;132;01m}\u001b[39;00m\u001b[38;5;124m does not allow \u001b[39m\u001b[38;5;132;01m{\u001b[39;00mkwd_name\u001b[38;5;132;01m}\u001b[39;00m\u001b[38;5;124m=\u001b[39m\u001b[38;5;132;01m{\u001b[39;00mnumeric_only\u001b[38;5;132;01m}\u001b[39;00m\u001b[38;5;124m \u001b[39m\u001b[38;5;124m\"\u001b[39m\n\u001b[0;32m   6455\u001b[0m         \u001b[38;5;124m\"\u001b[39m\u001b[38;5;124mwith non-numeric dtypes.\u001b[39m\u001b[38;5;124m\"\u001b[39m\n\u001b[0;32m   6456\u001b[0m     )\n\u001b[1;32m-> 6457\u001b[0m \u001b[38;5;28;01mreturn\u001b[39;00m \u001b[43mop\u001b[49m\u001b[43m(\u001b[49m\u001b[43mdelegate\u001b[49m\u001b[43m,\u001b[49m\u001b[43m \u001b[49m\u001b[43mskipna\u001b[49m\u001b[38;5;241;43m=\u001b[39;49m\u001b[43mskipna\u001b[49m\u001b[43m,\u001b[49m\u001b[43m \u001b[49m\u001b[38;5;241;43m*\u001b[39;49m\u001b[38;5;241;43m*\u001b[39;49m\u001b[43mkwds\u001b[49m\u001b[43m)\u001b[49m\n",
      "File \u001b[1;32mc:\\Users\\user\\OneDrive\\Desktop\\Documents\\GitHub\\data-cleaning-with-python-project\\my_virtual_env\\Lib\\site-packages\\pandas\\core\\nanops.py:147\u001b[0m, in \u001b[0;36mbottleneck_switch.__call__.<locals>.f\u001b[1;34m(values, axis, skipna, **kwds)\u001b[0m\n\u001b[0;32m    146\u001b[0m \u001b[38;5;28;01melse\u001b[39;00m:\n\u001b[1;32m--> 147\u001b[0m     result \u001b[38;5;241m=\u001b[39m \u001b[43malt\u001b[49m\u001b[43m(\u001b[49m\u001b[43mvalues\u001b[49m\u001b[43m,\u001b[49m\u001b[43m \u001b[49m\u001b[43maxis\u001b[49m\u001b[38;5;241;43m=\u001b[39;49m\u001b[43maxis\u001b[49m\u001b[43m,\u001b[49m\u001b[43m \u001b[49m\u001b[43mskipna\u001b[49m\u001b[38;5;241;43m=\u001b[39;49m\u001b[43mskipna\u001b[49m\u001b[43m,\u001b[49m\u001b[43m \u001b[49m\u001b[38;5;241;43m*\u001b[39;49m\u001b[38;5;241;43m*\u001b[39;49m\u001b[43mkwds\u001b[49m\u001b[43m)\u001b[49m\n\u001b[0;32m    149\u001b[0m \u001b[38;5;28;01mreturn\u001b[39;00m result\n",
      "File \u001b[1;32mc:\\Users\\user\\OneDrive\\Desktop\\Documents\\GitHub\\data-cleaning-with-python-project\\my_virtual_env\\Lib\\site-packages\\pandas\\core\\nanops.py:404\u001b[0m, in \u001b[0;36m_datetimelike_compat.<locals>.new_func\u001b[1;34m(values, axis, skipna, mask, **kwargs)\u001b[0m\n\u001b[0;32m    402\u001b[0m     mask \u001b[38;5;241m=\u001b[39m isna(values)\n\u001b[1;32m--> 404\u001b[0m result \u001b[38;5;241m=\u001b[39m \u001b[43mfunc\u001b[49m\u001b[43m(\u001b[49m\u001b[43mvalues\u001b[49m\u001b[43m,\u001b[49m\u001b[43m \u001b[49m\u001b[43maxis\u001b[49m\u001b[38;5;241;43m=\u001b[39;49m\u001b[43maxis\u001b[49m\u001b[43m,\u001b[49m\u001b[43m \u001b[49m\u001b[43mskipna\u001b[49m\u001b[38;5;241;43m=\u001b[39;49m\u001b[43mskipna\u001b[49m\u001b[43m,\u001b[49m\u001b[43m \u001b[49m\u001b[43mmask\u001b[49m\u001b[38;5;241;43m=\u001b[39;49m\u001b[43mmask\u001b[49m\u001b[43m,\u001b[49m\u001b[43m \u001b[49m\u001b[38;5;241;43m*\u001b[39;49m\u001b[38;5;241;43m*\u001b[39;49m\u001b[43mkwargs\u001b[49m\u001b[43m)\u001b[49m\n\u001b[0;32m    406\u001b[0m \u001b[38;5;28;01mif\u001b[39;00m datetimelike:\n",
      "File \u001b[1;32mc:\\Users\\user\\OneDrive\\Desktop\\Documents\\GitHub\\data-cleaning-with-python-project\\my_virtual_env\\Lib\\site-packages\\pandas\\core\\nanops.py:720\u001b[0m, in \u001b[0;36mnanmean\u001b[1;34m(values, axis, skipna, mask)\u001b[0m\n\u001b[0;32m    719\u001b[0m the_sum \u001b[38;5;241m=\u001b[39m values\u001b[38;5;241m.\u001b[39msum(axis, dtype\u001b[38;5;241m=\u001b[39mdtype_sum)\n\u001b[1;32m--> 720\u001b[0m the_sum \u001b[38;5;241m=\u001b[39m \u001b[43m_ensure_numeric\u001b[49m\u001b[43m(\u001b[49m\u001b[43mthe_sum\u001b[49m\u001b[43m)\u001b[49m\n\u001b[0;32m    722\u001b[0m \u001b[38;5;28;01mif\u001b[39;00m axis \u001b[38;5;129;01mis\u001b[39;00m \u001b[38;5;129;01mnot\u001b[39;00m \u001b[38;5;28;01mNone\u001b[39;00m \u001b[38;5;129;01mand\u001b[39;00m \u001b[38;5;28mgetattr\u001b[39m(the_sum, \u001b[38;5;124m\"\u001b[39m\u001b[38;5;124mndim\u001b[39m\u001b[38;5;124m\"\u001b[39m, \u001b[38;5;28;01mFalse\u001b[39;00m):\n",
      "File \u001b[1;32mc:\\Users\\user\\OneDrive\\Desktop\\Documents\\GitHub\\data-cleaning-with-python-project\\my_virtual_env\\Lib\\site-packages\\pandas\\core\\nanops.py:1701\u001b[0m, in \u001b[0;36m_ensure_numeric\u001b[1;34m(x)\u001b[0m\n\u001b[0;32m   1699\u001b[0m \u001b[38;5;28;01mif\u001b[39;00m \u001b[38;5;28misinstance\u001b[39m(x, \u001b[38;5;28mstr\u001b[39m):\n\u001b[0;32m   1700\u001b[0m     \u001b[38;5;66;03m# GH#44008, GH#36703 avoid casting e.g. strings to numeric\u001b[39;00m\n\u001b[1;32m-> 1701\u001b[0m     \u001b[38;5;28;01mraise\u001b[39;00m \u001b[38;5;167;01mTypeError\u001b[39;00m(\u001b[38;5;124mf\u001b[39m\u001b[38;5;124m\"\u001b[39m\u001b[38;5;124mCould not convert string \u001b[39m\u001b[38;5;124m'\u001b[39m\u001b[38;5;132;01m{\u001b[39;00mx\u001b[38;5;132;01m}\u001b[39;00m\u001b[38;5;124m'\u001b[39m\u001b[38;5;124m to numeric\u001b[39m\u001b[38;5;124m\"\u001b[39m)\n\u001b[0;32m   1702\u001b[0m \u001b[38;5;28;01mtry\u001b[39;00m:\n",
      "\u001b[1;31mTypeError\u001b[0m: Could not convert string '2015-20162015-20162015-20162015-20162015-20162015-20162015-20162015-20162015-20162015-20162015-20162015-20162015-20162015-20162015-20162015-20162015-20162015-20162015-20162017-20182017-20182015-20162015-20162015-20162015-20162015-20162015-20162015-20162015-20162015-20162015-20162015-20162015-20162015-20162015-20162015-20162015-20162015-20162015-20162015-20162015-20162017-20182015-20162015-20162015-20162015-20162015-20162015-20162015-20162015-20162015-20162015-20162015-20162015-20162015-20162015-20162015-20162017-20182015-20162015-20162015-20162015-20162015-20162015-20162015-20162017-20182015-20162015-20162015-20162015-20162015-20162015-20162015-20162015-20162015-20162015-20162015-20162015-20162015-20162015-20162015-20162015-20162015-20162015-20162015-20162015-20162015-20162015-20162017-20182015-20162017-20182015-20162015-20162015-20162017-20182015-20162015-20162015-20162015-20162015-20162015-20162015-20162015-20162015-20162015-20162015-20162015-20162015-20162015-20162015-20162015-20162015-20162015-20162017-20182015-20162015-20162015-20162015-20162015-20162015-20162015-20162015-20162015-20162015-20162015-20162015-20162015-20162015-20162015-20162015-20162015-20162015-20162015-20162015-20162015-20162015-20162015-20162015-20162015-20162015-20162015-20162015-20162015-20162015-20162015-20162015-20162015-20162015-20162015-20162015-20162015-20162015-20162015-20162015-20162015-20162015-20162015-20162015-20162015-20162015-20162015-20162015-20162015-20162015-20162015-20162015-20162015-20162015-20162015-20162015-20162015-20162015-20162017-20182015-20162015-20162015-20162015-20162015-20162015-20162015-20162015-20162015-20162015-20162015-20162015-20162015-20162015-20162015-20162015-20162015-20162015-20162015-20162015-20162015-20162017-20182015-20162015-20162015-20162015-20162015-20162015-20162015-20162015-20162015-20162015-20162015-20162015-20162017-20182015-20162015-20162015-20162015-20162015-20162015-20162015-20162015-20162015-20162015-20162015-20162015-20162015-20162015-20162015-20162015-20162015-20162015-20162015-20162015-20162015-20162017-20182015-20162015-20162015-20162015-20162015-20162015-20162015-20162015-20162015-20162015-20162015-20162015-20162017-20182015-20162015-20162015-20162015-20162015-20162015-20162015-20162015-20162015-20162015-20162015-20162015-20162015-20162015-20162015-20162015-20162015-20162015-20162015-20162015-20162015-20162017-20182015-20162015-20162017-20182015-20162017-20182015-20162015-20162015-20162015-20162015-20162015-20162015-20162015-20162015-20162015-20162015-20162015-20162015-20162015-20162015-20162015-20162015-20162015-20162015-20162015-20162015-20162015-20162015-20162015-20162015-20162015-20162015-20162015-20162015-20162015-20162015-20162015-20162015-20162015-20162017-20182015-20162015-20162015-20162015-20162015-20162015-20162015-20162015-20162017-20182015-20162015-20162015-20162015-20162017-20182015-20162017-20182017-20182015-20162015-20162015-20162015-20162015-20162017-20182015-20162015-20162015-20162015-20162015-20162015-20162015-20162015-20162015-20162015-20162015-20162015-20162015-20162015-20162015-20162015-20162015-20162015-20162017-20182015-20162015-20162015-20162015-20162015-20162015-20162015-20162015-20162015-20162015-20162015-20162015-20162015-20162015-20162015-20162015-20162015-20162015-20162015-20162015-20162015-20162015-20162015-20162015-20162015-20162015-20162015-20162015-20162015-20162015-20162015-20162015-20162015-20162015-20162015-20162015-20162015-20162015-20162016-20172016-20172016-20172016-20172016-20172016-20172016-20172016-20172016-20172016-20172017-20182015-20162016-20172016-20172016-20172016-20172016-20172015-20162016-20172016-20172016-20172016-20172016-20172016-20172016-20172016-20172016-20172016-20172016-20172016-20172016-20172016-20172016-20172016-20172016-20172016-20172016-20172016-20172016-20172016-20172016-20172016-20172016-20172016-20172016-20172016-20172016-20172016-20172016-20172016-20172016-20172016-20172016-20172016-20172016-20172016-20172016-20172016-20172016-20172016-20172015-20162016-20172016-20172016-20172016-20172016-20172016-20172016-20172016-20172015-20162015-20162016-20172015-20162016-20172016-20172016-20172016-20172015-20162016-20172016-20172016-20172016-20172016-20172016-20172016-20172016-20172016-20172016-20172016-20172016-20172016-20172016-20172016-20172016-20172016-20172017-20182016-20172017-20182016-20172016-20172016-20172016-20172016-20172016-20172017-20182015-20162016-20172016-20172016-20172016-20172016-20172016-20172016-20172016-20172016-20172016-20172016-20172016-20172016-20172016-20172016-20172016-20172016-20172016-20172016-20172016-20172016-20172016-20172015-20162017-20182017-20182016-20172016-20172016-20172017-20182017-20182016-20172016-20172016-20172016-20172016-20172016-20172016-20172016-20172015-20162016-20172016-20172017-20182016-20172016-20172016-20172016-20172016-20172016-20172016-20172016-20172016-20172016-20172016-20172016-20172016-20172016-20172016-20172016-20172016-20172016-20172016-20172016-20172016-20172015-20162016-20172016-20172016-20172017-20182016-20172017-20182016-20172017-20182016-20172016-20172016-20172016-20172016-20172016-20172015-20162015-20162016-20172016-20172016-20172016-20172016-20172015-20162016-20172016-20172018-20192016-20172015-20162016-20172016-20172017-20182015-20162016-20172015-20162016-20172016-20172017-20182016-20172016-20172016-20172016-20172016-20172016-20172016-20172016-20172016-20172016-20172016-20172016-20172016-20172016-20172016-20172016-20172016-20172016-20172016-20172016-20172017-20182016-20172016-20172016-20172016-20172016-20172016-20172016-20172016-20172017-20182016-20172016-20172016-20172016-20172016-20172016-20172016-20172016-20172016-20172016-20172016-20172016-20172015-20162016-20172017-20182016-20172016-20172016-20172016-20172016-20172016-20172016-20172016-20172016-20172016-20172016-20172017-20182016-20172016-20172016-20172016-20172016-20172017-20182016-20172016-20172016-20172016-20172015-20162016-20172016-20172016-20172016-20172016-20172016-20172016-20172016-20172016-20172015-20162016-20172016-20172016-20172016-20172016-20172016-20172016-20172016-20172016-20172016-20172016-20172016-20172016-20172016-20172016-20172016-20172016-20172016-20172016-20172016-20172016-20172015-20162016-20172016-20172016-20172016-20172016-20172016-20172016-20172016-20172017-20182016-20172016-20172016-20172016-20172016-20172016-20172016-20172015-20162016-20172016-20172016-20172017-20182016-20172017-20182016-20172016-20172016-20172017-20182016-20172016-20172016-20172016-20172016-20172016-20172016-20172016-20172016-20172016-20172016-20172016-20172016-20172016-20172016-20172016-20172016-20172016-20172016-20172016-20172016-20172016-20172016-20172016-20172016-20172016-20172016-20172016-20172016-20172016-20172016-20172016-20172016-20172016-20172016-20172016-20172016-20172016-20172016-20172016-20172016-20172016-20172016-20172016-20172016-20172016-20172016-20172016-20172016-20172016-20172016-20172016-20172016-20172016-20172016-20172016-20172017-20182016-20172016-20172016-20172016-20172016-20172016-20172016-20172016-20172016-20172016-20172016-20172016-20172016-20172016-20172016-20172016-20172016-20172016-20172016-20172017-20182016-20172016-20172016-20172016-20172016-20172016-20172016-20172016-20172016-20172016-20172016-20172016-20172016-20172017-20182016-20172016-20172016-20172016-20172016-20172016-20172016-20172016-20172016-20172016-20172016-20172016-20172016-20172016-20172016-20172016-20172016-20172016-20172016-20172016-20172017-20182016-20172016-20172016-20172016-20172016-20172016-20172016-20172016-20172016-20172016-20172016-20172015-20162016-20172016-20172016-20172016-20172016-20172016-20172016-20172016-20172016-20172016-20172016-20172016-20172016-20172016-20172017-20182016-20172016-20172016-20172016-20172016-20172016-20172016-20172016-20172016-20172016-20172016-20172016-20172016-20172016-20172016-20172016-20172016-20172016-20172016-20172016-20172016-20172016-20172016-20172016-20172016-20172016-20172015-20162016-20172016-20172016-20172015-20162016-20172016-20172016-20172016-20172016-20172016-20172016-20172016-20172016-20172016-20172016-20172016-20172016-20172016-20172016-20172017-20182016-20172016-20172016-20172016-20172016-20172016-20172016-20172016-20172016-20172016-20172016-20172016-20172016-20172016-20172016-20172016-20172016-20172016-20172016-20172016-20172016-20172016-20172016-20172016-20172016-20172016-20172016-20172016-20172016-20172016-20172016-20172016-20172016-20172016-20172016-20172016-20172016-20172016-20172016-20172016-20172016-20172016-20172017-20182016-20172016-20172016-20172016-20172016-20172016-20172016-20172016-20172016-20172016-20172016-20172016-20172016-20172016-20172016-20172016-20172016-20172016-20172016-20172016-20172016-20172016-20172016-20172016-20172016-20172016-20172016-20172016-20172016-20172016-20172016-20172016-20172016-20172016-20172016-20172016-20172015-20162017-20182016-20172016-20172016-20172016-20172016-20172016-20172015-20162016-20172016-20172016-20172016-20172016-20172016-20172016-20172016-20172016-20172016-20172016-20172016-20172016-20172016-20172017-20182017-20182017-20182017-20182017-20182017-20182017-20182017-20182017-20182017-20182017-20182017-20182017-20182017-20182017-20182017-20182017-20182017-20182017-20182017-20182017-20182017-20182017-20182017-20182015-20162017-20182017-20182017-20182017-20182017-20182017-20182017-20182017-20182017-20182017-20182015-20162017-20182018-20192017-20182017-20182017-20182015-20162017-20182018-20192018-20192015-20162018-20192017-20182017-20182017-20182017-20182017-20182017-20182017-20182017-20182017-20182015-20162017-20182015-20162017-20182017-20182017-20182017-20182018-20192018-20192015-20162018-20192018-20192017-20182018-20192018-20192018-20192018-20192018-20192017-20182017-20182018-20192018-20192018-20192018-20192018-20192018-20192017-20182017-20182017-20182017-20182015-20162017-20182018-20192018-20192017-20182018-20192015-20162018-20192018-20192018-20192018-20192017-20182018-20192018-20192017-20182017-20182018-20192018-20192017-20182017-20182017-20182017-20182018-20192017-20182017-20182017-20182018-20192017-20182018-20192017-20182018-20192017-20182018-20192017-20182018-20192017-20182017-20182017-20182018-20192017-20182017-20182018-20192018-20192018-20192015-20162017-20182017-20182017-20182015-20162017-20182017-20182017-20182015-20162018-20192017-20182017-20182017-20182018-20192017-20182017-20182017-20182017-20182018-20192018-20192017-20182017-20182017-20182018-20192017-20182018-20192017-20182017-20182018-20192017-20182017-20182018-20192017-20182017-20182017-20182018-20192017-20182018-20192015-20162015-20162015-20162017-20182018-20192018-20192018-20192017-20182017-20182018-20192017-20182017-20182018-20192018-20192018-20192017-20182018-20192015-20162017-20182017-20182015-20162017-20182017-20182018-20192017-20182017-20182017-20182017-20182017-20182018-20192017-20182017-20182017-20182017-20182018-20192017-20182018-20192015-20162018-20192017-20182017-20182017-20182015-20162017-20182017-20182017-20182017-20182017-20182017-20182017-20182017-20182017-20182018-20192015-20162015-20162015-20162017-20182017-20182015-20162017-20182017-20182018-20192015-20162018-20192018-20192015-20162017-20182017-20182018-20192018-20192017-20182018-20192018-20192017-20182018-20192015-20162015-20162015-20162017-20182015-20162017-20182017-20182015-20162017-20182017-20182017-20182017-20182015-20162015-20162018-20192017-20182017-20182017-20182017-20182015-20162018-20192015-20162017-20182015-20162017-20182018-20192017-20182017-20182017-20182017-20182017-20182017-20182017-20182017-20182017-20182015-20162017-20182017-20182018-20192018-20192018-20192017-20182018-20192017-20182018-20192018-20192018-20192015-20162017-20182015-20162015-20162017-20182018-20192015-20162018-20192017-20182017-20182017-20182015-20162017-20182015-20162017-20182018-20192017-20182015-20162017-20182018-20192018-20192017-20182015-20162017-20182017-20182015-20162017-20182015-20162015-20162017-20182018-20192017-20182015-20162018-20192017-20182015-20162015-20162018-20192017-20182017-20182017-20182017-20182018-20192017-20182017-20182018-20192018-20192015-20162017-20182015-20162015-20162018-20192018-20192015-20162018-20192018-20192018-20192017-20182015-20162018-20192015-20162017-20182017-20182017-20182018-20192015-20162017-20182018-20192018-20192015-20162017-20182017-20182017-20182018-20192017-20182017-20182018-20192015-20162018-20192018-20192015-20162017-20182017-20182015-20162018-20192017-20182015-20162015-20162017-20182018-20192018-20192017-20182017-20182017-20182015-20162015-20162018-20192017-20182018-20192015-20162018-20192018-20192015-20162015-20162017-20182017-20182018-20192017-20182017-20182018-20192015-20162015-20162015-20162017-20182017-20182015-20162018-20192018-20192015-20162015-20162017-20182015-20162015-20162015-20162018-20192018-20192017-20182015-20162017-20182017-20182015-20162015-20162015-20162015-20162015-20162018-20192015-20162017-20182017-20182015-20162015-20162015-20162015-20162017-20182015-20162017-20182017-20182017-20182015-20162017-20182015-20162015-20162017-20182018-20192017-20182017-20182015-20162017-20182017-20182015-20162017-20182015-20162017-20182017-20182015-20162017-20182018-20192017-20182017-20182017-20182018-20192017-20182015-20162015-20162015-20162015-20162017-20182015-20162017-20182017-20182017-20182018-20192015-20162017-20182015-20162018-20192017-20182017-20182017-20182017-20182017-20182017-20182017-20182017-20182018-20192018-20192017-20182017-20182017-20182017-20182015-20162015-20162015-20162017-20182018-20192015-20162017-20182017-20182018-20192018-20192017-20182017-20182017-20182018-20192015-20162018-20192015-20162017-20182015-20162017-20182015-20162017-20182017-20182015-20162015-20162018-20192017-20182015-20162017-20182015-20162017-20182018-20192017-20182018-20192018-20192017-20182017-20182018-20192017-20182017-20182017-20182018-20192017-20182018-20192017-20182018-20192017-20182017-20182017-20182018-20192018-20192017-20182018-20192018-20192015-20162017-20182017-20182017-20182018-20192017-20182017-20182015-20162018-20192018-20192018-20192018-20192018-20192017-20182017-20182017-20182017-20182017-20182017-20182017-20182017-20182018-20192015-20162017-20182015-20162015-20162018-20192015-20162015-20162017-20182017-20182015-20162015-20162015-20162015-20162017-20182015-20162017-20182017-20182017-20182017-20182015-20162018-20192018-20192015-20162017-20182018-20192017-20182017-20182015-20162018-20192015-20162018-20192015-20162017-20182017-20182015-20162015-20162015-20162018-20192015-20162017-20182015-20162017-20182017-20182018-20192018-20192018-20192017-20182017-20182018-20192017-20182017-20182018-20192017-20182017-20182018-20192015-20162015-20162017-20182017-20182017-20182018-20192018-20192015-20162015-20162018-20192018-20192017-20182017-20182017-20182015-20162018-20192017-20182017-20182017-20182015-20162017-20182018-20192017-20182015-20162018-20192017-20182017-20182017-20182017-20182017-20182017-20182017-20182017-20182018-20192017-20182017-20182017-20182017-20182017-20182017-20182018-20192015-20162017-20182017-20182017-20182015-20162016-20172016-20172017-20182017-20182018-20192015-20162017-20182018-20192018-20192018-20192017-20182017-20182017-20182017-20182017-20182018-20192018-20192018-20192017-20182017-20182017-20182017-20182017-20182016-20172017-20182016-20172016-20172015-20162015-20162018-20192018-20192017-20182017-20182018-20192015-20162017-20182015-20162015-20162017-20182017-20182015-20162018-20192017-20182018-20192018-20192017-20182017-20182018-20192017-20182015-20162016-20172015-20162017-20182017-20182017-20182017-20182017-20182015-20162017-20182015-20162018-20192017-20182018-20192017-20182017-20182018-20192017-20182018-20192018-20192018-20192018-20192017-20182017-20182018-20192017-20182018-20192017-20182017-20182018-20192018-20192018-20192018-20192017-20182017-20182017-20182017-20182017-20182017-20182017-20182016-20172018-20192018-20192018-20192016-20172015-20162017-20182017-20182016-20172017-20182017-20182017-20182017-20182017-20182017-20182018-20192018-20192018-20192018-20192017-20182016-20172017-20182017-20182017-20182017-20182017-20182018-20192017-20182017-20182017-20182018-20192018-20192017-20182015-20162017-20182017-20182017-20182018-20192016-20172017-20182018-20192018-20192018-20192018-20192018-20192015-20162018-20192017-20182017-20182017-20182016-20172018-20192017-20182017-20182018-20192018-20192017-20182018-20192018-20192018-20192018-20192017-20182017-20182017-20182017-20182015-20162017-20182017-20182017-20182018-20192017-20182018-20192017-20182018-20192016-20172017-20182016-20172017-20182017-20182017-20182017-20182017-20182018-20192018-20192018-20192018-20192018-20192017-20182016-20172018-20192017-20182016-20172015-20162018-20192018-20192017-20182015-20162017-20182017-20182017-20182017-20182017-20182017-20182016-20172017-20182018-20192017-20182017-20182017-20182017-20182018-20192017-20182018-20192016-20172017-20182017-20182018-20192018-20192016-20172018-20192017-20182017-20182017-20182018-20192017-20182018-20192018-20192017-20182018-20192016-20172017-20182018-20192017-20182017-20182018-20192017-20182016-20172017-20182017-20182015-20162017-20182016-20172017-20182017-20182017-20182018-20192017-20182017-20182015-20162016-20172017-20182017-20182017-20182017-20182018-20192018-20192017-20182018-20192018-20192017-20182017-20182017-20182017-20182017-20182017-20182017-20182018-20192017-20182017-20182017-20182016-20172017-20182017-20182017-20182017-20182017-20182018-20192017-20182017-20182017-20182017-20182017-20182017-20182018-20192017-20182017-20182017-20182017-20182017-20182017-20182017-20182016-20172017-20182017-20182017-20182016-20172017-20182017-20182017-20182016-20172016-20172015-20162018-20192017-20182017-20182016-20172017-20182016-20172016-20172016-20172016-20172018-20192017-20182017-20182016-20172017-20182017-20182018-20192018-20192018-20192016-20172017-20182018-20192015-20162018-20192018-20192016-20172017-20182016-20172018-20192017-20182016-20172015-20162018-20192017-20182016-20172017-20182017-20182016-20172018-20192017-20182017-20182016-20172017-20182017-20182016-20172015-20162016-20172018-20192016-20172017-20182017-20182017-20182018-20192016-20172017-20182017-20182017-20182017-20182016-20172017-20182017-20182018-20192017-20182015-20162016-20172016-20172016-20172017-20182017-20182015-20162017-20182017-20182017-20182016-20172015-20162017-20182017-20182018-20192017-20182015-20162017-20182015-20162015-20162017-20182018-20192018-20192017-20182017-20182018-20192017-20182017-20182016-20172017-20182018-20192016-20172016-20172018-20192017-20182017-20182017-20182018-20192017-20182017-20182017-20182017-20182018-20192017-20182016-20172016-20172017-20182017-20182017-20182017-20182017-20182018-20192018-20192016-20172016-20172018-20192017-20182017-20182016-20172017-20182018-20192017-20182016-20172017-20182018-20192018-20192017-20182016-20172017-20182015-20162018-20192017-20182017-20182017-20182017-20182017-20182017-20182018-20192017-20182016-20172017-20182017-20182017-20182016-20172017-20182017-20182018-20192017-20182017-20182017-20182018-20192016-20172015-20162017-20182017-20182017-20182017-20182017-20182016-20172017-20182018-20192017-20182017-20182017-20182017-20182017-20182015-20162018-20192016-20172017-20182017-20182016-20172017-20182017-20182017-20182017-20182017-20182016-20172017-20182017-20182017-20182016-20172015-20162018-20192016-20172016-20172015-20162017-20182015-20162017-20182016-20172016-20172017-20182017-20182016-20172017-20182016-20172017-20182017-20182017-20182017-20182017-20182018-20192018-20192018-20192017-20182017-20182017-20182016-20172018-20192016-20172017-20182015-20162018-20192017-20182018-20192015-20162017-20182018-20192018-20192018-20192017-20182016-20172017-20182017-20182017-20182016-20172016-20172015-20162017-20182017-20182016-20172017-20182017-20182017-20182018-20192017-20182018-20192017-20182016-20172016-20172018-20192018-20192016-20172017-20182018-20192017-20182018-20192017-20182016-20172018-20192017-20182017-20182016-20172017-20182017-20182018-20192017-20182018-20192017-20182018-20192018-20192015-20162017-20182018-20192017-20182015-20162017-20182015-20162017-20182016-20172017-20182018-20192018-20192015-20162017-20182017-20182015-20162017-20182017-20182018-20192017-20182017-20182018-20192017-20182018-20192017-20182018-20192018-20192018-20192017-20182017-20182015-20162018-20192015-20162017-20182017-20182018-20192017-20182017-20182018-20192017-20182018-20192018-20192015-20162018-20192017-20182018-20192018-20192015-20162017-20182018-20192015-20162017-20182015-20162015-20162017-20182017-20182015-20162018-20192018-20192018-20192018-20192017-20182017-20182017-20182018-20192018-20192015-20162018-20192015-20162018-20192017-20182015-20162017-20182017-20182015-20162018-20192017-20182015-20162015-20162017-20182017-20182017-20182015-20162015-20162018-20192018-20192015-20162015-20162018-20192017-20182017-20182015-20162018-20192018-20192017-20182018-20192017-20182017-20182018-20192017-20182017-20182018-20192017-20182015-20162018-20192015-20162015-20162017-20182015-20162017-20182017-20182015-20162015-20162017-20182018-20192018-20192015-20162018-20192018-20192017-20182017-20182018-20192018-20192017-20182017-20182018-20192017-20182015-20162017-20182017-20182018-20192018-20192017-20182015-20162017-20182017-20182017-20182017-20182018-20192017-20182017-20182017-20182017-20182018-20192018-20192017-20182017-20182015-20162015-20162017-20182018-20192018-20192015-20162018-20192016-20172017-20182017-20182018-20192015-20162015-20162018-20192015-20162015-20162017-20182017-20182018-20192018-20192018-20192015-20162015-20162018-20192017-20182017-20182016-20172017-20182015-20162015-20162015-20162018-20192018-20192018-20192015-20162015-20162018-20192018-20192015-20162018-20192017-20182018-20192017-20182017-20182018-20192017-20182015-20162016-20172018-20192017-20182017-20182018-20192018-20192015-20162018-20192017-20182016-20172018-20192018-20192017-20182018-20192015-20162016-20172017-20182016-20172016-20172018-20192016-20172018-20192016-20172018-20192018-20192018-20192016-20172016-20172018-20192018-20192016-20172016-20172016-20172016-20172016-20172018-20192016-20172016-20172016-20172016-20172016-20172018-20192016-20172016-20172016-20172016-20172016-20172016-20172016-20172016-20172016-20172016-20172018-20192016-20172016-20172016-20172016-20172016-20172016-20172016-20172016-20172016-20172016-20172016-20172016-20172016-20172016-20172016-20172016-20172016-20172016-20172016-20172016-20172016-20172016-20172016-20172016-20172016-20172016-20172016-20172016-20172016-20172016-20172016-20172016-20172016-20172016-20172017-20182016-20172016-20172016-20172016-20172016-20172016-20172016-20172016-20172017-20182015-20162015-20162016-20172016-20172015-20162016-20172016-2017' to numeric",
      "\nThe above exception was the direct cause of the following exception:\n",
      "\u001b[1;31mTypeError\u001b[0m                                 Traceback (most recent call last)",
      "Cell \u001b[1;32mIn[63], line 4\u001b[0m\n\u001b[0;32m      1\u001b[0m \u001b[38;5;66;03m# 6. What was the average delay time for each reason type?\u001b[39;00m\n\u001b[0;32m      2\u001b[0m \u001b[38;5;66;03m# ---\u001b[39;00m\n\u001b[0;32m      3\u001b[0m \u001b[38;5;66;03m#\u001b[39;00m\n\u001b[1;32m----> 4\u001b[0m avg_delay \u001b[38;5;241m=\u001b[39m \u001b[43mdf_clean\u001b[49m\u001b[38;5;241;43m.\u001b[39;49m\u001b[43mgroupby\u001b[49m\u001b[43m(\u001b[49m\u001b[38;5;124;43m'\u001b[39;49m\u001b[38;5;124;43mreason\u001b[39;49m\u001b[38;5;124;43m'\u001b[39;49m\u001b[43m)\u001b[49m\u001b[38;5;241;43m.\u001b[39;49m\u001b[43mmean\u001b[49m\u001b[43m(\u001b[49m\u001b[43m)\u001b[49m\u001b[38;5;241m.\u001b[39mreset_index()\n\u001b[0;32m      6\u001b[0m \u001b[38;5;66;03m# Get the records with reasons and how long on average a delay took then sort\u001b[39;00m\n\u001b[0;32m      7\u001b[0m \u001b[38;5;66;03m# ---\u001b[39;00m\n\u001b[0;32m      8\u001b[0m \u001b[38;5;66;03m# YOUR CODE GOES BELOW\u001b[39;00m\n\u001b[0;32m      9\u001b[0m \u001b[38;5;66;03m#\u001b[39;00m\n",
      "File \u001b[1;32mc:\\Users\\user\\OneDrive\\Desktop\\Documents\\GitHub\\data-cleaning-with-python-project\\my_virtual_env\\Lib\\site-packages\\pandas\\core\\groupby\\groupby.py:2452\u001b[0m, in \u001b[0;36mGroupBy.mean\u001b[1;34m(self, numeric_only, engine, engine_kwargs)\u001b[0m\n\u001b[0;32m   2445\u001b[0m     \u001b[38;5;28;01mreturn\u001b[39;00m \u001b[38;5;28mself\u001b[39m\u001b[38;5;241m.\u001b[39m_numba_agg_general(\n\u001b[0;32m   2446\u001b[0m         grouped_mean,\n\u001b[0;32m   2447\u001b[0m         executor\u001b[38;5;241m.\u001b[39mfloat_dtype_mapping,\n\u001b[0;32m   2448\u001b[0m         engine_kwargs,\n\u001b[0;32m   2449\u001b[0m         min_periods\u001b[38;5;241m=\u001b[39m\u001b[38;5;241m0\u001b[39m,\n\u001b[0;32m   2450\u001b[0m     )\n\u001b[0;32m   2451\u001b[0m \u001b[38;5;28;01melse\u001b[39;00m:\n\u001b[1;32m-> 2452\u001b[0m     result \u001b[38;5;241m=\u001b[39m \u001b[38;5;28;43mself\u001b[39;49m\u001b[38;5;241;43m.\u001b[39;49m\u001b[43m_cython_agg_general\u001b[49m\u001b[43m(\u001b[49m\n\u001b[0;32m   2453\u001b[0m \u001b[43m        \u001b[49m\u001b[38;5;124;43m\"\u001b[39;49m\u001b[38;5;124;43mmean\u001b[39;49m\u001b[38;5;124;43m\"\u001b[39;49m\u001b[43m,\u001b[49m\n\u001b[0;32m   2454\u001b[0m \u001b[43m        \u001b[49m\u001b[43malt\u001b[49m\u001b[38;5;241;43m=\u001b[39;49m\u001b[38;5;28;43;01mlambda\u001b[39;49;00m\u001b[43m \u001b[49m\u001b[43mx\u001b[49m\u001b[43m:\u001b[49m\u001b[43m \u001b[49m\u001b[43mSeries\u001b[49m\u001b[43m(\u001b[49m\u001b[43mx\u001b[49m\u001b[43m,\u001b[49m\u001b[43m \u001b[49m\u001b[43mcopy\u001b[49m\u001b[38;5;241;43m=\u001b[39;49m\u001b[38;5;28;43;01mFalse\u001b[39;49;00m\u001b[43m)\u001b[49m\u001b[38;5;241;43m.\u001b[39;49m\u001b[43mmean\u001b[49m\u001b[43m(\u001b[49m\u001b[43mnumeric_only\u001b[49m\u001b[38;5;241;43m=\u001b[39;49m\u001b[43mnumeric_only\u001b[49m\u001b[43m)\u001b[49m\u001b[43m,\u001b[49m\n\u001b[0;32m   2455\u001b[0m \u001b[43m        \u001b[49m\u001b[43mnumeric_only\u001b[49m\u001b[38;5;241;43m=\u001b[39;49m\u001b[43mnumeric_only\u001b[49m\u001b[43m,\u001b[49m\n\u001b[0;32m   2456\u001b[0m \u001b[43m    \u001b[49m\u001b[43m)\u001b[49m\n\u001b[0;32m   2457\u001b[0m     \u001b[38;5;28;01mreturn\u001b[39;00m result\u001b[38;5;241m.\u001b[39m__finalize__(\u001b[38;5;28mself\u001b[39m\u001b[38;5;241m.\u001b[39mobj, method\u001b[38;5;241m=\u001b[39m\u001b[38;5;124m\"\u001b[39m\u001b[38;5;124mgroupby\u001b[39m\u001b[38;5;124m\"\u001b[39m)\n",
      "File \u001b[1;32mc:\\Users\\user\\OneDrive\\Desktop\\Documents\\GitHub\\data-cleaning-with-python-project\\my_virtual_env\\Lib\\site-packages\\pandas\\core\\groupby\\groupby.py:1998\u001b[0m, in \u001b[0;36mGroupBy._cython_agg_general\u001b[1;34m(self, how, alt, numeric_only, min_count, **kwargs)\u001b[0m\n\u001b[0;32m   1995\u001b[0m     result \u001b[38;5;241m=\u001b[39m \u001b[38;5;28mself\u001b[39m\u001b[38;5;241m.\u001b[39m_agg_py_fallback(how, values, ndim\u001b[38;5;241m=\u001b[39mdata\u001b[38;5;241m.\u001b[39mndim, alt\u001b[38;5;241m=\u001b[39malt)\n\u001b[0;32m   1996\u001b[0m     \u001b[38;5;28;01mreturn\u001b[39;00m result\n\u001b[1;32m-> 1998\u001b[0m new_mgr \u001b[38;5;241m=\u001b[39m \u001b[43mdata\u001b[49m\u001b[38;5;241;43m.\u001b[39;49m\u001b[43mgrouped_reduce\u001b[49m\u001b[43m(\u001b[49m\u001b[43marray_func\u001b[49m\u001b[43m)\u001b[49m\n\u001b[0;32m   1999\u001b[0m res \u001b[38;5;241m=\u001b[39m \u001b[38;5;28mself\u001b[39m\u001b[38;5;241m.\u001b[39m_wrap_agged_manager(new_mgr)\n\u001b[0;32m   2000\u001b[0m \u001b[38;5;28;01mif\u001b[39;00m how \u001b[38;5;129;01min\u001b[39;00m [\u001b[38;5;124m\"\u001b[39m\u001b[38;5;124midxmin\u001b[39m\u001b[38;5;124m\"\u001b[39m, \u001b[38;5;124m\"\u001b[39m\u001b[38;5;124midxmax\u001b[39m\u001b[38;5;124m\"\u001b[39m]:\n",
      "File \u001b[1;32mc:\\Users\\user\\OneDrive\\Desktop\\Documents\\GitHub\\data-cleaning-with-python-project\\my_virtual_env\\Lib\\site-packages\\pandas\\core\\internals\\managers.py:1469\u001b[0m, in \u001b[0;36mBlockManager.grouped_reduce\u001b[1;34m(self, func)\u001b[0m\n\u001b[0;32m   1465\u001b[0m \u001b[38;5;28;01mif\u001b[39;00m blk\u001b[38;5;241m.\u001b[39mis_object:\n\u001b[0;32m   1466\u001b[0m     \u001b[38;5;66;03m# split on object-dtype blocks bc some columns may raise\u001b[39;00m\n\u001b[0;32m   1467\u001b[0m     \u001b[38;5;66;03m#  while others do not.\u001b[39;00m\n\u001b[0;32m   1468\u001b[0m     \u001b[38;5;28;01mfor\u001b[39;00m sb \u001b[38;5;129;01min\u001b[39;00m blk\u001b[38;5;241m.\u001b[39m_split():\n\u001b[1;32m-> 1469\u001b[0m         applied \u001b[38;5;241m=\u001b[39m \u001b[43msb\u001b[49m\u001b[38;5;241;43m.\u001b[39;49m\u001b[43mapply\u001b[49m\u001b[43m(\u001b[49m\u001b[43mfunc\u001b[49m\u001b[43m)\u001b[49m\n\u001b[0;32m   1470\u001b[0m         result_blocks \u001b[38;5;241m=\u001b[39m extend_blocks(applied, result_blocks)\n\u001b[0;32m   1471\u001b[0m \u001b[38;5;28;01melse\u001b[39;00m:\n",
      "File \u001b[1;32mc:\\Users\\user\\OneDrive\\Desktop\\Documents\\GitHub\\data-cleaning-with-python-project\\my_virtual_env\\Lib\\site-packages\\pandas\\core\\internals\\blocks.py:393\u001b[0m, in \u001b[0;36mBlock.apply\u001b[1;34m(self, func, **kwargs)\u001b[0m\n\u001b[0;32m    387\u001b[0m \u001b[38;5;129m@final\u001b[39m\n\u001b[0;32m    388\u001b[0m \u001b[38;5;28;01mdef\u001b[39;00m\u001b[38;5;250m \u001b[39m\u001b[38;5;21mapply\u001b[39m(\u001b[38;5;28mself\u001b[39m, func, \u001b[38;5;241m*\u001b[39m\u001b[38;5;241m*\u001b[39mkwargs) \u001b[38;5;241m-\u001b[39m\u001b[38;5;241m>\u001b[39m \u001b[38;5;28mlist\u001b[39m[Block]:\n\u001b[0;32m    389\u001b[0m \u001b[38;5;250m    \u001b[39m\u001b[38;5;124;03m\"\"\"\u001b[39;00m\n\u001b[0;32m    390\u001b[0m \u001b[38;5;124;03m    apply the function to my values; return a block if we are not\u001b[39;00m\n\u001b[0;32m    391\u001b[0m \u001b[38;5;124;03m    one\u001b[39;00m\n\u001b[0;32m    392\u001b[0m \u001b[38;5;124;03m    \"\"\"\u001b[39;00m\n\u001b[1;32m--> 393\u001b[0m     result \u001b[38;5;241m=\u001b[39m \u001b[43mfunc\u001b[49m\u001b[43m(\u001b[49m\u001b[38;5;28;43mself\u001b[39;49m\u001b[38;5;241;43m.\u001b[39;49m\u001b[43mvalues\u001b[49m\u001b[43m,\u001b[49m\u001b[43m \u001b[49m\u001b[38;5;241;43m*\u001b[39;49m\u001b[38;5;241;43m*\u001b[39;49m\u001b[43mkwargs\u001b[49m\u001b[43m)\u001b[49m\n\u001b[0;32m    395\u001b[0m     result \u001b[38;5;241m=\u001b[39m maybe_coerce_values(result)\n\u001b[0;32m    396\u001b[0m     \u001b[38;5;28;01mreturn\u001b[39;00m \u001b[38;5;28mself\u001b[39m\u001b[38;5;241m.\u001b[39m_split_op_result(result)\n",
      "File \u001b[1;32mc:\\Users\\user\\OneDrive\\Desktop\\Documents\\GitHub\\data-cleaning-with-python-project\\my_virtual_env\\Lib\\site-packages\\pandas\\core\\groupby\\groupby.py:1995\u001b[0m, in \u001b[0;36mGroupBy._cython_agg_general.<locals>.array_func\u001b[1;34m(values)\u001b[0m\n\u001b[0;32m   1992\u001b[0m     \u001b[38;5;28;01mreturn\u001b[39;00m result\n\u001b[0;32m   1994\u001b[0m \u001b[38;5;28;01massert\u001b[39;00m alt \u001b[38;5;129;01mis\u001b[39;00m \u001b[38;5;129;01mnot\u001b[39;00m \u001b[38;5;28;01mNone\u001b[39;00m\n\u001b[1;32m-> 1995\u001b[0m result \u001b[38;5;241m=\u001b[39m \u001b[38;5;28;43mself\u001b[39;49m\u001b[38;5;241;43m.\u001b[39;49m\u001b[43m_agg_py_fallback\u001b[49m\u001b[43m(\u001b[49m\u001b[43mhow\u001b[49m\u001b[43m,\u001b[49m\u001b[43m \u001b[49m\u001b[43mvalues\u001b[49m\u001b[43m,\u001b[49m\u001b[43m \u001b[49m\u001b[43mndim\u001b[49m\u001b[38;5;241;43m=\u001b[39;49m\u001b[43mdata\u001b[49m\u001b[38;5;241;43m.\u001b[39;49m\u001b[43mndim\u001b[49m\u001b[43m,\u001b[49m\u001b[43m \u001b[49m\u001b[43malt\u001b[49m\u001b[38;5;241;43m=\u001b[39;49m\u001b[43malt\u001b[49m\u001b[43m)\u001b[49m\n\u001b[0;32m   1996\u001b[0m \u001b[38;5;28;01mreturn\u001b[39;00m result\n",
      "File \u001b[1;32mc:\\Users\\user\\OneDrive\\Desktop\\Documents\\GitHub\\data-cleaning-with-python-project\\my_virtual_env\\Lib\\site-packages\\pandas\\core\\groupby\\groupby.py:1946\u001b[0m, in \u001b[0;36mGroupBy._agg_py_fallback\u001b[1;34m(self, how, values, ndim, alt)\u001b[0m\n\u001b[0;32m   1944\u001b[0m     msg \u001b[38;5;241m=\u001b[39m \u001b[38;5;124mf\u001b[39m\u001b[38;5;124m\"\u001b[39m\u001b[38;5;124magg function failed [how->\u001b[39m\u001b[38;5;132;01m{\u001b[39;00mhow\u001b[38;5;132;01m}\u001b[39;00m\u001b[38;5;124m,dtype->\u001b[39m\u001b[38;5;132;01m{\u001b[39;00mser\u001b[38;5;241m.\u001b[39mdtype\u001b[38;5;132;01m}\u001b[39;00m\u001b[38;5;124m]\u001b[39m\u001b[38;5;124m\"\u001b[39m\n\u001b[0;32m   1945\u001b[0m     \u001b[38;5;66;03m# preserve the kind of exception that raised\u001b[39;00m\n\u001b[1;32m-> 1946\u001b[0m     \u001b[38;5;28;01mraise\u001b[39;00m \u001b[38;5;28mtype\u001b[39m(err)(msg) \u001b[38;5;28;01mfrom\u001b[39;00m\u001b[38;5;250m \u001b[39m\u001b[38;5;21;01merr\u001b[39;00m\n\u001b[0;32m   1948\u001b[0m \u001b[38;5;28;01mif\u001b[39;00m ser\u001b[38;5;241m.\u001b[39mdtype \u001b[38;5;241m==\u001b[39m \u001b[38;5;28mobject\u001b[39m:\n\u001b[0;32m   1949\u001b[0m     res_values \u001b[38;5;241m=\u001b[39m res_values\u001b[38;5;241m.\u001b[39mastype(\u001b[38;5;28mobject\u001b[39m, copy\u001b[38;5;241m=\u001b[39m\u001b[38;5;28;01mFalse\u001b[39;00m)\n",
      "\u001b[1;31mTypeError\u001b[0m: agg function failed [how->mean,dtype->object]"
     ]
    }
   ],
   "source": [
    "# 6. What was the average delay time for each reason type?\n",
    "# ---\n",
    "#\n",
    "avg_delay = df_clean.groupby('reason').mean().reset_index()\n",
    "\n",
    "# Get the records with reasons and how long on average a delay took then sort\n",
    "# ---\n",
    "# YOUR CODE GOES BELOW\n",
    "#"
   ]
  },
  {
   "cell_type": "markdown",
   "metadata": {
    "id": "cpmGSOOqIMrt"
   },
   "source": [
    "### 5.b) Recommendations"
   ]
  },
  {
   "cell_type": "markdown",
   "metadata": {
    "id": "wDn2whdV0Zcg"
   },
   "source": [
    "From the above analysis, below are our recommendations:\n",
    "\n",
    "1.   \n",
    "2.   \n",
    "\n",
    "\n",
    "\n"
   ]
  },
  {
   "cell_type": "markdown",
   "metadata": {
    "id": "noZz5YRQXKzi"
   },
   "source": [
    "## 6. Challenging your Solution"
   ]
  },
  {
   "cell_type": "markdown",
   "metadata": {
    "id": "wdMBFVe0XSgf"
   },
   "source": [
    "During this step, we review our solution and implement  approaches that could potentially provide a better outcome. In our case, we could propose the following question that wasn't answered in our solution because it couldn't have greatly contributed to our recommendation."
   ]
  },
  {
   "cell_type": "code",
   "execution_count": null,
   "metadata": {
    "id": "VNx-Yqb8XKzk"
   },
   "outputs": [],
   "source": [
    "# Which boroughs experienced the most breakdowns?\n",
    "# ---\n",
    "#\n",
    "breakdowns = df_clean.groupby(['borough']).count()\n",
    "\n",
    "# Sort to get bus company with highest breakdowns\n",
    "# ---\n",
    "# YOUR CODE GOES BELOW\n",
    "#"
   ]
  },
  {
   "cell_type": "markdown",
   "metadata": {
    "id": "k6kKzd-F1UW7"
   },
   "source": [
    "Our observations:\n",
    "\n",
    "1.   \n",
    "2.  \n",
    "\n",
    "\n",
    "How does this observation tie to our solution?\n",
    "\n"
   ]
  },
  {
   "cell_type": "markdown",
   "metadata": {
    "id": "xrmHVMVsVS--"
   },
   "source": [
    "## 7. Follow up questions"
   ]
  },
  {
   "cell_type": "markdown",
   "metadata": {
    "id": "pth2qSWhuBIy"
   },
   "source": [
    "During this step, you rethink and propose other ways that you can improve your solution."
   ]
  },
  {
   "cell_type": "markdown",
   "metadata": {
    "id": "HPQviDmNtta8"
   },
   "source": [
    "### a). Did we have the right data?"
   ]
  },
  {
   "cell_type": "markdown",
   "metadata": {
    "id": "qjFHK1CKty7o"
   },
   "source": [
    "### b). Do we need other data to answer our question?"
   ]
  },
  {
   "cell_type": "markdown",
   "metadata": {
    "id": "SyJMFjvmKePc"
   },
   "source": [
    "You can look into the questions you brainstormed that you weren't taken into account during analysis due to a lack of data. Were those questions important to have been left out  of your analysis?"
   ]
  },
  {
   "cell_type": "markdown",
   "metadata": {
    "id": "HSsicSdvt4Zs"
   },
   "source": [
    "### c). Did we have the right question?"
   ]
  },
  {
   "cell_type": "markdown",
   "metadata": {
    "id": "DvVFZGvNKfSv"
   },
   "source": [
    "Were there any other questions that we needed to have answered?"
   ]
  }
 ],
 "metadata": {
  "colab": {
   "provenance": [],
   "toc_visible": true
  },
  "kernelspec": {
   "display_name": "my_virtual_env",
   "language": "python",
   "name": "python3"
  },
  "language_info": {
   "codemirror_mode": {
    "name": "ipython",
    "version": 3
   },
   "file_extension": ".py",
   "mimetype": "text/x-python",
   "name": "python",
   "nbconvert_exporter": "python",
   "pygments_lexer": "ipython3",
   "version": "3.11.9"
  }
 },
 "nbformat": 4,
 "nbformat_minor": 4
}
